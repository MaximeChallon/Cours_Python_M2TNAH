{
 "cells": [
  {
   "cell_type": "markdown",
   "metadata": {},
   "source": [
    "## Exercice 1\n",
    "\n",
    "Créer une fonction qui conjuge un verbe du premier groupe au présent de l'indicatif à la personne demandée telle que:"
   ]
  },
  {
   "cell_type": "code",
   "execution_count": 105,
   "metadata": {},
   "outputs": [
    {
     "name": "stdout",
     "output_type": "stream",
     "text": [
      "manges\n",
      "balayez\n",
      "travaillons\n",
      "manges\n"
     ]
    },
    {
     "ename": "AssertionError",
     "evalue": "",
     "output_type": "error",
     "traceback": [
      "\u001b[0;31m---------------------------------------------------------------------------\u001b[0m",
      "\u001b[0;31mAssertionError\u001b[0m                            Traceback (most recent call last)",
      "\u001b[0;32m<ipython-input-105-6f58dad451ad>\u001b[0m in \u001b[0;36m<module>\u001b[0;34m\u001b[0m\n\u001b[1;32m     19\u001b[0m \u001b[0;34m\u001b[0m\u001b[0m\n\u001b[1;32m     20\u001b[0m \u001b[0;31m# Vérification\u001b[0m\u001b[0;34m\u001b[0m\u001b[0;34m\u001b[0m\u001b[0;34m\u001b[0m\u001b[0m\n\u001b[0;32m---> 21\u001b[0;31m \u001b[0;32massert\u001b[0m \u001b[0mconjugue\u001b[0m\u001b[0;34m(\u001b[0m\u001b[0;34m\"manger\"\u001b[0m\u001b[0;34m,\u001b[0m \u001b[0;36m2\u001b[0m\u001b[0;34m)\u001b[0m \u001b[0;34m==\u001b[0m \u001b[0;34m\"manges\"\u001b[0m\u001b[0;34m\u001b[0m\u001b[0;34m\u001b[0m\u001b[0m\n\u001b[0m\u001b[1;32m     22\u001b[0m \u001b[0;32massert\u001b[0m \u001b[0mconjugue\u001b[0m\u001b[0;34m(\u001b[0m\u001b[0;34m\"balayer\"\u001b[0m\u001b[0;34m,\u001b[0m \u001b[0;36m5\u001b[0m\u001b[0;34m)\u001b[0m \u001b[0;34m==\u001b[0m \u001b[0;34m\"balayez\"\u001b[0m\u001b[0;34m\u001b[0m\u001b[0;34m\u001b[0m\u001b[0m\n\u001b[1;32m     23\u001b[0m \u001b[0;32massert\u001b[0m \u001b[0mconjugue\u001b[0m\u001b[0;34m(\u001b[0m\u001b[0;34m\"travailler\"\u001b[0m\u001b[0;34m,\u001b[0m \u001b[0;36m4\u001b[0m\u001b[0;34m)\u001b[0m \u001b[0;34m==\u001b[0m \u001b[0;34m\"travaillons\"\u001b[0m\u001b[0;34m\u001b[0m\u001b[0;34m\u001b[0m\u001b[0m\n",
      "\u001b[0;31mAssertionError\u001b[0m: "
     ]
    }
   ],
   "source": [
    "def conjugue (verbe, personne):\n",
    "    n = verbe\n",
    "    # je vérifie que l'infintif a bien été donné si les deux derniers caracteres sont er\n",
    "    if n[-2:] == 'er':\n",
    "        #pour les verbes en \"ger\" et en \"cer\" de la quatrième personne\n",
    "        if (n[-3:] == \"cer\" or n[-3:] == \"ger\") and personne == 4:\n",
    "            verbe_conjugue = n[:-2] + \"e\" + terminaisons_present[personne - 1]\n",
    "        #pour le reste des cas\n",
    "        else:\n",
    "            verbe_conjugue = n[:-2] + terminaisons_present[personne - 1]\n",
    "    print(verbe_conjugue)\n",
    "    \n",
    "#la liste des terminaisons\n",
    "terminaisons_present = [\"e\", \"es\", \"e\", \"ons\", \"ez\", \"ent\"]\n",
    "\n",
    "#appels de la fonction\n",
    "conjugue(\"manger\", 2)\n",
    "conjugue(\"balayer\", 5)\n",
    "conjugue(\"travailler\", 4)\n",
    "\n",
    "# Vérification\n",
    "assert conjugue(\"manger\", 2) == \"manges\"\n",
    "assert conjugue(\"balayer\", 5) == \"balayez\"\n",
    "assert conjugue(\"travailler\", 4) == \"travaillons\""
   ]
  },
  {
   "cell_type": "markdown",
   "metadata": {},
   "source": [
    "## Exercice 2\n",
    "\n",
    "Créer une fonction qui conjuge un verbe du premier groupe au temps de l'indicatif demandé (entre présent et imparfait)\n",
    "à la personne demandée telle que:"
   ]
  },
  {
   "cell_type": "code",
   "execution_count": 108,
   "metadata": {},
   "outputs": [
    {
     "name": "stdout",
     "output_type": "stream",
     "text": [
      "manges\n",
      "balayez\n",
      "travaillions\n",
      "manges\n"
     ]
    },
    {
     "ename": "AssertionError",
     "evalue": "",
     "output_type": "error",
     "traceback": [
      "\u001b[0;31m---------------------------------------------------------------------------\u001b[0m",
      "\u001b[0;31mAssertionError\u001b[0m                            Traceback (most recent call last)",
      "\u001b[0;32m<ipython-input-108-170e73361ba9>\u001b[0m in \u001b[0;36m<module>\u001b[0;34m\u001b[0m\n\u001b[1;32m     39\u001b[0m \u001b[0;34m\u001b[0m\u001b[0m\n\u001b[1;32m     40\u001b[0m \u001b[0;31m# Vérification\u001b[0m\u001b[0;34m\u001b[0m\u001b[0;34m\u001b[0m\u001b[0;34m\u001b[0m\u001b[0m\n\u001b[0;32m---> 41\u001b[0;31m \u001b[0;32massert\u001b[0m \u001b[0mconjugue\u001b[0m\u001b[0;34m(\u001b[0m\u001b[0;34m\"manger\"\u001b[0m\u001b[0;34m,\u001b[0m \u001b[0;36m2\u001b[0m\u001b[0;34m,\u001b[0m \u001b[0;34m\"présent\"\u001b[0m\u001b[0;34m)\u001b[0m \u001b[0;34m==\u001b[0m \u001b[0;34m\"manges\"\u001b[0m\u001b[0;34m\u001b[0m\u001b[0;34m\u001b[0m\u001b[0m\n\u001b[0m\u001b[1;32m     42\u001b[0m \u001b[0;32massert\u001b[0m \u001b[0mconjugue\u001b[0m\u001b[0;34m(\u001b[0m\u001b[0;34m\"balayer\"\u001b[0m\u001b[0;34m,\u001b[0m \u001b[0;36m5\u001b[0m\u001b[0;34m,\u001b[0m \u001b[0;34m\"présent\"\u001b[0m\u001b[0;34m)\u001b[0m \u001b[0;34m==\u001b[0m \u001b[0;34m\"balayez\"\u001b[0m\u001b[0;34m\u001b[0m\u001b[0;34m\u001b[0m\u001b[0m\n\u001b[1;32m     43\u001b[0m \u001b[0;32massert\u001b[0m \u001b[0mconjugue\u001b[0m\u001b[0;34m(\u001b[0m\u001b[0;34m\"travailler\"\u001b[0m\u001b[0;34m,\u001b[0m \u001b[0;36m4\u001b[0m\u001b[0;34m,\u001b[0m \u001b[0;34m\"imparfait\"\u001b[0m\u001b[0;34m)\u001b[0m \u001b[0;34m==\u001b[0m \u001b[0;34m\"travaillions\"\u001b[0m\u001b[0;34m\u001b[0m\u001b[0;34m\u001b[0m\u001b[0m\n",
      "\u001b[0;31mAssertionError\u001b[0m: "
     ]
    }
   ],
   "source": [
    "def conjugue (verbe, personne, temps):\n",
    "    n = verbe\n",
    "    # je vérifie que l'infintif a bien été donné si les deux derniers caracteres sont er\n",
    "    if n[-2:] == 'er':\n",
    "        if temps == \"présent\": \n",
    "            #pour les verbes en \"ger\" et en \"cer\" de la quatrième personne\n",
    "            if (n[-3:] == \"cer\" or n[-3:] == \"ger\") and personne == 4:\n",
    "                verbe_conjugue = n[:-2] + \"e\" + terminaisons_present[personne - 1]\n",
    "            #pour le reste des cas\n",
    "            else:\n",
    "                verbe_conjugue = n[:-2] + terminaisons_present[personne - 1]\n",
    "        #pour l'imparfait\n",
    "        else:\n",
    "            #pour les verbes en \"cer\" \n",
    "            if n[-3:] == \"cer\":\n",
    "                if personne == 1 or personne == 2 or personne == 3 or personne == 6:\n",
    "                    verbe_conjugue = n[:-2] + \"ç\" + terminaisons_imparfait[personne - 1]\n",
    "                else:\n",
    "                    verbe_conjugue = n[:-2] + \"i\" + terminaisons_imparfait[personne - 1]\n",
    "            #pour les verbes en \"ger\"\n",
    "            elif n[-3:] == \"ger\":\n",
    "                if personne == 1 or personne == 2 or personne == 3 or personne == 6:\n",
    "                    verbe_conjugue = n[:-2] + \"e\" + terminaisons_imparfait[personne - 1]\n",
    "                else:\n",
    "                    verbe_conjugue = n[:-2] + terminaisons_imparfait[personne - 1]\n",
    "            #pour le reste des verbes\n",
    "            else:\n",
    "                verbe_conjugue = n[:-2] + terminaisons_imparfait[personne - 1] \n",
    "    print(verbe_conjugue)\n",
    "    \n",
    "#la liste des terminaisons\n",
    "terminaisons_present = [\"e\", \"es\", \"e\", \"ons\", \"ez\", \"ent\"]\n",
    "terminaisons_imparfait = [\"ais\", \"ais\", \"ait\", \"ions\", \"iez\", \"aient\"]\n",
    "\n",
    "#appels de la fonction\n",
    "conjugue(\"manger\", 2, \"présent\")\n",
    "conjugue(\"balayer\", 5, \"présent\")\n",
    "conjugue(\"travailler\", 4, \"imparfait\")\n",
    "\n",
    "# Vérification\n",
    "assert conjugue(\"manger\", 2, \"présent\") == \"manges\"\n",
    "assert conjugue(\"balayer\", 5, \"présent\") == \"balayez\"\n",
    "assert conjugue(\"travailler\", 4, \"imparfait\") == \"travaillions\""
   ]
  },
  {
   "cell_type": "markdown",
   "metadata": {},
   "source": [
    "## Exercice 3\n",
    "\n",
    "Créer une fonction qui détermine le verbe, les temps et les personnes possible d'un verbe conjugé au premier groupe, telle que:"
   ]
  },
  {
   "cell_type": "code",
   "execution_count": null,
   "metadata": {},
   "outputs": [],
   "source": [
    "present = [\"e\", \"es\", \"e\", \"ons\", \"ez\", \"ent\"]\n",
    "imparfait = [\"ais\", \"ais\", \"ait\", \"ions\", \"iez\", \"aient\"]\n",
    "\n",
    "def analyse(verbe_conjugue):\n",
    "    for terminaison in present:\n",
    "        if terminaison == verbe_conjugue[-(len(terminaison)-1):]:\n",
    "            print(forme_verbe.items())#il faut renvoyer des tuples\n",
    "\n",
    "# Vérification\n",
    "#assert analyse(\"mange\") == [(\"manger\", 1, \"présent\"), (\"manger\", 3, \"présent\")]\n",
    "#assert analyse(\"balayez\") == [(\"balayer\", 5, \"présent\")]\n",
    "#assert analyse(\"travaillions\") == [(\"travailler\", 3, \"imparfait\")]"
   ]
  },
  {
   "cell_type": "markdown",
   "metadata": {},
   "source": [
    "## Exercice 4\n",
    "\n",
    "Créer une fonction qui pour un fichier texte donné compte le nombre de mots et retourne les 5 mots les plus fréquents."
   ]
  },
  {
   "cell_type": "code",
   "execution_count": null,
   "metadata": {},
   "outputs": [],
   "source": []
  },
  {
   "cell_type": "code",
   "execution_count": null,
   "metadata": {},
   "outputs": [],
   "source": [
    "# Vérification\n",
    "assert top5(\"../data/Ballade.XXVIII.dePisan.txt\") == [('que', 5), ('de', 5), ('car', 6), ('ne', 7), ('vous', 10)]\n",
    "assert top5(\"../data/lettre.louisemichel.txt\") == [('vous', 12), ('ne', 13), ('me', 13), ('que', 15), ('je', 30)]"
   ]
  }
 ],
 "metadata": {
  "kernelspec": {
   "display_name": "Python 3",
   "language": "python",
   "name": "python3"
  },
  "language_info": {
   "codemirror_mode": {
    "name": "ipython",
    "version": 3
   },
   "file_extension": ".py",
   "mimetype": "text/x-python",
   "name": "python",
   "nbconvert_exporter": "python",
   "pygments_lexer": "ipython3",
   "version": "3.6.8"
  }
 },
 "nbformat": 4,
 "nbformat_minor": 2
}
