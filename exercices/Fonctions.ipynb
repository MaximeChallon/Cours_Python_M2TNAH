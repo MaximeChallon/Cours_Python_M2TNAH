{
 "cells": [
  {
   "cell_type": "markdown",
   "metadata": {},
   "source": [
    "## Exercice 1\n",
    "\n",
    "Créer une fonction qui conjuge un verbe du premier groupe au présent de l'indicatif à la personne demandée telle que:"
   ]
  },
  {
   "cell_type": "code",
<<<<<<< HEAD
   "execution_count": 1,
=======
   "execution_count": 3,
>>>>>>> d63ea9dcd300539e9404dbd3c52d9adf33d1ce97
   "metadata": {},
   "outputs": [
    {
     "name": "stdout",
     "output_type": "stream",
     "text": [
      "manges\n",
      "balayez\n",
      "travaillons\n",
      "manges\n"
     ]
    },
    {
     "ename": "AssertionError",
     "evalue": "",
     "output_type": "error",
     "traceback": [
      "\u001b[0;31m---------------------------------------------------------------------------\u001b[0m",
      "\u001b[0;31mAssertionError\u001b[0m                            Traceback (most recent call last)",
<<<<<<< HEAD
      "\u001b[0;32m<ipython-input-1-90afece739b6>\u001b[0m in \u001b[0;36m<module>\u001b[0;34m\u001b[0m\n\u001b[1;32m     20\u001b[0m \u001b[0;34m\u001b[0m\u001b[0m\n\u001b[1;32m     21\u001b[0m \u001b[0;31m# Vérification\u001b[0m\u001b[0;34m\u001b[0m\u001b[0;34m\u001b[0m\u001b[0;34m\u001b[0m\u001b[0m\n\u001b[0;32m---> 22\u001b[0;31m \u001b[0;32massert\u001b[0m \u001b[0mconjugue\u001b[0m\u001b[0;34m(\u001b[0m\u001b[0;34m\"manger\"\u001b[0m\u001b[0;34m,\u001b[0m \u001b[0;36m2\u001b[0m\u001b[0;34m)\u001b[0m \u001b[0;34m==\u001b[0m \u001b[0;34m\"manges\"\u001b[0m\u001b[0;34m\u001b[0m\u001b[0;34m\u001b[0m\u001b[0m\n\u001b[0m\u001b[1;32m     23\u001b[0m \u001b[0;32massert\u001b[0m \u001b[0mconjugue\u001b[0m\u001b[0;34m(\u001b[0m\u001b[0;34m\"balayer\"\u001b[0m\u001b[0;34m,\u001b[0m \u001b[0;36m5\u001b[0m\u001b[0;34m)\u001b[0m \u001b[0;34m==\u001b[0m \u001b[0;34m\"balayez\"\u001b[0m\u001b[0;34m\u001b[0m\u001b[0;34m\u001b[0m\u001b[0m\n\u001b[1;32m     24\u001b[0m \u001b[0;32massert\u001b[0m \u001b[0mconjugue\u001b[0m\u001b[0;34m(\u001b[0m\u001b[0;34m\"travailler\"\u001b[0m\u001b[0;34m,\u001b[0m \u001b[0;36m4\u001b[0m\u001b[0;34m)\u001b[0m \u001b[0;34m==\u001b[0m \u001b[0;34m\"travaillons\"\u001b[0m\u001b[0;34m\u001b[0m\u001b[0;34m\u001b[0m\u001b[0m\n",
=======
      "\u001b[0;32m<ipython-input-3-90afece739b6>\u001b[0m in \u001b[0;36m<module>\u001b[0;34m\u001b[0m\n\u001b[1;32m     20\u001b[0m \u001b[0;34m\u001b[0m\u001b[0m\n\u001b[1;32m     21\u001b[0m \u001b[0;31m# Vérification\u001b[0m\u001b[0;34m\u001b[0m\u001b[0;34m\u001b[0m\u001b[0;34m\u001b[0m\u001b[0m\n\u001b[0;32m---> 22\u001b[0;31m \u001b[0;32massert\u001b[0m \u001b[0mconjugue\u001b[0m\u001b[0;34m(\u001b[0m\u001b[0;34m\"manger\"\u001b[0m\u001b[0;34m,\u001b[0m \u001b[0;36m2\u001b[0m\u001b[0;34m)\u001b[0m \u001b[0;34m==\u001b[0m \u001b[0;34m\"manges\"\u001b[0m\u001b[0;34m\u001b[0m\u001b[0;34m\u001b[0m\u001b[0m\n\u001b[0m\u001b[1;32m     23\u001b[0m \u001b[0;32massert\u001b[0m \u001b[0mconjugue\u001b[0m\u001b[0;34m(\u001b[0m\u001b[0;34m\"balayer\"\u001b[0m\u001b[0;34m,\u001b[0m \u001b[0;36m5\u001b[0m\u001b[0;34m)\u001b[0m \u001b[0;34m==\u001b[0m \u001b[0;34m\"balayez\"\u001b[0m\u001b[0;34m\u001b[0m\u001b[0;34m\u001b[0m\u001b[0m\n\u001b[1;32m     24\u001b[0m \u001b[0;32massert\u001b[0m \u001b[0mconjugue\u001b[0m\u001b[0;34m(\u001b[0m\u001b[0;34m\"travailler\"\u001b[0m\u001b[0;34m,\u001b[0m \u001b[0;36m4\u001b[0m\u001b[0;34m)\u001b[0m \u001b[0;34m==\u001b[0m \u001b[0;34m\"travaillons\"\u001b[0m\u001b[0;34m\u001b[0m\u001b[0;34m\u001b[0m\u001b[0m\n",
>>>>>>> d63ea9dcd300539e9404dbd3c52d9adf33d1ce97
      "\u001b[0;31mAssertionError\u001b[0m: "
     ]
    }
   ],
   "source": [
    "def conjugue (verbe, personne):\n",
    "    n = verbe\n",
    "    # je vérifie que l'infintif a bien été donné si les deux derniers caracteres sont er\n",
    "    if n[-2:] == 'er':\n",
    "        #pour les verbes en \"ger\" et en \"cer\" de la quatrième personne\n",
    "        if (n[-3:] == \"cer\" or n[-3:] == \"ger\") and personne == 4:\n",
    "            verbe_conjugue = n[:-2] + \"e\" + terminaisons_present[personne - 1]\n",
    "        #pour le reste des cas\n",
    "        else:\n",
    "            verbe_conjugue = n[:-2] + terminaisons_present[personne - 1]\n",
    "    print(verbe_conjugue)\n",
    "    \n",
    "#la liste des terminaisons\n",
    "terminaisons_present = [\"e\", \"es\", \"e\", \"ons\", \"ez\", \"ent\"]\n",
    "\n",
    "#appels de la fonction\n",
    "conjugue(\"manger\", 2)\n",
    "conjugue(\"balayer\", 5)\n",
    "conjugue(\"travailler\", 4)\n",
    "\n",
    "# Vérification\n",
    "assert conjugue(\"manger\", 2) == \"manges\"\n",
    "assert conjugue(\"balayer\", 5) == \"balayez\"\n",
    "assert conjugue(\"travailler\", 4) == \"travaillons\""
   ]
  },
  {
   "cell_type": "markdown",
   "metadata": {},
   "source": [
    "## Exercice 2\n",
    "\n",
    "Créer une fonction qui conjuge un verbe du premier groupe au temps de l'indicatif demandé (entre présent et imparfait)\n",
    "à la personne demandée telle que:"
   ]
  },
  {
   "cell_type": "code",
   "execution_count": null,
   "metadata": {},
   "outputs": [],
   "source": [
    "def conjugue (verbe, personne, temps):\n",
    "    n = verbe\n",
    "    # je vérifie que l'infintif a bien été donné si les deux derniers caracteres sont er\n",
    "    if n[-2:] == 'er':\n",
    "        if temps == \"présent\": \n",
    "            #pour les verbes en \"ger\" et en \"cer\" de la quatrième personne\n",
    "            if (n[-3:] == \"cer\" or n[-3:] == \"ger\") and personne == 4:\n",
    "                verbe_conjugue = n[:-2] + \"e\" + terminaisons_present[personne - 1]\n",
    "            #pour le reste des cas\n",
    "            else:\n",
    "                verbe_conjugue = n[:-2] + terminaisons_present[personne - 1]\n",
    "        #pour l'imparfait\n",
    "        else:\n",
    "            #pour les verbes en \"cer\" \n",
    "            if n[-3:] == \"cer\":\n",
    "                if personne == 1 or personne == 2 or personne == 3 or personne == 6:\n",
    "                    verbe_conjugue = n[:-2] + \"ç\" + terminaisons_imparfait[personne - 1]\n",
    "                else:\n",
    "                    verbe_conjugue = n[:-2] + \"i\" + terminaisons_imparfait[personne - 1]\n",
    "            #pour les verbes en \"ger\"\n",
    "            elif n[-3:] == \"ger\":\n",
    "                if personne == 1 or personne == 2 or personne == 3 or personne == 6:\n",
    "                    verbe_conjugue = n[:-2] + \"e\" + terminaisons_imparfait[personne - 1]\n",
    "                else:\n",
    "                    verbe_conjugue = n[:-2] + terminaisons_imparfait[personne - 1]\n",
    "            #pour le reste des verbes\n",
    "            else:\n",
    "                verbe_conjugue = n[:-2] + terminaisons_imparfait[personne - 1] \n",
    "    print(verbe_conjugue)\n",
    "    \n",
    "#la liste des terminaisons\n",
    "terminaisons_present = [\"e\", \"es\", \"e\", \"ons\", \"ez\", \"ent\"]\n",
    "terminaisons_imparfait = [\"ais\", \"ais\", \"ait\", \"ions\", \"iez\", \"aient\"]\n",
    "\n",
    "#appels de la fonction\n",
    "conjugue(\"manger\", 2, \"présent\")\n",
    "conjugue(\"balayer\", 5, \"présent\")\n",
    "conjugue(\"travailler\", 4, \"imparfait\")\n",
    "\n",
    "# Vérification\n",
    "assert conjugue(\"manger\", 2, \"présent\") == \"manges\"\n",
    "assert conjugue(\"balayer\", 5, \"présent\") == \"balayez\"\n",
    "assert conjugue(\"travailler\", 4, \"imparfait\") == \"travaillions\""
   ]
  },
  {
   "cell_type": "markdown",
   "metadata": {},
   "source": [
    "## Exercice 3\n",
    "\n",
    "Créer une fonction qui détermine le verbe, les temps et les personnes possible d'un verbe conjugé au premier groupe, telle que:"
   ]
  },
  {
   "cell_type": "code",
   "execution_count": 18,
   "metadata": {},
   "outputs": [
    {
     "name": "stdout",
     "output_type": "stream",
     "text": [
      "(manger, 3 , présent)\n",
      "(balayer, 5 , présent)\n",
      "(travaillier, 4 , présent)\n"
     ]
    }
   ],
   "source": [
    "present = {\"e\":1, \"es\":2, \"e\":3, \"ons\":4, \"ez\":5, \"ent\":6}\n",
    "imparfait = {\"ais\":1, \"ais\":2, \"ait\":3, \"ions\":4, \"iez\":5, \"aient\":6}\n",
    "\n",
    "def analyse(verbe_conjugue):\n",
    "    for terminaison in present.keys():\n",
    "        if terminaison == verbe_conjugue[-(len(terminaison)):]:\n",
    "            print(\"(\" + verbe_conjugue[:-(len(terminaison))] + \"er\" + \",\" , present[terminaison] , \", présent)\")\n",
    "analyse(\"mange\")\n",
    "analyse(\"balayez\")\n",
    "analyse(\"travaillions\")\n",
    "# Vérification\n",
    "#assert analyse(\"mange\") == [(\"manger\", 1, \"présent\"), (\"manger\", 3, \"présent\")]\n",
    "#assert analyse(\"balayez\") == [(\"balayer\", 5, \"présent\")]\n",
    "#assert analyse(\"travaillions\") == [(\"travailler\", 4, \"imparfait\")]"
   ]
  },
  {
   "cell_type": "markdown",
   "metadata": {},
   "source": [
    "## Exercice 4\n",
    "\n",
    "Créer une fonction qui pour un fichier texte donné compte le nombre de mots et retourne les 5 mots les plus fréquents."
   ]
  },
  {
   "cell_type": "code",
   "execution_count": 16,
   "metadata": {},
   "outputs": [
    {
     "name": "stdout",
     "output_type": "stream",
     "text": [
      "[('de', 5), ('car', 6), ('que', 6), ('ne', 7), ('vous', 11)]\n",
      "[('vous', 12), ('ne', 13), ('me', 13), ('que', 15), ('je', 30)]\n"
     ]
    }
   ],
   "source": [
    "def top5(fichier):\n",
    "    with open (fichier) as mon_fichier:\n",
    "        fichier_ouvert = mon_fichier.read()\n",
    "        #je nettoie mon fichier en mettant en minuscule et en supprimant la ponctuation\n",
    "        ponctuation = '!@#$%^&*()_-+={}[]:;\"\\'|<>,.?/~`'\n",
    "        fichier_propre = \"\"\n",
    "        for caractere in fichier_ouvert:\n",
    "            if caractere not in ponctuation:\n",
    "                charactere = caractere.lower()\n",
    "                fichier_propre += charactere\n",
    "        mots = fichier_propre.split()\n",
    "        #je compte les occurences de chaque mot\n",
    "        decompte = {}\n",
    "        for mot in mots:\n",
    "            if mot not in decompte:\n",
    "                decompte[mot] = mots.count(mot)\n",
    "        #je trie mon dictionnaire selon les valeurs: les plus élevées seront à la fin, d'où l'index négatif\n",
    "        tri_par_valeur = sorted(decompte.items(), key=lambda kv: kv[1])\n",
    "        return tri_par_valeur[-5:]\n",
    "print(top5(\"../data/Ballade.XXVIII.dePisan.txt\"))\n",
    "print(top5(\"../data/lettre.louisemichel.txt\"))\n",
    "\n",
    "# Vérification\n",
    "#assert top5(\"../data/Ballade.XXVIII.dePisan.txt\") == [('que', 5), ('de', 5), ('car', 6), ('ne', 7), ('vous', 10)]\n",
    "#assert top5(\"../data/lettre.louisemichel.txt\") == [('vous', 12), ('ne', 13), ('me', 13), ('que', 15), ('je', 30)]"
   ]
  }
 ],
 "metadata": {
  "kernelspec": {
   "display_name": "Python 3",
   "language": "python",
   "name": "python3"
  },
  "language_info": {
   "codemirror_mode": {
    "name": "ipython",
    "version": 3
   },
   "file_extension": ".py",
   "mimetype": "text/x-python",
   "name": "python",
   "nbconvert_exporter": "python",
   "pygments_lexer": "ipython3",
   "version": "3.7.3"
  }
 },
 "nbformat": 4,
 "nbformat_minor": 2
}
