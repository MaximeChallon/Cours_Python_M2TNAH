{
 "cells": [
  {
   "cell_type": "markdown",
   "metadata": {},
   "source": [
    "## Exercice 1\n",
    "\n",
    "Créer une fonction qui conjuge un verbe du premier groupe au présent de l'indicatif à la personne demandée telle que:"
   ]
  },
  {
   "cell_type": "code",
   "execution_count": 1,
   "metadata": {},
   "outputs": [],
   "source": [
    "def conjugue(infinitif, personne):\n",
    "    radical = infinitif[:-2]\n",
    "    suffixe = [\"e\",\"es\",\"e\",\"ons\",\"ez\",\"ent\"]\n",
    "    return radical + suffixe[personne-1]"
   ]
  },
  {
   "cell_type": "code",
   "execution_count": 2,
   "metadata": {},
   "outputs": [],
   "source": [
    "# Vérification\n",
    "assert conjugue(\"manger\", 2) == \"manges\"\n",
    "assert conjugue(\"balayer\", 5) == \"balayez\"\n",
    "assert conjugue(\"travailler\", 4) == \"travaillons\""
   ]
  },
  {
   "cell_type": "markdown",
   "metadata": {},
   "source": [
    "## Exercice 2\n",
    "\n",
    "Créer une fonction qui conjuge un verbe du premier groupe au temps de l'indicatif demandé (entre présent et imparfait)\n",
    "à la personne demandée telle que:"
   ]
  },
  {
   "cell_type": "code",
   "execution_count": 3,
   "metadata": {},
   "outputs": [],
   "source": [
    "def conjugue(infinitif, personne, temps):\n",
    "    radical = infinitif[:-2]\n",
    "    suffixes = {\n",
    "        \"présent\": [\"e\",\"es\",\"e\",\"ons\",\"ez\",\"ent\"],\n",
    "        \"imparfait\": [\"ais\",\"ais\",\"ait\",\"ions\",\"iez\",\"aient\"]\n",
    "    }\n",
    "    mediofix = \"\"\n",
    "    if temps == \"imparfait\":\n",
    "        if radical.endswith(\"g\"):\n",
    "            mediofix = \"e\"\n",
    "        \n",
    "    return radical + mediofix + suffixes[temps][personne-1]"
   ]
  },
  {
   "cell_type": "code",
   "execution_count": 12,
   "metadata": {},
   "outputs": [],
   "source": [
    "# Vérification\n",
    "assert conjugue(\"manger\", 2, \"présent\") == \"manges\"\n",
    "assert conjugue(\"balayer\", 5, \"présent\") == \"balayez\"\n",
    "assert conjugue(\"travailler\", 4, \"imparfait\") == \"travaillions\""
   ]
  },
  {
   "cell_type": "markdown",
   "metadata": {},
   "source": [
    "## Exercice 3\n",
    "\n",
    "Créer une fonction qui détermine le verbe, les temps et les personnes possible d'un verbe conjugé au premier groupe, telle que:"
   ]
  },
  {
   "cell_type": "code",
   "execution_count": 21,
   "metadata": {},
   "outputs": [],
   "source": [
    "def analyse(verbe):\n",
    "    suffixes = {\n",
    "        \"présent\": [\"e\",\"es\",\"e\",\"ons\",\"ez\",\"ent\"],\n",
    "        \"imparfait\": [\"ais\",\"ais\",\"ait\",\"ions\",\"iez\",\"aient\"]\n",
    "    }\n",
    "    possible = []\n",
    "    for temps, personnes in suffixes.items():\n",
    "        for personne, suff in enumerate(personnes):\n",
    "            if verbe.endswith(suff):\n",
    "                radical = verbe[:-len(suff)]\n",
    "                possible.append((radical+\"er\", personne+1, temps))\n",
    "    return possible\n",
    "        "
   ]
  },
  {
   "cell_type": "code",
   "execution_count": 28,
   "metadata": {},
   "outputs": [],
   "source": [
    "# Vérification\n",
    "assert analyse(\"mange\") == [(\"manger\", 1, \"présent\"), (\"manger\", 3, \"présent\")]\n",
    "assert analyse(\"balayez\") == [(\"balayer\", 5, \"présent\")]\n",
    "assert analyse(\"travaillions\") == [(\"travaillier\", 4, \"présent\"), (\"travailler\", 4, \"imparfait\")]"
   ]
  },
  {
   "cell_type": "markdown",
   "metadata": {},
   "source": [
    "## Exercice 4\n",
    "\n",
    "Créer une fonction qui pour un fichier texte donné compte le nombre de mots et retourne les 5 mots les plus fréquents."
   ]
  },
  {
   "cell_type": "code",
   "execution_count": 21,
   "metadata": {},
   "outputs": [],
   "source": [
    "\n",
    "def top5(fichier):\n",
    "    decompte = {}\n",
    "    with open(fichier) as f:\n",
    "        texte = f.read()\n",
    "    mots = texte.split()\n",
    "    uniques = set(mots)\n",
    "    for mot in uniques:\n",
    "        decompte[mot] = mots.count(mot)\n",
    "    \n",
    "    # On récupère les decomptes et on trie uniquement les nombres\n",
    "    values = sorted(list(decompte.values()))\n",
    "    # On garde les 5 meilleurs\n",
    "    values = values[-5:]\n",
    "    \n",
    "    # On tourne sur le decompte et on garde seulement les 5 meilleurs valeurs\n",
    "    # On préremplie une liste avec 5 valeurs vides\n",
    "    # Cela nous permet de changer les valeurs à des index précis\n",
    "    top = [0, 0, 0, 0, 0]\n",
    "    for mot, cnt in decompte.items():\n",
    "        # Si le decompte existe, on récupère l'index\n",
    "        if cnt in values:\n",
    "            index = values.index(cnt)\n",
    "            top[index] = (mot, cnt)\n",
    "    \n",
    "    return top\n",
    "\n",
    "# Solution avancée\n",
    "def recupere_deuxieme_valeur(element):\n",
    "    \"\"\" Sorted prend un paramètre optionel key qui doit être une fonction\n",
    "    prenant chacun des élements d'une liste et renvoyant la valeur qui servira\n",
    "    à trier dans l'ordre croissant.\n",
    "    \"\"\"\n",
    "    return element[1]\n",
    "\n",
    "def top5bis(fichier):\n",
    "    decompte = {}\n",
    "    with open(fichier) as f:\n",
    "        texte = f.read().lower()\n",
    "    mots = texte.split()\n",
    "    uniques = set(mots)\n",
    "    for mot in uniques:\n",
    "        decompte[mot] = mots.count(mot)\n",
    "    \n",
    "    top = []\n",
    "    for mot, cnt in decompte.items():\n",
    "        top.append((mot, cnt))\n",
    "    \n",
    "    \n",
    "        \n",
    "    # https://docs.python.org/fr/3.8/howto/sorting.html\n",
    "    # CF reverse pour ordonner dans le sens inverse\n",
    "    return sorted(top, key=recupere_deuxieme_valeur)[-5:]"
   ]
  },
  {
   "cell_type": "code",
   "execution_count": 17,
   "metadata": {},
   "outputs": [
    {
     "name": "stdout",
     "output_type": "stream",
     "text": [
      "[('que', 5), ('de', 5), ('car', 6), ('ne', 7), ('vous', 10)]\n"
     ]
    }
   ],
   "source": [
    "# Vérification\n",
    "print(top5(\"../data/Ballade.XXVIII.dePisan.txt\"))\n",
    "assert top5(\"../data/Ballade.XXVIII.dePisan.txt\") == [('que', 5), ('de', 5), ('car', 6), ('ne', 7), ('vous', 10)]\n",
    "assert top5(\"../data/lettre.louisemichel.txt\") == [('vous', 12), ('ne', 13), ('me', 13), ('que', 15), ('je', 30)]"
   ]
  }
 ],
 "metadata": {
  "kernelspec": {
   "display_name": "Python 3",
   "language": "python",
   "name": "python3"
  },
  "language_info": {
   "codemirror_mode": {
    "name": "ipython",
    "version": 3
   },
   "file_extension": ".py",
   "mimetype": "text/x-python",
   "name": "python",
   "nbconvert_exporter": "python",
   "pygments_lexer": "ipython3",
   "version": "3.6.8"
  }
 },
 "nbformat": 4,
 "nbformat_minor": 2
}
