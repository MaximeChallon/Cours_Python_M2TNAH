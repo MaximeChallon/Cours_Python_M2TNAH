{
 "cells": [
  {
   "cell_type": "markdown",
   "metadata": {},
   "source": [
    "## Boucles\n",
    "\n",
    "Sachant que la fonction et les paramètres `glob(\"../data/*.txt\")` dans la première cellule retourne l'ensemble des fichiers disponibles finissant par `*.txt` dans `../data`:\n",
    "\n",
    "1. Comptez le nombre de chaque mot dans chaque texte\n",
    "2. Combien de mots ne sont présents que dans un texte ?"
   ]
  },
  {
   "cell_type": "code",
   "execution_count": 2,
   "metadata": {},
   "outputs": [],
   "source": [
    "# Exécuter mais ne pas modifier.\n",
    "from glob import glob"
   ]
  },
  {
   "cell_type": "code",
   "execution_count": 30,
   "metadata": {},
   "outputs": [
    {
     "name": "stdout",
     "output_type": "stream",
     "text": [
      "Nombre de mots du fichier  ' <_io.TextIOWrapper name='../data/debat.folieamour.labbe.txt' mode='r' encoding='UTF-8'> ' :  2269\n",
      "Nombre de mots du fichier  ' <_io.TextIOWrapper name='../data/lesdeuxamants.txt' mode='r' encoding='UTF-8'> ' :  1467\n",
      "Nombre de mots du fichier  ' <_io.TextIOWrapper name='../data/cid.v1071.1682.txt' mode='r' encoding='UTF-8'> ' :  275\n",
      "Nombre de mots du fichier  ' <_io.TextIOWrapper name='../data/lanuitdelamort.michel.txt' mode='r' encoding='UTF-8'> ' :  142\n",
      "Nombre de mots du fichier  ' <_io.TextIOWrapper name='../data/horace.txt' mode='r' encoding='UTF-8'> ' :  15493\n",
      "Nombre de mots du fichier  ' <_io.TextIOWrapper name='../data/liaisons.118.txt' mode='r' encoding='UTF-8'> ' :  795\n",
      "Nombre de mots du fichier  ' <_io.TextIOWrapper name='../data/lettre.louisemichel.txt' mode='r' encoding='UTF-8'> ' :  336\n",
      "Nombre de mots du fichier  ' <_io.TextIOWrapper name='../data/misanthrope.acte3.scene4.txt' mode='r' encoding='UTF-8'> ' :  405\n",
      "Nombre de mots du fichier  ' <_io.TextIOWrapper name='../data/Ballade.XXVIII.dePisan.txt' mode='r' encoding='UTF-8'> ' :  176\n",
      "62\n",
      "61\n",
      "51\n",
      "48\n",
      "80\n",
      "66\n",
      "55\n",
      "45\n",
      "39\n"
     ]
    }
   ],
   "source": [
    "glob(\"../data/*.txt\")\n",
    "\n",
    "#comptage du nombre de mots dans chaque texte\n",
    "for data in glob(\"../data/*.txt\"):\n",
    "    with open(data) as fichier:\n",
    "        fichier_ouvert = fichier.read()\n",
    "        mots = fichier_ouvert.split()\n",
    "        compteur = 0\n",
    "        for mot in mots:\n",
    "            compteur += 1\n",
    "        print(\"Nombre de mots du fichier \", \"'\", fichier, \"' : \", compteur)\n",
    "        \n",
    "#détermination du nombre de mots présents dans un seul texte\n",
    "#récupération de tous les mots de chaque texte dans une liste\n",
    "\n",
    "for data in glob(\"../data/*.txt\"):\n",
    "    tous_les_mots = \"\"\n",
    "    with open(data) as fichier:\n",
    "        fichier_ouvert = fichier.read()\n",
    "        #suppression des doublons\n",
    "        mots = fichier_ouvert.split()\n",
    "        for mot in mots:\n",
    "            if mot not in tous_les_mots:\n",
    "                tous_les_mots = tous_les_mots + mot\n",
    "        mots_uniques = set(tous_les_mots)\n",
    "        print(len(mots_uniques))\n",
    "    "
   ]
  },
  {
   "cell_type": "markdown",
   "metadata": {},
   "source": [
    "## De plein texte à TEI\n",
    "\n",
    "À partir de la variage `text`, créer un fichier `lesdeuxamants.xml` qui soit de la TEI valide. Le corps du texte doit contenir une `div`, un `head`, des `lg`s et des `l`s. Les `l`s seront numérotées via l'attribut `n`."
   ]
  },
  {
   "cell_type": "code",
   "execution_count": 32,
   "metadata": {},
   "outputs": [],
   "source": [
    "# Exécuter mais ne pas modifier\n",
    "with open(\"../data/lesdeuxamants.txt\") as f:\n",
    "    text = f.read()"
   ]
  },
  {
   "cell_type": "code",
   "execution_count": null,
   "metadata": {},
   "outputs": [],
   "source": []
  }
 ],
 "metadata": {
  "kernelspec": {
   "display_name": "Python 3",
   "language": "python",
   "name": "python3"
  },
  "language_info": {
   "codemirror_mode": {
    "name": "ipython",
    "version": 3
   },
   "file_extension": ".py",
   "mimetype": "text/x-python",
   "name": "python",
   "nbconvert_exporter": "python",
   "pygments_lexer": "ipython3",
   "version": "3.7.3"
  }
 },
 "nbformat": 4,
 "nbformat_minor": 2
}
