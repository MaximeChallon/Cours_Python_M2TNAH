{
 "cells": [
  {
   "cell_type": "markdown",
   "metadata": {},
   "source": [
    "# Chapitre 4.1 - Les fichiers CSV, JSON et les requêtes"
   ]
  },
  {
   "cell_type": "markdown",
   "metadata": {},
   "source": [
    "## Le format CSV\n",
    "\n",
    "Un fichier CSV est un fichier de tableau simplifié au maximum :\n",
    "- le fichier est encodé en plein texte, il peut être lu par un éditeur de texte lambda\n",
    "- le fichier utilise un séparateur de colonnes (usuellement une virgule, un point-virgule ou une tabulation)\n",
    "- le fichier utilise une ligne par ligne de tableur\n",
    "\n",
    "Exemple : [Les 1000 premiers numéros du Gaulois en statistiques](./data/csv/gaulois.csv) (grâce à la [BNF](http://api.bnf.fr/m%C3%A9tadonn%C3%A9es-quantitatives-de-la-presse-ancienne-xixe-xxe-si%C3%A8cles#chapitre3) )"
   ]
  },
  {
   "cell_type": "markdown",
   "metadata": {},
   "source": [
    "## Les Packages\n",
    "\n",
    "Python est fait de nombreuses fonctions de bases. Nous avons vu par exemple qu'il était possible d'utiliser facilement les fonctions `len()` ou encore `print()`. Mais Python possède aussi des `packages` (le nom des librairies et bibliothèques en Python) par défaut.\n",
    "\n",
    "Un package est un ensemble de modules comportant des outils tels que des fonctions et qui peut être assez simplement importé. Par exemple, si je voulais travailler avec le package standard pour utiliser des fichiers CSV, je ferais :"
   ]
  },
  {
   "cell_type": "code",
   "execution_count": 18,
   "metadata": {},
   "outputs": [],
   "source": [
    "import csv"
   ]
  },
  {
   "cell_type": "markdown",
   "metadata": {},
   "source": [
    "Cette ligne va me permettre d'importer le module csv. Regardons ce qu'il a dans le ventre :"
   ]
  },
  {
   "cell_type": "code",
   "execution_count": 2,
   "metadata": {},
   "outputs": [
    {
     "data": {
      "text/plain": [
       "['Dialect',\n",
       " 'DictReader',\n",
       " 'DictWriter',\n",
       " 'Error',\n",
       " 'OrderedDict',\n",
       " 'QUOTE_ALL',\n",
       " 'QUOTE_MINIMAL',\n",
       " 'QUOTE_NONE',\n",
       " 'QUOTE_NONNUMERIC',\n",
       " 'Sniffer',\n",
       " 'StringIO',\n",
       " '_Dialect',\n",
       " '__all__',\n",
       " '__builtins__',\n",
       " '__cached__',\n",
       " '__doc__',\n",
       " '__file__',\n",
       " '__loader__',\n",
       " '__name__',\n",
       " '__package__',\n",
       " '__spec__',\n",
       " '__version__',\n",
       " 'excel',\n",
       " 'excel_tab',\n",
       " 'field_size_limit',\n",
       " 'get_dialect',\n",
       " 'list_dialects',\n",
       " 're',\n",
       " 'reader',\n",
       " 'register_dialect',\n",
       " 'unix_dialect',\n",
       " 'unregister_dialect',\n",
       " 'writer']"
      ]
     },
     "execution_count": 2,
     "metadata": {},
     "output_type": "execute_result"
    }
   ],
   "source": [
    "dir(csv)"
   ]
  },
  {
   "cell_type": "markdown",
   "metadata": {},
   "source": [
    "C'est bien, mais ça ne vous dit pas grand-chose non ? On voit à la limite quelque chose pour lire (`reader`) et quelque chose pour écrire (`writer`) avec *a priori* deux variations : `DictReader` et `DictWriter`. Mais cela reste vague. "
   ]
  },
  {
   "cell_type": "markdown",
   "metadata": {},
   "source": [
    "---\n",
    "\n",
    "## Le package CSV\n",
    "\n",
    "Heureusement, python propose pour ses librairies standards une très bonne documentation : https://docs.python.org/3.5/library/csv.html\n",
    "\n",
    "Je reprends ci-dessous deux morceaux de la documentation, qui sont ceux qui vont d'abord nous intéresser.\n",
    "\n",
    "### 1. Lire\n",
    "\n",
    "Commençons par ce qui est la documentation de `reader()`\n",
    " \n",
    "#### csv.reader(csvfile, dialect=’excel’, **fmtparams)\n",
    "\n",
    "> Return a reader object which will iterate over lines in the given `csvfile`. `csvfile` can be any object which supports the iterator protocol and returns a string each time its `__next__()` method is called — file objects and list objects are both suitable. If csvfile is a file object, it should be opened with newline=''. [1] An optional `dialect` parameter can be given which is used to define a set of parameters specific to a particular CSV dialect. It may be an instance of a subclass of the Dialect class or one of the strings returned by the list_dialects() function. The other optional `fmtparams` keyword arguments can be given to override individual formatting parameters in the current dialect. For full details about the dialect and formatting parameters, see section [Dialects and Formatting Parameters](https://docs.python.org/3.5/library/csv.html#dialects-and-formatting-parameters).\n",
    "\n",
    "> Each row read from the csv file is returned as a list of strings. No automatic data type conversion is performed unless the QUOTE_NONNUMERIC format option is specified (in which case unquoted fields are transformed into floats).\n",
    "\n",
    "> A short usage example:"
   ]
  },
  {
   "cell_type": "code",
   "execution_count": 3,
   "metadata": {},
   "outputs": [
    {
     "name": "stdout",
     "output_type": "stream",
     "text": [
      "['Spam', 'Spam', 'Spam', 'Spam', 'Spam', 'Baked Beans']\n",
      "Spam, Spam, Spam, Spam, Spam, Baked Beans\n",
      "['Spam', 'Lovely Spam', 'Wonderful Spam']\n",
      "Spam, Lovely Spam, Wonderful Spam\n"
     ]
    }
   ],
   "source": [
    "import csv\n",
    "with open('data/csv/eggs.csv', newline='') as csvfile:\n",
    "    spamreader = csv.reader(csvfile, delimiter=' ', quotechar='|')\n",
    "    for row in spamreader:\n",
    "        print(row)\n",
    "        print(', '.join(row))\n",
    "# Spam, Spam, Spam, Spam, Spam, Baked Beans\n",
    "# Spam, Lovely Spam, Wonderful Spam"
   ]
  },
  {
   "cell_type": "markdown",
   "metadata": {},
   "source": [
    "**À partir de cette documentation et de cet exemple**, on peut tirer plusieurs conclusions :\n",
    "\n",
    "- `csv.reader()` prend comme premier argument un fichier ouvert\n",
    "- il peut prendre un `dialect` ou des paramètres qui ne sont pas développés par la documentation de la fonction elle-même : dans `**fmtparams`, `**` signifie qu'il existe d'autres paramètres optionnels nominatifs.\n",
    "- il arrive que, sans aller dans *Dialects and Formatting Parameters*, nous avons deux exemples de ces paramètres dans l'exemple :\n",
    "    - `delimiter` qui semble être un délimiteur de colonne.\n",
    "    - `quotechar` qui semble être un \"encapsulateur\" permettant d'échapper les délimiteurs donc délimite les chaînes de caractères\n",
    "    \n",
    "Regardons le fichier [data/csv/eggs.csv](data/csv/eggs.csv)\n",
    "\n",
    "En lançant l'exemple, on s'aperçoit que le `reader` va renvoyer une liste quand on va itérer dessus: ces listes correspondent aux lignes."
   ]
  },
  {
   "cell_type": "markdown",
   "metadata": {},
   "source": [
    "###### Une fonction utile : la fonction enumerate\n",
    "\n",
    "Dans le cadre d'une boucle, enumerate permet de renvoyer un tuple sur une valeur simple afin de de compter l'index de l'objet parcouru :"
   ]
  },
  {
   "cell_type": "code",
   "execution_count": 6,
   "metadata": {},
   "outputs": [
    {
     "name": "stdout",
     "output_type": "stream",
     "text": [
      "0 = vert\n",
      "1 = rouge\n",
      "2 = bleu\n",
      "0 = vert\n",
      "1 = rouge\n",
      "2 = bleu\n"
     ]
    }
   ],
   "source": [
    "couleurs = [\"vert\", \"rouge\", \"bleu\"]\n",
    "\n",
    "for index, couleur in enumerate(couleurs):\n",
    "    print(str(index)+ \" = \" + couleur)\n",
    "\n",
    "#revient au même que\n",
    "index = 0\n",
    "for couleur in couleurs:\n",
    "    index += 1\n",
    "    print(str(index - 1)+ \" = \" + couleur)"
   ]
  },
  {
   "cell_type": "markdown",
   "metadata": {},
   "source": [
    "##### Exercice \n",
    "\n",
    "À partir du fichier `data/csv/gaulois.csv`, compter le nombre de publicités en page 1 sur l'ensemble des numéros. \n",
    "\n",
    "*Attention ! La première ligne est une ligne d'en-tête*"
   ]
  },
  {
   "cell_type": "code",
   "execution_count": 31,
   "metadata": {},
   "outputs": [
    {
     "name": "stdout",
     "output_type": "stream",
     "text": [
      "2260\n"
     ]
    }
   ],
   "source": [
    "import csv\n",
    "pubs = 0\n",
    "with open('data/csv/gaulois.csv', newline='') as csvfile:\n",
    "    pubreader = csv.reader(csvfile, delimiter=',', quotechar='\\n')\n",
    "    next(pubreader)\n",
    "    for row in pubreader:\n",
    "        for pub in row[9]:\n",
    "            pubs += 1 * int(row[9])\n",
    "print(pubs)\n",
    "        \n",
    "\n",
    "# Tests pour vérifier : le résultat doit être enregistré dans une variable pubs\n",
    "#attention aux types des choses de la liste!\n",
    "#assert pubs == 2260, \"Il y a eu 2260 publicité sur les premiers numéros du Gaulois\""
   ]
  },
  {
   "cell_type": "markdown",
   "metadata": {},
   "source": [
    "### 2. Écrire\n",
    "\n",
    "Si lire est utile, écrire l'est tout autant, surtout lorsque l'on récupère des informations d'ici et là et que l'on veut les remettre en formes\n",
    "\n",
    "Voyons la documentation de csv.writer et son exemple :\n",
    "\n",
    "#### csv.writer(csvfile, dialect=’excel’, **fmtparams)\n",
    "\n",
    ">    Return a writer object responsible for converting the user’s data into delimited strings on the given file-like object. csvfile can be any object with a write() method. If csvfile is a file object, it should be opened with newline='' [1]. An optional dialect parameter can be given which is used to define a set of parameters specific to a particular CSV dialect. It may be an instance of a subclass of the Dialect class or one of the strings returned by the list_dialects() function. The other optional fmtparams keyword arguments can be given to override individual formatting parameters in the current dialect. For full details about the dialect and formatting parameters, see section Dialects and Formatting Parameters. To make it as easy as possible to interface with modules which implement the DB API, the value None is written as the empty string. While this isn’t a reversible transformation, it makes it easier to dump SQL NULL data values to CSV files without preprocessing the data returned from a cursor.fetch* call. All other non-string data are stringified with str() before being written.\n",
    "\n",
    "> A short usage example:"
   ]
  },
  {
   "cell_type": "code",
   "execution_count": 9,
   "metadata": {},
   "outputs": [],
   "source": [
    "import csv\n",
    "with open('data/csv/eggs.csv', 'w') as csvfile:\n",
    "    spamwriter = csv.writer(csvfile, delimiter=' ', quotechar='|', quoting=csv.QUOTE_MINIMAL)\n",
    "    spamwriter.writerow(['Spam'] * 5 + ['Baked Beans'])\n",
    "    spamwriter.writerow(['Spam', 'Lovely Spam', 'Wonderful Spam'])"
   ]
  },
  {
   "cell_type": "code",
   "execution_count": 14,
   "metadata": {},
   "outputs": [],
   "source": [
    "import csv\n",
    "with open(\"resultats/exemple_csv.csv\", \"w\") as f:\n",
    "    csvwriter = csv.writer(f, delimiter = \"\\t\")\n",
    "    csvwriter.writerow([\"titre\", \"note\"])\n",
    "    csvwriter.writerow([\"blanche_neige\", \"7\"])"
   ]
  },
  {
   "cell_type": "code",
   "execution_count": 17,
   "metadata": {},
   "outputs": [
    {
     "name": "stdout",
     "output_type": "stream",
     "text": [
      "['titre', 'note']\n",
      "['blanche_neige', '7']\n"
     ]
    }
   ],
   "source": [
    "import csv\n",
    "with open(\"resultats/exemple_csv.csv\", \"r\") as f:\n",
    "    csvwriter = csv.reader(f, delimiter = \"\\t\")\n",
    "    for row in csvwriter:\n",
    "        print(row)"
   ]
  },
  {
   "cell_type": "markdown",
   "metadata": {},
   "source": [
    "**À partir de cette documentation et de cet exemple**, on peut tirer plusieurs conclusions :\n",
    "\n",
    "- `csv.writer()` prend comme premier argument un fichier ouvert en mode écriture\n",
    "- il peut prendre un `dialect` ou des paramètres qui ne sont pas développés par la documentation de la fonction elle-même : dans `**fmtparams`, `**` signifie qu'il existe d'autres paramètres optionnels nominatifs.\n",
    "- il arrive que, sans aller dans *Dialects and Formatting Parameters*, nous ayons deux exemples de ces paramètres dans l'exemple :\n",
    "    - `delimiter` qui semble être un délimiteur de colonne.\n",
    "    - `quotechar` qui semble être un \"encapsulateur\" permettant d'échapper les délimiteurs\n",
    "    - `quoting` qui d'après la documentation correspond à un mode de citation minimal (Utilisation des `quotechar` que lorsque cela est nécessaire. C'est par ailleurs la valeur par défaut : https://docs.python.org/3.5/library/csv.html#csv.Dialect.quoting )\n",
    "- on écrit une ligne en utilisant la méthode `.writerow()` qui prend comme argument une liste\n",
    "- on utilise `.writerow()` autant de fois que nécessaire\n",
    "    \n",
    "Regardons le fichier [data/csv/eggs.csv](data/csv/eggs.csv)\n",
    "\n",
    "En lançant l'exemple, on s'aperçoit que le `writer()` va rédiger deux lignes. Ce sont les deux que nous avons lues plus haut."
   ]
  },
  {
   "cell_type": "markdown",
   "metadata": {},
   "source": [
    "##### Exercice\n",
    "\n",
    "`modules_cours.chapitre4` est un module écrit spécifiquement pour ce cours (si vous êtes [curieux-ses](modules_cours/chapitre4.py)) Dans ce module, il y a la fonction `read_rss()` qui renvoie un générateur contenant des tuples Titre - Résumé - Lien - Date de publication. Par exemple :"
   ]
  },
  {
   "cell_type": "code",
   "execution_count": 1,
   "metadata": {},
   "outputs": [
    {
     "name": "stdout",
     "output_type": "stream",
     "text": [
      "('Jérémie Ferrer-Bartomeu coorganise un colloque sur les migrations en Méditerranée <span class=\"small-caps\">XIV</span>ᵉ-<span class=\"small-caps\">XVI</span>ᵉ s.', 'Jérémie Ferrer-Bartomeu, docteur de l’École (2017), coorganise le colloque «\\xa0Minorités, migrations, mondialisation en Méditerranée <span class=\"small-caps\">XIV</span>ᵉ-<span class=\"small-caps\">XVI</span>ᵉ siècles\\xa0», avec Florence Bistagne, maître de conférences à l\\'université d\\'Avignon.', 'http://www.chartes.psl.eu/fr/actualite/jeremie-ferrer-bartomeu-organise-colloque-minorites-migrations-mondialisation-mediterranee', 'Thu, 19 Dec 2019 14:54:33 +0000')\n",
      "('Chemins de papier. Histoire d’un manuscrit de science-fiction retrouvé', 'Vincent Haegele, archiviste paléographe (prom. 2006) et directeur de la bibliothèque municipale de Versailles, et Emmanuel de Waresquiel, ingénieur de recherche à l’École pratique des hautes études, donnent une conférence intitulée «\\xa0Chemins de papier.\\xa0Histoire d’un manuscrit de science-fiction retrouvé\\xa0», autour de l’ouvrage <em>L’Empire savant</em> de Pierre-Marie Desmarest, édité et commenté par Vincent Haegele et paru aux éditions Publie.net en 2019.', 'http://www.chartes.psl.eu/fr/actualite/chemins-papier', 'Thu, 19 Dec 2019 11:30:03 +0000')\n",
      "('La typographie\\xa0: histoire, usages, enjeux', 'La typographie, autrefois confiée aux professionnels de l’imprimerie, est désormais partout, de la lettre privée jusqu’à l’inscription monumentale et à internet. Les innovations actuelles de la typographie numérique démultiplient son potentiel mais aussi sa complexité.', 'http://www.chartes.psl.eu/fr/actualite/typographie-histoire-usages-enjeux', 'Tue, 17 Dec 2019 16:51:34 +0000')\n",
      "('Jean-François Balaudé, élu président du Campus Condorcet', \"Le conseil d’administration du\\xa0Campus Condorcet\\xa0a élu Jean-François Balaudé à la présidence de l’établissement public, le 17 décembre 2019. L’actuel président de l’Université Paris Nanterre, établissement membre du Campus Condorcet, a recueilli l'unanimité des votes<em>.</em>\", 'http://www.chartes.psl.eu/fr/actualite/jean-francois-balaude-elu-president-du-campus-condorcet', 'Tue, 17 Dec 2019 14:01:07 +0000')\n",
      "('Jean-Charles Bédague (prom 2009) nommé sous-directeur de la communication et de la valorisation des archives au Siaf', 'Jean-Charles Bédague, archiviste paléographe (prom. 2009) et conservateur du patrimoine, est nommé sous-directeur de la communication et de la valorisation des archives au Service interministériel des archives de France (Siaf), par arrêté du Premier ministre et du ministre de la culture en date du 9 décembre 2019, à compter du 1<sup>er</sup> janvier 2020. Il succède à Bruno Ricard (prom. 1992).', 'http://www.chartes.psl.eu/fr/actualite/jean-charles-bedague-prom-2009-nomme-directeur-communication-valorisation-archives-au-siaf', 'Mon, 16 Dec 2019 17:23:10 +0000')\n",
      "('Florence Descamps publie <em>Archiver la mémoire. De l’histoire orale au patrimoine immatériel</em>', 'Florence Descamps, maître de conférences à l’EPHE et chargée à l’École du cours «\\xa0Archives orales\\xa0», publie <em>Archiver la mémoire. De l’histoire orale au patrimoine immatériel</em>, aux éditions de l’EHESS.', 'http://www.chartes.psl.eu/fr/actualite/florence-descamps-publie-archiver-memoire-histoire-orale-au-patrimoine-immateriel', 'Wed, 11 Dec 2019 14:24:59 +0000')\n",
      "(\"Christine Nougaret (prom. 1982), Yann Potin (prom. 2007) et Bruno Ricard (prom. 1992) dirigent l’ouvrage <em>1979. Genèse d'une loi sur les archives</em>\", 'Christine Nougaret (prom. 1982), professeur émérite à l’École, Yann Potin (prom. 2007), chargé d’études documentaires aux Archives nationales, et Bruno Ricard (prom. 1992), directeur des Archives nationales, co-dirigent avec Marie Cornu,\\xa0directrice de recherche au CNRS, et\\xa0Noé Wagener, professeur à l’université de Rouen-Normandie, l’ouvrage <em>1979. Genèse d</em>’<em>une loi sur les archives</em>, aux éditions de La Documentation française.', 'http://www.chartes.psl.eu/fr/actualite/christine-nougaret-prom-1982-yann-potin-prom-2007-bruno-ricard-prom-1992-dirigent-ouvrage', 'Wed, 11 Dec 2019 13:37:27 +0000')\n",
      "('La recherche participative\\xa0: quelle place pour les sociétés savantes\\xa0?', 'La recherche participative permet aujourd’hui de repenser la relation entre les amateurs, les citoyens et les scientifiques professionnels. Cette journée d’étude, organisée par le Comité des travaux historiques et scientifiques (CTHS), abordera la question de la\\nplace des sociétés savantes dans les projets (présents et à venir) de recherche participative.', 'http://www.chartes.psl.eu/fr/actualite/recherche-participative-quelle-place-societes-savantes', 'Wed, 11 Dec 2019 11:59:37 +0000')\n",
      "('Parution\\xa0: <em>Écritures grises</em>', 'L\\'École nationale des chartes publie<em> </em><em>Écritures grises. Les instruments de travail des administrations (<span class=\"small-caps\">XII</span>ᵉ-<span class=\"small-caps\">XVII</span>ᵉ siècle)</em>, études réunies par Arnaud Fossier, Johann Petitjean et Clémence Revest, volume 57 de la collection <em>Études et rencontres de l’École des chartes. </em>', 'http://www.chartes.psl.eu/fr/actualite/parution-ecritures-grises', 'Tue, 10 Dec 2019 17:04:42 +0000')\n",
      "('«\\xa0Henri Sainte-Claire Deville à l’ENS\\xa0»\\xa0: une exposition réalisée avec le concours de Louis Paris (prom. 2015)', 'Louis Paris, archiviste paléographe (prom. 2015), a réalisé un important travail d’identification, de classification et de transcription du fonds Sainte-Claire Deville conservé à la Bibliothèque des Lettres, permettant ainsi la mise en place de l’exposition «\\xa0Henri Sainte-Claire Deville à l’ENS\\xa0». Elle est co-organisée par Anne Boutin, directrice du département de chimie à l’ENS et Emmanuelle Sordet, directrice des bibliothèques.', 'http://www.chartes.psl.eu/fr/actualite/exposition-henri-sainte-claire-deville-louis-paris-prom-2015', 'Tue, 10 Dec 2019 16:49:22 +0000')\n"
     ]
    }
   ],
   "source": [
    "from modules_cours.chapitre4 import read_rss\n",
    "\n",
    "# Il s'agit ici de l'adresse RSS d'un flux de la BNF: flux RSS c'est liste des derniers \n",
    "# articles publiés: sous la forme de XML avec tags prévus dans espace de nom donnés avec dates, noms, etc\n",
<<<<<<< HEAD
    "for entree in read_rss():\n",
=======
    "for entree in read_rss(\"http://www.bnf.fr/Satellite?c=Page&cid=1237374444944&locale=1194947514616&p=1237374444944&pagename=bnf_dev%2FRss&typeRss=Biblio\"):\n",
>>>>>>> d63ea9dcd300539e9404dbd3c52d9adf33d1ce97
    "    print(entree)"
   ]
  },
  {
   "cell_type": "markdown",
   "metadata": {},
   "source": [
    "À partir de cette fonction, réaliser un CSV (en utilisant le délimiteur `\\t`) pour le flux RSS de Bibliopat : `http://www.bibliopat.fr/rss-actualites`. Le CSV sera stocké à `bibliopat.csv`."
   ]
  },
  {
   "cell_type": "code",
   "execution_count": 1,
   "metadata": {},
   "outputs": [],
   "source": [
    "from modules_cours.chapitre4 import read_rss\n",
    "import csv\n",
    "\n",
    "# Votre code ici\n",
    "\n",
    "for entree in read_rss(\"http://www.bibliopat.fr/rss-actualites\"):\n",
    "    with open(\"resultats/bibliopat.csv\",  \"a\") as f:\n",
    "        csvwriter = csv.writer(f, delimiter = \"\\t\", quotechar='|')\n",
    "        csvwriter.writerow([entree[0], entree[1], entree[2], entree[3]])\n",
    "    "
   ]
  },
  {
   "cell_type": "markdown",
   "metadata": {},
   "source": [
    "##### Avez-vous remarqué ?\n",
    "\n",
    "Ci-dessus, nous avons utilisé `from ___ import ___`. Cette structure d'import nous permet de n'importer qu'un sous-module ou une sous-fonction en particulier. Très pratique pour éviter les noms à rallonge !"
   ]
  },
  {
   "cell_type": "markdown",
   "metadata": {},
   "source": [
    "----\n",
    "\n",
    "#### Ce que l'on a appris\n",
    "\n",
    "Pour finir cette section, voici un récapitulatif des concepts appris. Lisez la liste et posez des questions si certaines choses ne sont pas claires.\n",
    "\n",
    "- `import`\n",
    "- `from ___ import ___`\n",
    "- la notion de librairie/module/package\n",
    "- `csv.reader()`\n",
    "- `csv.writer()`\n",
    "- `enumerate()`\n",
    "- Lire une documentation et ses exemples\n",
    "\n",
    "#### Ce que l'on recommande d'approfondir\n",
    "\n",
    "Si les fonctions `csv.reader()` et `csv.writer()` sont sympathiques, les fonctions `DictReader` et `DictWriter` le sont beaucoup plus : elles stockent les noms de colonnes ! *cf.* [la documentation](https://docs.python.org/3.5/library/csv.html#csv.DictReader)"
   ]
  }
 ],
 "metadata": {
  "kernelspec": {
   "display_name": "Python 3",
   "language": "python",
   "name": "python3"
  },
  "language_info": {
   "codemirror_mode": {
    "name": "ipython",
    "version": 3
   },
   "file_extension": ".py",
   "mimetype": "text/x-python",
   "name": "python",
   "nbconvert_exporter": "python",
   "pygments_lexer": "ipython3",
<<<<<<< HEAD
   "version": "3.6.8"
=======
   "version": "3.7.3"
>>>>>>> d63ea9dcd300539e9404dbd3c52d9adf33d1ce97
  }
 },
 "nbformat": 4,
 "nbformat_minor": 2
}
