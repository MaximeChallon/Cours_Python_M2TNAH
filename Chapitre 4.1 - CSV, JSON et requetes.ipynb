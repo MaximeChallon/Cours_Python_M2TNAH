{
 "cells": [
  {
   "cell_type": "markdown",
   "metadata": {},
   "source": [
    "# Chapitre 4.1 - Les fichiers CSV, JSON et les requêtes"
   ]
  },
  {
   "cell_type": "markdown",
   "metadata": {},
   "source": [
    "## Le format CSV\n",
    "\n",
    "Un fichier CSV est un fichier de tableau simplifié au maximum :\n",
    "- le fichier est encodé en plein texte, il peut être lu par un éditeur de texte lambda\n",
    "- le fichier utilise un séparateur de colonnes (usuellement une virgule, un point-virgule ou une tabulation)\n",
    "- le fichier utilise une ligne par ligne de tableur\n",
    "\n",
    "Exemple : [Les 1000 premiers numéros du Gaulois en statistiques](./data/csv/gaulois.csv) (grâce à la [BNF](http://api.bnf.fr/m%C3%A9tadonn%C3%A9es-quantitatives-de-la-presse-ancienne-xixe-xxe-si%C3%A8cles#chapitre3) )"
   ]
  },
  {
   "cell_type": "markdown",
   "metadata": {},
   "source": [
    "## Les Packages\n",
    "\n",
    "Python est fait de nombreuses fonctions de bases. Nous avons vu par exemple qu'il était possible d'utiliser facilement les fonctions `len()` ou encore `print()`. Mais Python possède aussi des `packages` (le nom des librairies et bibliothèques en Python) par défaut.\n",
    "\n",
    "Un package est un ensemble de modules comportant des outils tels que des fonctions et qui peut être assez simplement importé. Par exemple, si je voulais travailler avec le package standard pour utiliser des fichiers CSV, je ferais :"
   ]
  },
  {
   "cell_type": "code",
   "execution_count": 18,
   "metadata": {},
   "outputs": [],
   "source": [
    "import csv"
   ]
  },
  {
   "cell_type": "markdown",
   "metadata": {},
   "source": [
    "Cette ligne va me permettre d'importer le module csv. Regardons ce qu'il a dans le ventre :"
   ]
  },
  {
   "cell_type": "code",
   "execution_count": 2,
   "metadata": {},
   "outputs": [
    {
     "data": {
      "text/plain": [
       "['Dialect',\n",
       " 'DictReader',\n",
       " 'DictWriter',\n",
       " 'Error',\n",
       " 'OrderedDict',\n",
       " 'QUOTE_ALL',\n",
       " 'QUOTE_MINIMAL',\n",
       " 'QUOTE_NONE',\n",
       " 'QUOTE_NONNUMERIC',\n",
       " 'Sniffer',\n",
       " 'StringIO',\n",
       " '_Dialect',\n",
       " '__all__',\n",
       " '__builtins__',\n",
       " '__cached__',\n",
       " '__doc__',\n",
       " '__file__',\n",
       " '__loader__',\n",
       " '__name__',\n",
       " '__package__',\n",
       " '__spec__',\n",
       " '__version__',\n",
       " 'excel',\n",
       " 'excel_tab',\n",
       " 'field_size_limit',\n",
       " 'get_dialect',\n",
       " 'list_dialects',\n",
       " 're',\n",
       " 'reader',\n",
       " 'register_dialect',\n",
       " 'unix_dialect',\n",
       " 'unregister_dialect',\n",
       " 'writer']"
      ]
     },
     "execution_count": 2,
     "metadata": {},
     "output_type": "execute_result"
    }
   ],
   "source": [
    "dir(csv)"
   ]
  },
  {
   "cell_type": "markdown",
   "metadata": {},
   "source": [
    "C'est bien, mais ça ne vous dit pas grand-chose non ? On voit à la limite quelque chose pour lire (`reader`) et quelque chose pour écrire (`writer`) avec *a priori* deux variations : `DictReader` et `DictWriter`. Mais cela reste vague. "
   ]
  },
  {
   "cell_type": "markdown",
   "metadata": {},
   "source": [
    "---\n",
    "\n",
    "## Le package CSV\n",
    "\n",
    "Heureusement, python propose pour ses librairies standards une très bonne documentation : https://docs.python.org/3.5/library/csv.html\n",
    "\n",
    "Je reprends ci-dessous deux morceaux de la documentation, qui sont ceux qui vont d'abord nous intéresser.\n",
    "\n",
    "### 1. Lire\n",
    "\n",
    "Commençons par ce qui est la documentation de `reader()`\n",
    " \n",
    "#### csv.reader(csvfile, dialect=’excel’, **fmtparams)\n",
    "\n",
    "> Return a reader object which will iterate over lines in the given `csvfile`. `csvfile` can be any object which supports the iterator protocol and returns a string each time its `__next__()` method is called — file objects and list objects are both suitable. If csvfile is a file object, it should be opened with newline=''. [1] An optional `dialect` parameter can be given which is used to define a set of parameters specific to a particular CSV dialect. It may be an instance of a subclass of the Dialect class or one of the strings returned by the list_dialects() function. The other optional `fmtparams` keyword arguments can be given to override individual formatting parameters in the current dialect. For full details about the dialect and formatting parameters, see section [Dialects and Formatting Parameters](https://docs.python.org/3.5/library/csv.html#dialects-and-formatting-parameters).\n",
    "\n",
    "> Each row read from the csv file is returned as a list of strings. No automatic data type conversion is performed unless the QUOTE_NONNUMERIC format option is specified (in which case unquoted fields are transformed into floats).\n",
    "\n",
    "> A short usage example:"
   ]
  },
  {
   "cell_type": "code",
   "execution_count": 3,
   "metadata": {},
   "outputs": [
    {
     "name": "stdout",
     "output_type": "stream",
     "text": [
      "['Spam', 'Spam', 'Spam', 'Spam', 'Spam', 'Baked Beans']\n",
      "Spam, Spam, Spam, Spam, Spam, Baked Beans\n",
      "['Spam', 'Lovely Spam', 'Wonderful Spam']\n",
      "Spam, Lovely Spam, Wonderful Spam\n"
     ]
    }
   ],
   "source": [
    "import csv\n",
    "with open('data/csv/eggs.csv', newline='') as csvfile:\n",
    "    spamreader = csv.reader(csvfile, delimiter=' ', quotechar='|')\n",
    "    for row in spamreader:\n",
    "        print(row)\n",
    "        print(', '.join(row))\n",
    "# Spam, Spam, Spam, Spam, Spam, Baked Beans\n",
    "# Spam, Lovely Spam, Wonderful Spam"
   ]
  },
  {
   "cell_type": "markdown",
   "metadata": {},
   "source": [
    "**À partir de cette documentation et de cet exemple**, on peut tirer plusieurs conclusions :\n",
    "\n",
    "- `csv.reader()` prend comme premier argument un fichier ouvert\n",
    "- il peut prendre un `dialect` ou des paramètres qui ne sont pas développés par la documentation de la fonction elle-même : dans `**fmtparams`, `**` signifie qu'il existe d'autres paramètres optionnels nominatifs.\n",
    "- il arrive que, sans aller dans *Dialects and Formatting Parameters*, nous avons deux exemples de ces paramètres dans l'exemple :\n",
    "    - `delimiter` qui semble être un délimiteur de colonne.\n",
    "    - `quotechar` qui semble être un \"encapsulateur\" permettant d'échapper les délimiteurs donc délimite les chaînes de caractères\n",
    "    \n",
    "Regardons le fichier [data/csv/eggs.csv](data/csv/eggs.csv)\n",
    "\n",
    "En lançant l'exemple, on s'aperçoit que le `reader` va renvoyer une liste quand on va itérer dessus: ces listes correspondent aux lignes."
   ]
  },
  {
   "cell_type": "markdown",
   "metadata": {},
   "source": [
    "###### Une fonction utile : la fonction enumerate\n",
    "\n",
    "Dans le cadre d'une boucle, enumerate permet de renvoyer un tuple sur une valeur simple afin de de compter l'index de l'objet parcouru :"
   ]
  },
  {
   "cell_type": "code",
   "execution_count": 6,
   "metadata": {},
   "outputs": [
    {
     "name": "stdout",
     "output_type": "stream",
     "text": [
      "0 = vert\n",
      "1 = rouge\n",
      "2 = bleu\n",
      "0 = vert\n",
      "1 = rouge\n",
      "2 = bleu\n"
     ]
    }
   ],
   "source": [
    "couleurs = [\"vert\", \"rouge\", \"bleu\"]\n",
    "\n",
    "for index, couleur in enumerate(couleurs):\n",
    "    print(str(index)+ \" = \" + couleur)\n",
    "\n",
    "#revient au même que\n",
    "index = 0\n",
    "for couleur in couleurs:\n",
    "    index += 1\n",
    "    print(str(index - 1)+ \" = \" + couleur)"
   ]
  },
  {
   "cell_type": "markdown",
   "metadata": {},
   "source": [
    "##### Exercice \n",
    "\n",
    "À partir du fichier `data/csv/gaulois.csv`, compter le nombre de publicités en page 1 sur l'ensemble des numéros. \n",
    "\n",
    "*Attention ! La première ligne est une ligne d'en-tête*"
   ]
  },
  {
   "cell_type": "code",
   "execution_count": 10,
   "metadata": {},
   "outputs": [],
   "source": [
    "import csv\n",
    "pubs = 0\n",
    "with open('data/csv/gaulois.csv') as csvfile:\n",
    "    pubreader = csv.reader(csvfile) #attention, quotechar n'est que pour les chaînes de caractères\n",
    "    #permet de sauter la première ligne\n",
    "    next(pubreader)\n",
    "    for row in pubreader:\n",
    "        pubs += int(row[9])        \n",
    "\n",
    "# Tests pour vérifier : le résultat doit être enregistré dans une variable pubs\n",
    "#attention aux types des choses de la liste!\n",
    "assert pubs == 2260, \"Il y a eu 2260 publicité sur les premiers numéros du Gaulois\""
   ]
  },
  {
   "cell_type": "markdown",
   "metadata": {},
   "source": [
    "### 2. Écrire\n",
    "\n",
    "Si lire est utile, écrire l'est tout autant, surtout lorsque l'on récupère des informations d'ici et là et que l'on veut les remettre en formes\n",
    "\n",
    "Voyons la documentation de csv.writer et son exemple :\n",
    "\n",
    "#### csv.writer(csvfile, dialect=’excel’, **fmtparams)\n",
    "\n",
    ">    Return a writer object responsible for converting the user’s data into delimited strings on the given file-like object. csvfile can be any object with a write() method. If csvfile is a file object, it should be opened with newline='' [1]. An optional dialect parameter can be given which is used to define a set of parameters specific to a particular CSV dialect. It may be an instance of a subclass of the Dialect class or one of the strings returned by the list_dialects() function. The other optional fmtparams keyword arguments can be given to override individual formatting parameters in the current dialect. For full details about the dialect and formatting parameters, see section Dialects and Formatting Parameters. To make it as easy as possible to interface with modules which implement the DB API, the value None is written as the empty string. While this isn’t a reversible transformation, it makes it easier to dump SQL NULL data values to CSV files without preprocessing the data returned from a cursor.fetch* call. All other non-string data are stringified with str() before being written.\n",
    "\n",
    "> A short usage example:"
   ]
  },
  {
   "cell_type": "code",
   "execution_count": 9,
   "metadata": {},
   "outputs": [],
   "source": [
    "import csv\n",
    "with open('data/csv/eggs.csv', 'w') as csvfile:\n",
    "    spamwriter = csv.writer(csvfile, delimiter=' ', quotechar='|', quoting=csv.QUOTE_MINIMAL)\n",
    "    spamwriter.writerow(['Spam'] * 5 + ['Baked Beans'])\n",
    "    spamwriter.writerow(['Spam', 'Lovely Spam', 'Wonderful Spam'])"
   ]
  },
  {
   "cell_type": "code",
   "execution_count": 14,
   "metadata": {},
   "outputs": [],
   "source": [
    "import csv\n",
    "with open(\"resultats/exemple_csv.csv\", \"w\") as f:\n",
    "    csvwriter = csv.writer(f, delimiter = \"\\t\")\n",
    "    csvwriter.writerow([\"titre\", \"note\"])\n",
    "    csvwriter.writerow([\"blanche_neige\", \"7\"])"
   ]
  },
  {
   "cell_type": "code",
   "execution_count": 17,
   "metadata": {},
   "outputs": [
    {
     "name": "stdout",
     "output_type": "stream",
     "text": [
      "['titre', 'note']\n",
      "['blanche_neige', '7']\n"
     ]
    }
   ],
   "source": [
    "import csv\n",
    "with open(\"resultats/exemple_csv.csv\", \"r\") as f:\n",
    "    csvwriter = csv.reader(f, delimiter = \"\\t\")\n",
    "    for row in csvwriter:\n",
    "        print(row)"
   ]
  },
  {
   "cell_type": "markdown",
   "metadata": {},
   "source": [
    "**À partir de cette documentation et de cet exemple**, on peut tirer plusieurs conclusions :\n",
    "\n",
    "- `csv.writer()` prend comme premier argument un fichier ouvert en mode écriture\n",
    "- il peut prendre un `dialect` ou des paramètres qui ne sont pas développés par la documentation de la fonction elle-même : dans `**fmtparams`, `**` signifie qu'il existe d'autres paramètres optionnels nominatifs.\n",
    "- il arrive que, sans aller dans *Dialects and Formatting Parameters*, nous ayons deux exemples de ces paramètres dans l'exemple :\n",
    "    - `delimiter` qui semble être un délimiteur de colonne.\n",
    "    - `quotechar` qui semble être un \"encapsulateur\" permettant d'échapper les délimiteurs\n",
    "    - `quoting` qui d'après la documentation correspond à un mode de citation minimal (Utilisation des `quotechar` que lorsque cela est nécessaire. C'est par ailleurs la valeur par défaut : https://docs.python.org/3.5/library/csv.html#csv.Dialect.quoting )\n",
    "- on écrit une ligne en utilisant la méthode `.writerow()` qui prend comme argument une liste\n",
    "- on utilise `.writerow()` autant de fois que nécessaire\n",
    "    \n",
    "Regardons le fichier [data/csv/eggs.csv](data/csv/eggs.csv)\n",
    "\n",
    "En lançant l'exemple, on s'aperçoit que le `writer()` va rédiger deux lignes. Ce sont les deux que nous avons lues plus haut."
   ]
  },
  {
   "cell_type": "markdown",
   "metadata": {},
   "source": [
    "##### Exercice\n",
    "\n",
    "`modules_cours.chapitre4` est un module écrit spécifiquement pour ce cours (si vous êtes [curieux-ses](modules_cours/chapitre4.py)) Dans ce module, il y a la fonction `read_rss()` qui renvoie un générateur contenant des tuples Titre - Résumé - Lien - Date de publication. Par exemple :"
   ]
  },
  {
   "cell_type": "code",
   "execution_count": 2,
   "metadata": {},
   "outputs": [
    {
     "name": "stdout",
     "output_type": "stream",
     "text": [
      "('Journées BiblioPat 2019 - Le patrimoine MOUVEMENTé', '<div class=\"field field-name-body field-type-text-with-summary field-label-hidden\"><div class=\"field-items\"><div class=\"field-item even\" property=\"content:encoded\"><div class=\"field field-name-body field-type-text-with-summary field-label-hidden\">\\n<div class=\"field-items\">\\n<div class=\"field-item even\">\\n<p>Les journées d\\'étude BiblioPat 2019\\xa0<em>Le patrimoine MOUVEMENTé</em> ont lieu ces deux jours ci (7 et 8 novembre 2019) dans l\\'amphithéâtre de l\\'Académie de Médecine (Paris). Suivez les discussions en direct sur Twitter sur le compte de <span class=\"css-901oao css-16my406 r-1qd0xha r-ad9z0x r-bcqeeo r-qvutc0\"><a href=\"https://twitter.com/BiblioPat_fr\">@BiblioPat_fr</a> et avec le mot-dièse </span><span class=\"r-18u37iz\"><a class=\"css-4rbku5 css-18t94o4 css-901oao css-16my406 r-1n1174f r-1loqt21 r-1qd0xha r-ad9z0x r-bcqeeo r-1ny4l3l r-1ddef8g r-qvutc0 ext\" data-focusable=\"true\" dir=\"ltr\" href=\"https://twitter.com/hashtag/BiblioPat19?src=hashtag_click\" rel=\" noopener noreferrer\" role=\"link\" target=\"_blank\">#BiblioPat19</a></span></p>\\n<p><span class=\"r-18u37iz\"><img alt=\"\" src=\"http://www.bibliopat.fr/sites/default/files/piecesjointes/ei2k-3tw4aaftlc_0.jpg\" style=\"width: 80%; display: block; margin: auto;\" /></span></p>\\n</div>\\n</div>\\n</div>\\n</div></div></div><span class=\"submitted-by\"><i>Posté le 8 Novembre 2019</i></span><ul class=\"links inline\"><li class=\"node-readmore first\"><a href=\"/actualite-BiblioPat/journees-bibliopat-2019-le-patrimoine-mouvemente\" rel=\"tag\" title=\"Journées BiblioPat 2019 - Le patrimoine MOUVEMENTé\">Lire la suite<span class=\"element-invisible\"> de Journées BiblioPat 2019 - Le patrimoine MOUVEMENTé</span></a></li>\\n<li class=\"comment_forbidden last\"><span><a href=\"/user/login?destination=node/4006%23comment-form\">Connectez-vous</a> ou <a href=\"/user/register?destination=node/4006%23comment-form\">inscrivez-vous</a> pour publier un commentaire</span></li>\\n</ul>', 'http://www.bibliopat.fr/actualite-BiblioPat/journees-bibliopat-2019-le-patrimoine-mouvemente', 'Fri, 08 Nov 2019 13:38:24 +0000')\n",
      "('Ouverture des inscriptions aux Journées BiblioPat 2019', '<div class=\"field field-name-body field-type-text-with-summary field-label-hidden\"><div class=\"field-items\"><div class=\"field-item even\" property=\"content:encoded\"><p>Les journées d\\'étude BiblioPat 2019\\xa0<em>Le patrimoine MOUVEMENTé</em>\\xa0auront lieu les\\xa0jeudi 7 et vendredi 8 novembre 2019\\xa0dans l\\'amphithéâtre de l\\'Académie de Médecine (Paris).</p>\\n<p>Le programme prévisionnel est\\xa0<a href=\"/journees-detude/journees-bibliopat-2019-le-patrimoine-mouvemente\">disponible ici</a>. Les inscriptions sont closes.</p>\\n<p><a href=\"http://www.academie-medecine.fr\" target=\"_blank\"><img alt=\"Académie nationale de médecine : amphithéâtre\" src=\"http://bibliopat.fr/sites/default/files/acadmedecineamphitheatre.jpg\" style=\"width: 90%; margin: auto;display: block;\" /></a></p>\\n</div></div></div><span class=\"submitted-by\"><i>Posté le 10 Septembre 2019</i></span><ul class=\"links inline\"><li class=\"node-readmore first\"><a href=\"/actualite-BiblioPat/ouverture-des-inscriptions-aux-journees-bibliopat-2019\" rel=\"tag\" title=\"Ouverture des inscriptions aux Journées BiblioPat 2019\">Lire la suite<span class=\"element-invisible\"> de Ouverture des inscriptions aux Journées BiblioPat 2019</span></a></li>\\n<li class=\"comment_forbidden last\"><span><a href=\"/user/login?destination=node/3789%23comment-form\">Connectez-vous</a> ou <a href=\"/user/register?destination=node/3789%23comment-form\">inscrivez-vous</a> pour publier un commentaire</span></li>\\n</ul>', 'http://www.bibliopat.fr/actualite-BiblioPat/ouverture-des-inscriptions-aux-journees-bibliopat-2019', 'Tue, 10 Sep 2019 07:44:17 +0000')\n",
      "('Journées BiblioPat 2019 - Programme prévisionnel', '<div class=\"field field-name-body field-type-text-with-summary field-label-hidden\"><div class=\"field-items\"><div class=\"field-item even\" property=\"content:encoded\"><p>Le programme prévisionnel des prochaines <strong>Journées BiblioPat 2019</strong>, qui se tiendront les <strong>7-8 novembre</strong> à Paris (Académie nationale de Médecine), est disponible. Cette année, nous parlerons des <strong>mouvements de collections</strong> sous toutes leurs formes.</p>\\n<p><a href=\"http://bibliopat.fr/journees-detude/journees-bibliopat-2019-le-patrimoine-mouvemente\">Consulter le programme</a>.\\xa0</p>\\n<p><img alt=\"Procédé de déménagement inventé pour la bibliothèque de Poitiers, 1900\" src=\"http://www.bibliopat.fr/sites/default/files/3764_poi_f2_demenagement_bm_poitiers_1900_sm.jpg\" style=\"width: 100%; margin:auto; display:block;\" /></p>\\n</div></div></div><span class=\"submitted-by\"><i>Posté le 30 Juin 2019</i></span><ul class=\"links inline\"><li class=\"node-readmore first\"><a href=\"/actualite-BiblioPat/journees-bibliopat-2019-programme-previsionnel\" rel=\"tag\" title=\" Journées BiblioPat 2019 - Programme prévisionnel\">Lire la suite<span class=\"element-invisible\"> de  Journées BiblioPat 2019 - Programme prévisionnel</span></a></li>\\n<li class=\"comment_forbidden last\"><span><a href=\"/user/login?destination=node/3763%23comment-form\">Connectez-vous</a> ou <a href=\"/user/register?destination=node/3763%23comment-form\">inscrivez-vous</a> pour publier un commentaire</span></li>\\n</ul>', 'http://www.bibliopat.fr/actualite-BiblioPat/journees-bibliopat-2019-programme-previsionnel', 'Sun, 30 Jun 2019 17:58:40 +0000')\n",
      "('Des cathédrales de papier', '<div class=\"field field-name-body field-type-text-with-summary field-label-hidden\"><div class=\"field-items\"><div class=\"field-item even\" property=\"content:encoded\"><p>Comme la France et le monde entier, BiblioPat a les yeux tournés vers le souvenir des toits et la flèche de Notre-Dame de Paris.</p>\\n<p>&#13;<br />\\n&#13;</p>\\n<p><a href=\"https://catalogue.bnf.fr/ark:/12148/cb403124494\"><img alt=\"Notre-Dame (réf. Gallica)\" src=\"http://www.bibliopat.fr/sites/default/files/cathedrale_notre-dame_dessin_btv1b103033354.jpeg\" style=\"width: 100%; margin:auto;\" /></a></p>\\n<p>&#13;<br />\\n&#13;</p>\\n<p>L\\'association des professionnel-le-s du patrimoine écrit et graphique souhaite en profiter pour rappeler que les bibliothèques patrimoniales sont elles aussi souvent abritées dans des bâtiments historiques à la maintenance délicate, sinon parfois délaissée.</p>\\n<p>&#13;<br />\\n&#13;</p>\\n<p><a href=\"actualite-BiblioPat/des-cathedrales-de-papier\">Lire la suite</a></p>\\n<p>&#13;</p>\\n</div></div></div><span class=\"submitted-by\"><i>Posté le 20 Avril 2019</i></span><ul class=\"links inline\"><li class=\"node-readmore first\"><a href=\"/actualite-BiblioPat/des-cathedrales-de-papier\" rel=\"tag\" title=\"Des cathédrales de papier\">Lire la suite<span class=\"element-invisible\"> de Des cathédrales de papier</span></a></li>\\n<li class=\"comment_forbidden last\"><span><a href=\"/user/login?destination=node/3704%23comment-form\">Connectez-vous</a> ou <a href=\"/user/register?destination=node/3704%23comment-form\">inscrivez-vous</a> pour publier un commentaire</span></li>\\n</ul>', 'http://www.bibliopat.fr/actualite-BiblioPat/des-cathedrales-de-papier', 'Sat, 20 Apr 2019 11:09:16 +0000')\n",
      "(\"Vœux du Conseil d'administration\", '<div class=\"field field-name-body field-type-text-with-summary field-label-hidden\"><div class=\"field-items\"><div class=\"field-item even\" property=\"content:encoded\"><h3>Le conseil d\\'administration de BiblioPat vous présente ses meilleurs voeux !</h3>\\n<p><img alt=\"\" src=\"../../sites/default/files/carte_de_voeux_2019.png\" style=\"height: 352px; width: 250px;margin: auto;\" /></p>\\n</div></div></div><span class=\"submitted-by\"><i>Posté le 15 Janvier 2019</i></span><ul class=\"links inline\"><li class=\"node-readmore first\"><a href=\"/actualite-BiblioPat/voeux2019\" rel=\"tag\" title=\"Vœux du Conseil d&#039;administration \">Lire la suite<span class=\"element-invisible\"> de Vœux du Conseil d&#039;administration </span></a></li>\\n<li class=\"comment_forbidden last\"><span><a href=\"/user/login?destination=node/3663%23comment-form\">Connectez-vous</a> ou <a href=\"/user/register?destination=node/3663%23comment-form\">inscrivez-vous</a> pour publier un commentaire</span></li>\\n</ul>', 'http://www.bibliopat.fr/actualite-BiblioPat/voeux2019', 'Tue, 15 Jan 2019 09:04:05 +0000')\n",
      "('Ouverture des inscriptions aux Journées BiblioPat 2018', '<div class=\"field field-name-body field-type-text-with-summary field-label-hidden\"><div class=\"field-items\"><div class=\"field-item even\" property=\"content:encoded\"><p>Les journées d\\'étude BiblioPat 2018\\xa0<em>Le patrimoine écrit dans la cité</em>\\xa0auront lieu les\\xa0jeudi 22 et vendredi 23 novembre 2018\\xa0dans l\\'amphithéâtre du Campus Condorcet\\xa0à La Plaine Saint-Denis.</p>\\n<p>Le programme prévisionnel est\\xa0<a href=\"./journees-detude/journees-bibliopat-2018-le-patrimoine-ecrit-dans-la-cite\">disponible ici</a>.\\xa0<a href=\"./node/add/inscription\">Inscrivez-vous</a>\\xa0dès maintenant !\\xa0</p>\\n</div></div></div><span class=\"submitted-by\"><i>Posté le 12 Octobre 2018</i></span><ul class=\"links inline\"><li class=\"node-readmore first\"><a href=\"/actualite-BiblioPat/ouverture-des-inscriptions-aux-journees-bibliopat-2018\" rel=\"tag\" title=\"Ouverture des inscriptions aux Journées BiblioPat 2018\">Lire la suite<span class=\"element-invisible\"> de Ouverture des inscriptions aux Journées BiblioPat 2018</span></a></li>\\n<li class=\"comment_forbidden last\"><span><a href=\"/user/login?destination=node/3417%23comment-form\">Connectez-vous</a> ou <a href=\"/user/register?destination=node/3417%23comment-form\">inscrivez-vous</a> pour publier un commentaire</span></li>\\n</ul>', 'http://www.bibliopat.fr/actualite-BiblioPat/ouverture-des-inscriptions-aux-journees-bibliopat-2018', 'Fri, 12 Oct 2018 12:59:17 +0000')\n",
      "(\"Adhérez à l'association !\", '<div class=\"field field-name-body field-type-text-with-summary field-label-hidden\"><div class=\"field-items\"><div class=\"field-item even\" property=\"content:encoded\"><p>L’association ne recevant aucune subvention, c’est grâce aux adhésions que peuvent être organisée les Journées d\\'étude.\\xa0Cette année, il nous manque\\xa0<strong>56 adhésions</strong>\\xa0pour pouvoir les préparer. C’est pourquoi, nous organisons entre le\\xa0<strong>1er et le 5 octobre</strong>\\xa0une\\xa0<strong>collecte d\\'adhésions flash.<br /><a href=\"http://www.bibliopat.fr/adherer-a-lassociation\">Adhérez à l\\'association</a> !</strong></p>\\n</div></div></div><span class=\"submitted-by\"><i>Posté le 25 Septembre 2018</i></span><ul class=\"links inline\"><li class=\"node-readmore first\"><a href=\"/actualite-BiblioPat/adherez-a-lassociation\" rel=\"tag\" title=\"Adhérez à l&#039;association !\">Lire la suite<span class=\"element-invisible\"> de Adhérez à l&#039;association !</span></a></li>\\n<li class=\"comment_forbidden last\"><span><a href=\"/user/login?destination=node/3416%23comment-form\">Connectez-vous</a> ou <a href=\"/user/register?destination=node/3416%23comment-form\">inscrivez-vous</a> pour publier un commentaire</span></li>\\n</ul>', 'http://www.bibliopat.fr/actualite-BiblioPat/adherez-a-lassociation', 'Mon, 24 Sep 2018 22:00:00 +0000')\n",
      "('TEAM @BiblioPat_fr : ça gazouille', '<div class=\"field field-name-body field-type-text-with-summary field-label-hidden\"><div class=\"field-items\"><div class=\"field-item even\" property=\"content:encoded\"><p>Twitter, pour quoi faire? Suivre les actu BiblioPat en live ; veille collaborative (Infos, colloques, journées d\\'étude, expositions, bases de données, perles de la liste, offres d\\'emploi...). Soyez de la TEAM <a class=\"twitter-hashtag pretty-link js-nav\" data-query-source=\"hashtag_click\" dir=\"ltr\" href=\"https://twitter.com/hashtag/BiblioPat?src=hash\"><s>#</s><b>BiblioPat</b></a> !\\xa0</p>\\n<p><img alt=\"\" src=\"http://www.bibliopat.fr/sites/default/files/2017_02_01_twittteam.jpg\" style=\"width: 90%; display: block; margin: auto;\" /></p>\\n</div></div></div><span class=\"submitted-by\"><i>Posté le 8 Février 2017</i></span><ul class=\"links inline\"><li class=\"node-readmore first\"><a href=\"/actualite-BiblioPat/team-bibliopatfr-ca-gazouille\" rel=\"tag\" title=\"TEAM @BiblioPat_fr : ça gazouille\">Lire la suite<span class=\"element-invisible\"> de TEAM @BiblioPat_fr : ça gazouille</span></a></li>\\n<li class=\"comment_forbidden last\"><span><a href=\"/user/login?destination=node/1682%23comment-form\">Connectez-vous</a> ou <a href=\"/user/register?destination=node/1682%23comment-form\">inscrivez-vous</a> pour publier un commentaire</span></li>\\n</ul>', 'http://www.bibliopat.fr/actualite-BiblioPat/team-bibliopatfr-ca-gazouille', 'Wed, 08 Feb 2017 15:14:34 +0000')\n",
      "('Ouverture des inscriptions aux Journées BiblioPat 2016', '<div class=\"field field-name-body field-type-text-with-summary field-label-hidden\"><div class=\"field-items\"><div class=\"field-item even\" property=\"content:encoded\"><p>Les journées d\\'étude BiblioPat 2016<em><strong> </strong></em> <strong><em>Publics, medias et médiations du patrimoine</em></strong> auront lieu les <strong>jeudi 17 et vendredi 18 novembre 2016</strong> au Musée de l’Homme à Paris.</p>\\n<p>Consulter le <a href=\"/journees-detude/journees-detude-2016-publics-medias-et-mediations-du-patrimoine\">programme</a>. <s><strong>S\\'inscrire (inscription gratuite et obligatoire).</strong></s><strong> Les inscriptions sont closes</strong></p>\\n</div></div></div><span class=\"submitted-by\"><i>Posté le 10 Octobre 2016</i></span><ul class=\"links inline\"><li class=\"node-readmore first\"><a href=\"/actualite-BiblioPat/ouverture-des-inscriptions-aux-journees-bibliopat-2016\" rel=\"tag\" title=\"Ouverture des inscriptions aux Journées BiblioPat 2016\">Lire la suite<span class=\"element-invisible\"> de Ouverture des inscriptions aux Journées BiblioPat 2016</span></a></li>\\n<li class=\"comment_forbidden last\"><span><a href=\"/user/login?destination=node/1315%23comment-form\">Connectez-vous</a> ou <a href=\"/user/register?destination=node/1315%23comment-form\">inscrivez-vous</a> pour publier un commentaire</span></li>\\n</ul>', 'http://www.bibliopat.fr/actualite-BiblioPat/ouverture-des-inscriptions-aux-journees-bibliopat-2016', 'Mon, 10 Oct 2016 12:41:54 +0000')\n",
      "('Meilleurs voeux 2016', '<div class=\"field field-name-body field-type-text-with-summary field-label-hidden\"><div class=\"field-items\"><div class=\"field-item even\" property=\"content:encoded\"><p><a href=\"http://www.bibliopat.fr/sites/default/files/carte_de_voeux_2016-1.png\" target=\"_blank\"><img alt=\"  \" src=\"http://bibliopat.fr/sites/default/files/carte_de_voeux_2016-1.png\" style=\"height:128px; line-height:23.1111px; width:200px\" /></a></p>\\n</div></div></div><span class=\"submitted-by\"><i>Posté le 29 Janvier 2016</i></span><ul class=\"links inline\"><li class=\"node-readmore first\"><a href=\"/actualite-BiblioPat/meilleurs-voeux-2016\" rel=\"tag\" title=\"Meilleurs voeux 2016\">Lire la suite<span class=\"element-invisible\"> de Meilleurs voeux 2016</span></a></li>\\n<li class=\"comment_forbidden last\"><span><a href=\"/user/login?destination=node/1195%23comment-form\">Connectez-vous</a> ou <a href=\"/user/register?destination=node/1195%23comment-form\">inscrivez-vous</a> pour publier un commentaire</span></li>\\n</ul>', 'http://www.bibliopat.fr/actualite-BiblioPat/meilleurs-voeux-2016', 'Fri, 29 Jan 2016 07:15:59 +0000')\n"
     ]
    }
   ],
   "source": [
    "from modules_cours.chapitre4 import read_rss\n",
    "\n",
    "# Il s'agit ici de l'adresse RSS d'un flux de la BNF: flux RSS c'est liste des derniers \n",
    "# articles publiés: sous la forme de XML avec tags prévus dans espace de nom donnés avec dates, noms, etc\n",
    "for entree in read_rss(\"http://www.bibliopat.fr/rss-actualites\"):\n",
    "    print(entree)"
   ]
  },
  {
   "cell_type": "markdown",
   "metadata": {},
   "source": [
    "À partir de cette fonction, réaliser un CSV (en utilisant le délimiteur `\\t`) pour le flux RSS de Bibliopat : `http://www.bibliopat.fr/rss-actualites`. Le CSV sera stocké à `bibliopat.csv`."
   ]
  },
  {
   "cell_type": "code",
   "execution_count": 9,
   "metadata": {},
   "outputs": [],
   "source": [
    "from modules_cours.chapitre4 import read_rss\n",
    "import csv\n",
    "\n",
    "# Votre code ici\n",
    "\n",
    "with open(\"resultats/bibliopat.csv\", \"w\") as f:\n",
    "    for entree in read_rss(\"http://www.bibliopat.fr/rss-actualites\"):\n",
    "        csvwriter = csv.writer(f, delimiter = \"\\t\")\n",
    "        csvwriter.writerow([entree[0],entree[1],entree[2],entree[3]])"
   ]
  },
  {
   "cell_type": "markdown",
   "metadata": {},
   "source": [
    "##### Avez-vous remarqué ?\n",
    "\n",
    "Ci-dessus, nous avons utilisé `from ___ import ___`. Cette structure d'import nous permet de n'importer qu'un sous-module ou une sous-fonction en particulier. Très pratique pour éviter les noms à rallonge !"
   ]
  },
  {
   "cell_type": "markdown",
   "metadata": {},
   "source": [
    "----\n",
    "\n",
    "#### Ce que l'on a appris\n",
    "\n",
    "Pour finir cette section, voici un récapitulatif des concepts appris. Lisez la liste et posez des questions si certaines choses ne sont pas claires.\n",
    "\n",
    "- `import`\n",
    "- `from ___ import ___`\n",
    "- la notion de librairie/module/package\n",
    "- `csv.reader()`\n",
    "- `csv.writer()`\n",
    "- `enumerate()`\n",
    "- Lire une documentation et ses exemples\n",
    "\n",
    "#### Ce que l'on recommande d'approfondir\n",
    "\n",
    "Si les fonctions `csv.reader()` et `csv.writer()` sont sympathiques, les fonctions `DictReader` et `DictWriter` le sont beaucoup plus : elles stockent les noms de colonnes ! *cf.* [la documentation](https://docs.python.org/3.5/library/csv.html#csv.DictReader)"
   ]
  }
 ],
 "metadata": {
  "kernelspec": {
   "display_name": "Python 3",
   "language": "python",
   "name": "python3"
  },
  "language_info": {
   "codemirror_mode": {
    "name": "ipython",
    "version": 3
   },
   "file_extension": ".py",
   "mimetype": "text/x-python",
   "name": "python",
   "nbconvert_exporter": "python",
   "pygments_lexer": "ipython3",
   "version": "3.7.3"
  }
 },
 "nbformat": 4,
 "nbformat_minor": 2
}
