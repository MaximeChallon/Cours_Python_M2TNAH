{
 "cells": [
  {
   "cell_type": "markdown",
   "metadata": {},
   "source": [
    "# Chapitre 4.3 - Les fichiers CSV, JSON et les requêtes\n",
    "\n",
    "---\n",
    "\n",
    "## 1. La structure du web : comment communique-t-on avec un serveur ?\n",
    "\n",
    "![Anatomie d'une communication HTTP](images/http.request.scheme.png)\n",
    "\n",
    "Lors d'une communication HTTP avec un serveur, la communication est divisible en deux : l'envoi de la requête et la réponse du serveur. Ces deux éléments de la communication répondent à un ensemble de standards très stricts permettant le fonctionnement du web tel que nous le connaissons."
   ]
  },
  {
   "cell_type": "markdown",
   "metadata": {},
   "source": [
    "### 1.A. Anatomie d'une requête :\n",
    "\n",
    "![Anatomie d'une requête HTTP](images/http.request.request.png)\n",
    "\n",
    "La requête, c'est-à-dire l'information envoyée au serveur, est composée à minima de trois types d'informations :\n",
    "\n",
    "- l'URL\n",
    "- la méthode\n",
    "- les headers\n",
    "\n",
    "#### URL\n",
    "\n",
    "Voir le [schéma](images/url.png) ([Source](https://cascadingmedia.com/assets/images/insites/2015/02/url-anatomy/url-anatomy-55598c24.png) : à connaître absolument! www n'est pas nécessaire. https est en crypté (les onnées sont transmises en cryptées, donc plus sécurisées: on peut revenir à la données avec un cryptage, pas avec un hashage).\n",
    "\n",
    "L'URL est une information que l'on connait tous. C'est l'adresse dont on requiert le contenu. Typiquement, l'adresse est divisible en plusieurs parties. Celle qui peut être importante et qui changera surement suivant les utilisateurs est la partie *query* qui permet d'apporter des informations supplémentaires.\n",
    "\n",
    "Par exemple, dans http://cts.dh.uni-leipzig.de/api/cts?request=GetCapabilities&urn=urn:cts:latinLit:phi1294 , on a deux paramètres fournis :\n",
    "\n",
    "| Nom | Valeur |\n",
    "| --- | ------ |\n",
    "| urn | urn:cts:latinLit:phi1294 |\n",
    "| request | GetCapabilities |\n",
    "\n",
    "#### Méthode\n",
    "\n",
    "La méthode informe le serveur de ce que vous allez vouloir faire. 90% des requêtes que vous faites en naviguant sur le web sont en GET : vous récupérez de l'information. Vous utilisez sur les 9.9% restant la requête POST, notamment quand vous vous connectez sur vos comptes sur les divers sites que vous utilisez.\n",
    "\n",
    "#### Les Headers\n",
    "\n",
    "Le Header comporte des informations sur vos attentes et votre contexte de requêtage. Par exemple, on peut demander via les Headers un format de réponse particulier (d'après son [mimetype](https://fr.wikipedia.org/wiki/Type_MIME) : html, xml ou json par exemple : \n",
    "\n",
    "| Headers Clé | Headers Valeur   |\n",
    "| ----------- | ---------------- |\n",
    "| Accept      | application/json |\n",
    "\n",
    "#### (Optionnel) Le Corps (Body, data, etc.)\n",
    "\n",
    "Dans le cadre de l'envoi d'un formulaire ou d'un fichier, on a un corps dans la requête. Beaucoup de formats différents sont possibles dans ce cadre. De nombreuses API acceptent par exemple l'encodage en JSON de vos informations."
   ]
  },
  {
   "cell_type": "markdown",
   "metadata": {},
   "source": [
    "### 1.B. Anatomie d'une réponse\n",
    "\n",
    "![Anatomie d'une réponse HTTP](images/http.request.response.png)\n",
    "\n",
    "La réponse est composée de trois éléments aussi :\n",
    "\n",
    "#### Les Headers \n",
    "\n",
    "Tout comme la requête, les Headers nous renvoient l'information sur la réponse. Voici quelques headers utiles.\n",
    "\n",
    "\n",
    "| Headers Clé | Headers Valeur   | Note |\n",
    "| ----------- | ---------------- | ---- |\n",
    "| Encoding      | application/json | Type Mime de la réponse |\n",
    "\n",
    "#### Le code HTTP\n",
    "\n",
    "Le code HTTP nous informe sur le statut de la réponse. Vous connaissez *à minima* le code 404, qui indique que la ressource demandée n'est pas disponible. Il existe bien d'autres codes (*cf.* [Wikipedia](https://fr.wikipedia.org/wiki/Liste_des_codes_HTTP) :\n",
    "- 200 : succès de la requête ;\n",
    "- 301 et 302 : redirection, respectivement permanente et temporaire ;\n",
    "- 401 : utilisateur non authentifié ;\n",
    "- 403 : accès refusé ;\n",
    "- 404 : page non trouvée ;\n",
    "- 500 et 503 : erreur serveur.\n",
    "- 418 : \"I’m a teapot\" (Blague du 1er avril 1998 restée dans le standard)\n",
    "\n",
    "\n",
    "\n",
    "#### Le Corps\n",
    "\n",
    "Le corps de la réponse contient bien évidemment ce que vous voyez lorsque vous faites une requête : le contenu html, le contenu en plein texte, le contenu json, etc."
   ]
  },
  {
   "cell_type": "markdown",
   "metadata": {},
   "source": [
    "## 2. Faire des requêtes http en python : le module request\n",
    "\n",
    "\n",
    "### 2.A Le module `requests`\n",
    "\n",
    "Tout comme il existe pour python des modules pour gérer les CSV et les JSON, il en existe pour faire des requêtes WEB. Cela dit, ils ne font pas partie du coeur de Python ! C'est pour ça que nous les avons installés. En effet, quant à l'installation, vous avez tapé `pip install -r requirements.txt`, vous avez demandé à PIP (un gestionnaire de dépendances/librairies de python) d'installer chaque librairie citée dans le fichier `requirements.txt`. L'une d'entre elles était `requests`\n",
    "\n",
    "Le module `requests` possède sa documentation sur son [propre site](http://docs.python-requests.org/en/master/). Au moment de l'écriture, le module est dans sa version 2.18.4.\n",
    "\n",
    "### 2.B Faire une requête GET:\n",
    "\n",
    "Le module est très simple : il propose une fonction `get` qui prend une URL !"
   ]
  },
  {
   "cell_type": "code",
   "execution_count": 1,
   "metadata": {},
   "outputs": [
    {
     "name": "stdout",
     "output_type": "stream",
     "text": [
      "<Response [200]>\n"
     ]
    }
   ],
   "source": [
    "import requests\n",
    "\n",
    "# Pour l'exemple nous utilisons l'API de Chronicling America, un projet de numérisation de journaux\n",
    "# Américains\n",
    "req = requests.get(\"https://chroniclingamerica.loc.gov/search/pages/results/?format=json&proxtext=ecole+nationale\")\n",
    "print(req)"
   ]
  },
  {
   "cell_type": "markdown",
   "metadata": {},
   "source": [
    "Les objets `Response` ont plusieurs propriétés intéressantes : \n",
    "\n",
    "- `.status_code` sous la forme d'un entier qui informe du succès de la requête\n",
    "- `.headers` sous la forme d'un dictionnaire qui comporte l'ensemble des headers\n",
    "- `.encoding` qui comprend la méthode d'encodage\n",
    "- `.text` qui contient le contenu de la réponse\n",
    "- `.json()` qui, si `.headers['content-type']` est `application/json`, parse lui-même le json de la réponse. \n",
    "\n",
    "Voyons un peu leur contenu :"
   ]
  },
  {
   "cell_type": "code",
   "execution_count": 2,
   "metadata": {},
   "outputs": [
    {
     "name": "stdout",
     "output_type": "stream",
     "text": [
      "200\n",
      "{'Date': 'Thu, 09 Jan 2020 10:09:48 GMT', 'Content-Type': 'application/json', 'Transfer-Encoding': 'chunked', 'Connection': 'keep-alive', 'Set-Cookie': '__cfduid=d7b32221d81e1979cfb8014d12cff01e01578564588; expires=Sat, 08-Feb-20 10:09:48 GMT; path=/; domain=.loc.gov; HttpOnly; SameSite=Lax', 'Last-Modified': 'Wed, 08 Jan 2020 12:53:41 GMT', 'Expires': 'Thu, 09 Jan 2020 12:53:41 GMT', 'Cache-Control': 's-maxage=86400, public, max-age=86400', 'Access-Control-Allow-Origin': '*', 'Access-Control-Allow-Headers': 'X-requested-with', 'X-Frame-Options': 'SAMEORIGIN', 'Content-Encoding': 'gzip', 'Vary': 'Accept-Encoding', 'X-Varnish': '27674905', 'Age': '76569', 'Via': '1.1 varnish (Varnish/5.2)', 'CF-Cache-Status': 'HIT', 'Expect-CT': 'max-age=604800, report-uri=\"https://report-uri.cloudflare.com/cdn-cgi/beacon/expect-ct\"', 'Server': 'cloudflare', 'CF-RAY': '55259e23ac82edb7-CDG'}\n",
      "None\n"
     ]
    }
   ],
   "source": [
    "print(req.status_code)\n",
    "print(req.headers)\n",
    "print(req.encoding)"
   ]
  },
  {
   "cell_type": "markdown",
   "metadata": {},
   "source": [
    "Une méthode est une sous-fonction; la variable sur lequel elle porte fait partie des paramètres:\n",
    "    req.json() a pour paramètre req."
   ]
  },
  {
   "cell_type": "code",
   "execution_count": 3,
   "metadata": {},
   "outputs": [
    {
     "name": "stdout",
     "output_type": "stream",
     "text": [
      "\"arizona post.\" a publié un article comprenant 'école nationale' le 11/01/1963\n",
      "\"mississippi enterprise.\" a publié un article comprenant 'école nationale' le 16/10/1954\n",
      "\"evening star.\" a publié un article comprenant 'école nationale' le 27/04/1930\n",
      "\"washington times.\" a publié un article comprenant 'école nationale' le 13/11/1921\n",
      "\"evening star.\" a publié un article comprenant 'école nationale' le 26/06/1932\n",
      "\"evening star.\" a publié un article comprenant 'école nationale' le 10/04/1932\n",
      "\"evening star.\" a publié un article comprenant 'école nationale' le 28/06/1931\n",
      "\"jackson advocate.\" a publié un article comprenant 'école nationale' le 09/10/1954\n",
      "\"auttaja.\" a publié un article comprenant 'école nationale' le 22/11/1951\n",
      "\"sistersville daily oil review.\" a publié un article comprenant 'école nationale' le 16/09/1902\n",
      "\"santa fe new mexican.\" a publié un article comprenant 'école nationale' le 13/01/1910\n",
      "\"wenatchee daily world.\" a publié un article comprenant 'école nationale' le 10/01/1910\n",
      "\"evening star.\" a publié un article comprenant 'école nationale' le 04/10/1927\n",
      "\"weekly thibodaux sentinel and journal of the 8th senatorial district.\" a publié un article comprenant 'école nationale' le 02/03/1895\n",
      "\"deutsche correspondent.\" a publié un article comprenant 'école nationale' le 24/07/1905\n",
      "\"echo de l'ouest.\" a publié un article comprenant 'école nationale' le 25/04/1889\n",
      "\"echo de l'ouest.\" a publié un article comprenant 'école nationale' le 18/10/1895\n",
      "\"echo de l'ouest.\" a publié un article comprenant 'école nationale' le 03/04/1914\n",
      "\"lake county times.\" a publié un article comprenant 'école nationale' le 24/05/1910\n",
      "\"arizona republican.\" a publié un article comprenant 'école nationale' le 21/02/1917\n"
     ]
    }
   ],
   "source": [
    "# Puisque l'on a du json, on peut le traiter comme un dictionnaire ou une liste\n",
    "# Une rapide ouverture de la page m'informe que le nom du journal est disponible à la clé \"\"\n",
    "\n",
    "for resultat in req.json()[\"items\"]:\n",
    "    print(\"\\\"{titre}\\\" a publié un article comprenant 'école nationale' le {jour}/{mois}/{annee}\".format(\n",
    "        titre=resultat[\"title_normal\"], \n",
    "        annee=resultat[\"date\"][:4], \n",
    "        mois=resultat[\"date\"][4:6],\n",
    "        jour=resultat[\"date\"][6:]\n",
    "    ))"
   ]
  },
  {
   "cell_type": "markdown",
   "metadata": {},
   "source": [
    "La construction d'URL pouvant poser des problèmes (échappement de caractère par exemple), `requests.get()` accepte un paramètre `params`:"
   ]
  },
  {
   "cell_type": "code",
   "execution_count": 4,
   "metadata": {},
   "outputs": [
    {
     "name": "stdout",
     "output_type": "stream",
     "text": [
      "URL : https://scaife-cts.perseus.org/api/cts?urn=urn%3Acts%3AlatinLit%3Aphi1294.phi002.perseus-lat2%3A1.pr.1&request=GetPassage\n",
      "<GetPassage xmlns=\"http://chs.harvard.edu/xmlns/cts\">\n",
      "    <request>\n",
      "        <requestName>GetPassage</requestName>\n",
      "        <requestUrn>urn:cts:latinLit:phi1294.phi002.perseus-lat2:1.pr.1</requestUrn>\n",
      "    </request>\n",
      "    <reply>\n",
      "        <urn>urn:cts:latinLit:phi1294.phi002.perseus-lat2:1.pr.1</urn>\n",
      "        <passage>\n",
      "            <TEI xmlns=\"http://www.tei-c.org/ns/1.0\" xmlns:py=\"http://codespeak.net/lxml/objectify/pytype\" py:pytype=\"TREE\"><text n=\"urn:cts:latinLit:phi1294.phi002.perseus-lat2\" xml:id=\"stoa0045.stoa0\"><body><div type=\"edition\" n=\"urn:cts:latinLit:phi1294.phi002.perseus-lat2\" xml:lang=\"lat\"><div type=\"textpart\" subtype=\"book\" n=\"1\"><div type=\"textpart\" subtype=\"poem\" n=\"pr\"><l n=\"1\">Spero me secutum in libellis meis tale temperamen-</l></div></div></div></body></text></TEI>\n",
      "        </passage>\n",
      "    </reply>\n",
      "</GetPassage>\n"
     ]
    }
   ],
   "source": [
    "req = requests.get(\"https://scaife-cts.perseus.org/api/cts\", params={\n",
    "    \"urn\": \"urn:cts:latinLit:phi1294.phi002.perseus-lat2:1.pr.1\",\n",
    "    \"request\": \"GetPassage\"\n",
    "})\n",
    "print(\"URL : \" + req.url)\n",
    "if req.status_code == 200:\n",
    "    print(req.text)\n",
    "# params sert à remplir les paramètres d'Url\n",
    "# les % sont dus aux : : c'est l'encodage url (%20 = espace)"
   ]
  },
  {
   "cell_type": "markdown",
   "metadata": {},
   "source": [
    "De la même manière, la méthode `.get()` accepte des headers sous la forme d'un dictionnaire :"
   ]
  },
  {
   "cell_type": "code",
   "execution_count": 5,
   "metadata": {},
   "outputs": [
    {
     "name": "stdout",
     "output_type": "stream",
     "text": [
      "<rdf:RDF xmlns:rdf=\"http://www.w3.org/1999/02/22-rdf-syntax-ns#\">\n",
      "  <oac:Annotation xmlns:oac=\"http://www.openannotation.org/ns/\" rdf:about=\"urn:TuftsMorphologyService:lasciva:whitakerLat\">\n",
      "    <dcterms:creator xmlns:dcterms=\"http://purl.org/dc/terms/\">\n",
      "      <foaf:Agent xmlns:foaf=\"http://xmlns.com/foaf/0.1/\" rdf:about=\"net.alpheios:tools:wordsxml.v1\"/>\n",
      "    </dcterms:creator>\n",
      "    <dcterms:created xmlns:dcterms=\"http://purl.org/dc/terms/\">2020-01-09T10:20:25.177826</dcterms:created>\n",
      "    <dc:rights xmlns:dc=\"http://purl.org/dc/elements/1.1/\">Short definitions and morphology from Words by William Whitaker, Copyright 1993-2007.</dc:rights>\n",
      "    <oac:hasTarget>\n",
      "      <rdf:Description rdf:about=\"urn:word:lasciva\"/>\n",
      "    </oac:hasTarget>\n",
      "    <dc:title xmlns:dc=\"http://purl.org/dc/elements/1.1/\"/>\n",
      "    <oac:hasBody rdf:resource=\"urn:uuid:idm140102671217920\"/>\n",
      "    <oac:Body rdf:about=\"urn:uuid:idm140102671217920\">\n",
      "      <rdf:type rdf:resource=\"cnt:ContentAsXML\"/>\n",
      "      <cnt:rest xmlns:cnt=\"http://www.w3.org/2008/content#\">\n",
      "        <entry>\n",
      "          <infl>\n",
      "            <term xml:lang=\"lat\">\n",
      "              <stem>lasciv</stem>\n",
      "              <suff>a</suff>\n",
      "            </term>\n",
      "            <pofs order=\"4\">adjective</pofs>\n",
      "            <decl>1st</decl>\n",
      "            <var>1st</var>\n",
      "            <case order=\"7\">nominative</case>\n",
      "            <num>singular</num>\n",
      "            <gend>feminine</gend>\n",
      "            <comp>positive</comp>\n",
      "          </infl>\n",
      "          <infl>\n",
      "            <term xml:lang=\"lat\">\n",
      "              <stem>lasciv</stem>\n",
      "              <suff>a</suff>\n",
      "            </term>\n",
      "            <pofs order=\"4\">adjective</pofs>\n",
      "            <decl>1st</decl>\n",
      "            <var>1st</var>\n",
      "            <case order=\"1\">vocative</case>\n",
      "            <num>singular</num>\n",
      "            <gend>feminine</gend>\n",
      "            <comp>positive</comp>\n",
      "          </infl>\n",
      "          <infl>\n",
      "            <term xml:lang=\"lat\">\n",
      "              <stem>lasciv</stem>\n",
      "              <suff>a</suff>\n",
      "            </term>\n",
      "            <pofs order=\"4\">adjective</pofs>\n",
      "            <decl>1st</decl>\n",
      "            <var>1st</var>\n",
      "            <case order=\"3\">ablative</case>\n",
      "            <num>singular</num>\n",
      "            <gend>feminine</gend>\n",
      "            <comp>positive</comp>\n",
      "          </infl>\n",
      "          <infl>\n",
      "            <term xml:lang=\"lat\">\n",
      "              <stem>lasciv</stem>\n",
      "              <suff>a</suff>\n",
      "            </term>\n",
      "            <pofs order=\"4\">adjective</pofs>\n",
      "            <decl>1st</decl>\n",
      "            <var>1st</var>\n",
      "            <case order=\"7\">nominative</case>\n",
      "            <num>plural</num>\n",
      "            <gend>neuter</gend>\n",
      "            <comp>positive</comp>\n",
      "          </infl>\n",
      "          <infl>\n",
      "            <term xml:lang=\"lat\">\n",
      "              <stem>lasciv</stem>\n",
      "              <suff>a</suff>\n",
      "            </term>\n",
      "            <pofs order=\"4\">adjective</pofs>\n",
      "            <decl>1st</decl>\n",
      "            <var>1st</var>\n",
      "            <case order=\"1\">vocative</case>\n",
      "            <num>plural</num>\n",
      "            <gend>neuter</gend>\n",
      "            <comp>positive</comp>\n",
      "          </infl>\n",
      "          <infl>\n",
      "            <term xml:lang=\"lat\">\n",
      "              <stem>lasciv</stem>\n",
      "              <suff>a</suff>\n",
      "            </term>\n",
      "            <pofs order=\"4\">adjective</pofs>\n",
      "            <decl>1st</decl>\n",
      "            <var>1st</var>\n",
      "            <case order=\"4\">accusative</case>\n",
      "            <num>plural</num>\n",
      "            <gend>neuter</gend>\n",
      "            <comp>positive</comp>\n",
      "          </infl>\n",
      "          <dict>\n",
      "            <hdwd xml:lang=\"lat\">lascivus, lasciva, lascivum</hdwd>\n",
      "            <pofs order=\"4\">adjective</pofs>\n",
      "            <freq order=\"5\">frequent</freq>\n",
      "          </dict>\n",
      "          <mean>playful; lustful, wanton; impudent, mischievous; free from restraint;</mean>\n",
      "        </entry>\n",
      "      </cnt:rest>\n",
      "    </oac:Body>\n",
      "  </oac:Annotation>\n",
      "</rdf:RDF>\n",
      "\n",
      "{\"RDF\": {\"Annotation\": {\"about\": \"urn:TuftsMorphologyService:lasciva:whitakerLat\", \"creator\": {\"Agent\": {\"about\": \"net.alpheios:tools:wordsxml.v1\"}}, \"created\": {\"$\": \"2020-01-09T10:20:25.454743\"}, \"rights\": {\"$\": \"Short definitions and morphology from Words by William Whitaker, Copyright 1993-2007.\"}, \"hasTarget\": {\"Description\": {\"about\": \"urn:word:lasciva\"}}, \"title\": {}, \"hasBody\": {\"resource\": \"urn:uuid:idm140090967116536\"}, \"Body\": {\"about\": \"urn:uuid:idm140090967116536\", \"type\": {\"resource\": \"cnt:ContentAsXML\"}, \"rest\": {\"entry\": {\"infl\": [{\"term\": {\"lang\": \"lat\", \"stem\": {\"$\": \"lasciv\"}, \"suff\": {\"$\": \"a\"}}, \"pofs\": {\"order\": 4, \"$\": \"adjective\"}, \"decl\": {\"$\": \"1st\"}, \"var\": {\"$\": \"1st\"}, \"case\": {\"order\": 7, \"$\": \"nominative\"}, \"num\": {\"$\": \"singular\"}, \"gend\": {\"$\": \"feminine\"}, \"comp\": {\"$\": \"positive\"}}, {\"term\": {\"lang\": \"lat\", \"stem\": {\"$\": \"lasciv\"}, \"suff\": {\"$\": \"a\"}}, \"pofs\": {\"order\": 4, \"$\": \"adjective\"}, \"decl\": {\"$\": \"1st\"}, \"var\": {\"$\": \"1st\"}, \"case\": {\"order\": 1, \"$\": \"vocative\"}, \"num\": {\"$\": \"singular\"}, \"gend\": {\"$\": \"feminine\"}, \"comp\": {\"$\": \"positive\"}}, {\"term\": {\"lang\": \"lat\", \"stem\": {\"$\": \"lasciv\"}, \"suff\": {\"$\": \"a\"}}, \"pofs\": {\"order\": 4, \"$\": \"adjective\"}, \"decl\": {\"$\": \"1st\"}, \"var\": {\"$\": \"1st\"}, \"case\": {\"order\": 3, \"$\": \"ablative\"}, \"num\": {\"$\": \"singular\"}, \"gend\": {\"$\": \"feminine\"}, \"comp\": {\"$\": \"positive\"}}, {\"term\": {\"lang\": \"lat\", \"stem\": {\"$\": \"lasciv\"}, \"suff\": {\"$\": \"a\"}}, \"pofs\": {\"order\": 4, \"$\": \"adjective\"}, \"decl\": {\"$\": \"1st\"}, \"var\": {\"$\": \"1st\"}, \"case\": {\"order\": 7, \"$\": \"nominative\"}, \"num\": {\"$\": \"plural\"}, \"gend\": {\"$\": \"neuter\"}, \"comp\": {\"$\": \"positive\"}}, {\"term\": {\"lang\": \"lat\", \"stem\": {\"$\": \"lasciv\"}, \"suff\": {\"$\": \"a\"}}, \"pofs\": {\"order\": 4, \"$\": \"adjective\"}, \"decl\": {\"$\": \"1st\"}, \"var\": {\"$\": \"1st\"}, \"case\": {\"order\": 1, \"$\": \"vocative\"}, \"num\": {\"$\": \"plural\"}, \"gend\": {\"$\": \"neuter\"}, \"comp\": {\"$\": \"positive\"}}, {\"term\": {\"lang\": \"lat\", \"stem\": {\"$\": \"lasciv\"}, \"suff\": {\"$\": \"a\"}}, \"pofs\": {\"order\": 4, \"$\": \"adjective\"}, \"decl\": {\"$\": \"1st\"}, \"var\": {\"$\": \"1st\"}, \"case\": {\"order\": 4, \"$\": \"accusative\"}, \"num\": {\"$\": \"plural\"}, \"gend\": {\"$\": \"neuter\"}, \"comp\": {\"$\": \"positive\"}}], \"dict\": {\"hdwd\": {\"lang\": \"lat\", \"$\": \"lascivus, lasciva, lascivum\"}, \"pofs\": {\"order\": 4, \"$\": \"adjective\"}, \"freq\": {\"order\": 5, \"$\": \"frequent\"}}, \"mean\": {\"$\": \"playful; lustful, wanton; impudent, mischievous; free from restraint;\"}}}}}}}\n"
     ]
    }
   ],
   "source": [
    "import requests\n",
    "\n",
    "# L'adresse suivante permet de demander l'analyse morphologique d'un terme :\n",
    "url = \"http://morph.alpheios.net/api/v1/analysis/word?word=lasciva&lang=lat&engine=whitakerLat\"\n",
    "\n",
    "#permet de renvoyer la réponse soit sous la forme du XML ou bien du JSON\n",
    "xml = requests.get(url, headers={\"Accept\": \"text/xml\"})\n",
    "print(xml.text)\n",
    "req_json = requests.get(url, headers={\"Accept\": \"application/json\"})\n",
    "print(req_json.text)"
   ]
  },
  {
   "cell_type": "markdown",
   "metadata": {},
   "source": [
    "### 2.C Les autres types de requêtes :\n",
    "\n",
    "Le module possède de la même manière une méthode `requests.post()` qui prendra en plus un paramètre `data` tout comme il possède les méthodes :\n",
    "\n",
    "- `.update()`\n",
    "- `.delete()`\n",
    "- `.put()`\n",
    "- `.options()`\n",
    "\n",
    "Toutes ces requêtes prennent les mêmes paramètres que `.get()`"
   ]
  },
  {
   "cell_type": "markdown",
   "metadata": {},
   "source": [
    "### 2.D Générer une erreur\n",
    "\n",
    "Imaginons que vous avez un code 404. Vous voulez peut-être éviter de faire tourner un script si cela arrive. L'objet `Response` possède une méthode utile en ce cas : le `.raise_for_status()` :"
   ]
  },
  {
   "cell_type": "code",
   "execution_count": 6,
   "metadata": {},
   "outputs": [
    {
     "ename": "HTTPError",
     "evalue": "500 Server Error: INTERNAL SERVER ERROR for url: http://cts.dh.uni-leipzig.de/collections/urn:cts:froLit",
     "output_type": "error",
     "traceback": [
      "\u001b[0;31m---------------------------------------------------------------------------\u001b[0m",
      "\u001b[0;31mHTTPError\u001b[0m                                 Traceback (most recent call last)",
      "\u001b[0;32m<ipython-input-6-8e474257b5de>\u001b[0m in \u001b[0;36m<module>\u001b[0;34m\u001b[0m\n\u001b[1;32m      1\u001b[0m \u001b[0;32mimport\u001b[0m \u001b[0mrequests\u001b[0m\u001b[0;34m\u001b[0m\u001b[0;34m\u001b[0m\u001b[0m\n\u001b[1;32m      2\u001b[0m \u001b[0mbad_r\u001b[0m \u001b[0;34m=\u001b[0m \u001b[0mrequests\u001b[0m\u001b[0;34m.\u001b[0m\u001b[0mget\u001b[0m\u001b[0;34m(\u001b[0m\u001b[0;34m\"http://cts.dh.uni-leipzig.de/collections/urn:cts:froLit\"\u001b[0m\u001b[0;34m)\u001b[0m\u001b[0;34m\u001b[0m\u001b[0;34m\u001b[0m\u001b[0m\n\u001b[0;32m----> 3\u001b[0;31m \u001b[0mbad_r\u001b[0m\u001b[0;34m.\u001b[0m\u001b[0mraise_for_status\u001b[0m\u001b[0;34m(\u001b[0m\u001b[0;34m)\u001b[0m\u001b[0;34m\u001b[0m\u001b[0;34m\u001b[0m\u001b[0m\n\u001b[0m",
      "\u001b[0;32m~/Documents/TNAH2/Python/cours-python-master/env/lib/python3.6/site-packages/requests/models.py\u001b[0m in \u001b[0;36mraise_for_status\u001b[0;34m(self)\u001b[0m\n\u001b[1;32m    938\u001b[0m \u001b[0;34m\u001b[0m\u001b[0m\n\u001b[1;32m    939\u001b[0m         \u001b[0;32mif\u001b[0m \u001b[0mhttp_error_msg\u001b[0m\u001b[0;34m:\u001b[0m\u001b[0;34m\u001b[0m\u001b[0;34m\u001b[0m\u001b[0m\n\u001b[0;32m--> 940\u001b[0;31m             \u001b[0;32mraise\u001b[0m \u001b[0mHTTPError\u001b[0m\u001b[0;34m(\u001b[0m\u001b[0mhttp_error_msg\u001b[0m\u001b[0;34m,\u001b[0m \u001b[0mresponse\u001b[0m\u001b[0;34m=\u001b[0m\u001b[0mself\u001b[0m\u001b[0;34m)\u001b[0m\u001b[0;34m\u001b[0m\u001b[0;34m\u001b[0m\u001b[0m\n\u001b[0m\u001b[1;32m    941\u001b[0m \u001b[0;34m\u001b[0m\u001b[0m\n\u001b[1;32m    942\u001b[0m     \u001b[0;32mdef\u001b[0m \u001b[0mclose\u001b[0m\u001b[0;34m(\u001b[0m\u001b[0mself\u001b[0m\u001b[0;34m)\u001b[0m\u001b[0;34m:\u001b[0m\u001b[0;34m\u001b[0m\u001b[0;34m\u001b[0m\u001b[0m\n",
      "\u001b[0;31mHTTPError\u001b[0m: 500 Server Error: INTERNAL SERVER ERROR for url: http://cts.dh.uni-leipzig.de/collections/urn:cts:froLit"
     ]
    }
   ],
   "source": [
    "import requests \n",
    "bad_r = requests.get(\"http://cts.dh.uni-leipzig.de/collections/urn:cts:froLit\")\n",
    "bad_r.raise_for_status()"
   ]
  },
  {
   "cell_type": "markdown",
   "metadata": {},
   "source": [
    "### Exercice de compréhension \n",
    "\n",
    "Lisez le code ci-dessous. Il est issu du projet EHRI ( https://portal.ehri-project.eu/api/v1#api-usage-python ). Essayez de comprendre ce qu'il fait, commentez-le de manière à vous en souvenir. "
   ]
  },
  {
   "cell_type": "code",
   "execution_count": 8,
   "metadata": {},
   "outputs": [
    {
     "name": "stdout",
     "output_type": "stream",
     "text": [
      "Fetching: https://portal.ehri-project.eu/api/v1/search?type=DocumentaryUnit&q=Potato\n",
      "Fetching: https://portal.ehri-project.eu/api/v1/search?type=DocumentaryUnit&q=Potato&page=2\n",
      "Fetching: https://portal.ehri-project.eu/api/v1/search?type=DocumentaryUnit&q=Potato&page=3\n",
      "Fetching: https://portal.ehri-project.eu/api/v1/search?type=DocumentaryUnit&q=Potato&page=4\n",
      "Fetching: https://portal.ehri-project.eu/api/v1/search?type=DocumentaryUnit&q=Potato&page=5\n",
      "Fetching: https://portal.ehri-project.eu/api/v1/search?type=DocumentaryUnit&q=Potato&page=6\n",
      "Fetching: https://portal.ehri-project.eu/api/v1/search?type=DocumentaryUnit&q=Potato&page=7\n",
      "Fetching: https://portal.ehri-project.eu/api/v1/search?type=DocumentaryUnit&q=Potato&page=8\n"
     ]
    },
    {
     "data": {
      "text/plain": [
       "[('il-002798-o_34-629',\n",
       "  'Reports and articles by the Ghetto Archives staff: \"The Elixir of Life-Potato Peels\" by Jozef Zelkowicz Deaths of many in the ghetto from starvation and disease; shortage of medicines and distribution of potato peels to those who are ill as a substitute by the physicians; receipt of potato peels only with a physician\\'s prescription.',\n",
       "  'Reports and articles by the Ghetto Archives staff: \"The Elixir of Life-Potato Peels\" by Jozef Zelkowicz\\n\\n\"דער לעבנס עליקסיר - קארטאפל שיילעכץ\"'),\n",
       " ('cz-002302-výtvarná_sbírka-pt_10136',\n",
       "  'Ilustrace k pracovní zprávě - Uskladnění brambor\\n\\nIllustration of the staff report - Potato Storage',\n",
       "  'Einlagerung der Kartoffel'),\n",
       " ('cz-002302-výtvarná_sbírka-pt_1478',\n",
       "  'Bramboráři\\n\\nA group of potato peelers',\n",
       "  'PT 1478'),\n",
       " ('cz-002302-výtvarná_sbírka-pt_3459',\n",
       "  'Květ bramboru\\n\\nFlower of a potato',\n",
       "  'PT 3459'),\n",
       " ('cz-002302-výtvarná_sbírka-pt_12108',\n",
       "  'Skicář s kresbami\\n\\nSketchbook with drawings',\n",
       "  'PT 12108'),\n",
       " ('cz-002302-ehri_pt-a_3340',\n",
       "  'Daily order No. 275, 15.1.1943',\n",
       "  'Tagesbefehl Nr. 275 vom 15. Jänner 1943'),\n",
       " ('cz-002279-collection_jmp_shoah_t-2-a-5',\n",
       "  'This department was the self-government’s largest department in terms of organization. It included a Central Office, which distributed and allotted food to the prisoners through nine provisions offices. It included a potato-peeling section, as well as its own production facilities, such as a bakery.\\n\\nThe Central Administration of Materials and Inventories (Zentralmaterial und Inventarverwaltung) oversaw the needs of the various buildings. It had several sub-groups.\\n\\nThe Production Department (Wirtschaftsabteilung Produktion) had a complex structure with many sub-sections, in addition to its own secretariat, technical laboratory and administration. Other departments included a head office, which was divided into sections according to activity, and a Farming Department (Landwirtschaft). There were also storehouses and craft workshops here. Shipping (Spedition) was a separate department.',\n",
       "  'Economic department'),\n",
       " ('us-005578-irn46880-irn524366',\n",
       "  'Necklace made by 14 year old Nechuma Ejnes while living in Kostromo in the Soviet Union after fleeing Poland with her family in 1939 following the German invasion in September. She learned how to make the necklace by watching the local, non-Jewish women in the neighborhood. The Soviet government provided a single room in which Nechuma, her parents, and her three siblings would live until after the war ended in 1945. By 1946, they had relocated to a displaced persons camp in Rashel, Germany.',\n",
       "  'Beaded bib necklace made by a young Polish Jewish refugee in Russia'),\n",
       " ('us-005578-irn504457-irn504532',\n",
       "  'Sonia Bielski was born on April 15, 1922 in Nowogród, Poland and describes her family and childhood; the German invasion of Nowogród in December 1941 and the organization of a ghetto two months later; her father rescuing her from the first Aktion in the ghetto and hiding with her in a potato cellar in a neighboring village; her father smuggling her out of Nowogród and into the surrounding forest, where she joined the Bielski Otriad, a Jewish partisan group; meeting and marrying Alexander Bielski, one of three brothers who led the group, in the forest; watching the partisan group expand to contain almost one thousand people, for this group accepted the old, the sick, and the children; the Bielskis’ decision to move the entire camp deep into the muddy swamps, where they hoped that German tanks would not be able to come; returning to the forest after a few days when they felt it was safe to return to the forest; riding with the partisans and taking part in guerrilla attacks on German soldiers in the Naliboki Forest; hiding temporarily in nearby villages when she became sick; the Bielski Otriad working in cooperation with General Platon of the Soviet Red Army who commanded all of the partisan groups in the area; the Bielski Otriad dissolving in July 1944 when the Red Army captured the Naliboki Forest; some of the partisans going to fight with the Soviets as they continued to advance; Alexander and his brother Tuvia bringing the partisan band, which then numbered over 1,200 people, out of the forest and back to Nowogród; arriving in Palestine with Alexander in October 1945; and immigrating to the United States in 1956.',\n",
       "  'Oral history interview with Sonia Bielski'),\n",
       " ('us-005578-irn513942-irn38878',\n",
       "  'A ten-year-old Polish girl named Kazimiera Mika, mourns the death of her older sister, who was killed in a field in Warsaw during a German air raid. In the words of photographer Julien Bryan, \"As we drove by a small field at the edge of town we were just a few minutes too late to witness a tragic event, the most incredible of all. Seven women had been digging potatoes in a field. There was no flour in their district, and they were desperate for food. Suddenly two German planes appeared from nowhere and dropped two bombs only two hundred yards away on a small home. Two women in the house were killed. The potato diggers dropped flat upon the ground, hoping to be unnoticed. After the bombers had gone, the women returned to their work. They had to have food. But the Nazi fliers were not satisfied with their work. In a few minutes they came back and swooped down to within two hundred feet of the ground, this time raking the field with machine-gun fire. Two of the seven women were killed. The other five escaped somehow. While I was photographing the bodies, a little ten-year old girl came running up and stood transfixed by one of the dead. The woman was her older sister. The child had never before seen death and couldn\\'t understand why her sister would not speak to her... The child looked at us in bewilderment. I threw my arm about her and held her tightly, trying to comfort her. She cried. So did I and the two Polish officers who were with me...\" [Source: Bryan, Julien. \"Warsaw: 1939 Siege; 1959 Warsaw Revisited.\" Warsaw, Polonia, 1959, pp.20-21.]',\n",
       "  'Hand-colored glass slide'),\n",
       " ('us-005578-irn513942-irn38900',\n",
       "  'Four Polish women view with anguish the bodies of those killed in a field in Warsaw, where they were digging for potatoes during the siege of the capital. In the words of photographer Julien Bryan, \"As we drove by a small field at the edge of town we were just a few minutes too late to witness a tragic event, the most incredible of all. Seven women had been digging potatoes in a field. There was no flour in their district, and they were desperate for food. Suddenly two German planes appeared from nowhere and dropped two bombs only two hundred yards away on a small home. Two women in the house were killed. The potato diggers dropped flat upon the ground, hoping to be unnoticed. After the bombers had gone, the women returned to their work. They had to have food. But the Nazi fliers were not satisfied with their work. In a few minutes they came back and swooped down to within two hundred feet of the ground, this time raking the field with machine-gun fire. Two of the seven women were killed. The other five escaped somehow.\" [Source: Bryan, Julien. \"Warsaw: 1939 Siege; 1959 Warsaw Revisited.\" Warsaw, Polonia, 1959, pp.20-21.]',\n",
       "  'Hand-colored glass slide'),\n",
       " ('us-005578-irn513942-irn38143',\n",
       "  'A ten-year-old Polish girl named Kazimiera Mika, mourns the death of her older sister, who was killed in a field in Warsaw during a German air raid. In the words of photographer Julien Bryan, \"As we drove by a small field at the edge of town we were just a few minutes too late to witness a tragic event, the most incredible of all. Seven women had been digging potatoes in a field. There was no flour in their district, and they were desperate for food. Suddenly two German planes appeared from nowhere and dropped two bombs only two hundred yards away on a small home. Two women in the house were killed. The potato diggers dropped flat upon the ground, hoping to be unnoticed. After the bombers had gone, the women returned to their work. They had to have food. But the Nazi fliers were not satisfied with their work. In a few minutes they came back and swooped down to within two hundred feet of the ground, this time raking the field with machine-gun fire. Two of the seven women were killed. The other five escaped somehow. While I was photographing the bodies, a little ten-year old girl came running up and stood transfixed by one of the dead. The woman was her older sister. The child had never before seen death and couldn\\'t understand why her sister would not speak to her... The child looked at us in bewilderment. I threw my arm about her and held her tightly, trying to comfort her. She cried. So did I and the two Polish officers who were with me...\" [Source: Bryan, Julien. \"Warsaw: 1939 Siege; 1959 Warsaw Revisited.\" Warsaw, Polonia, 1959, pp.20-21.]',\n",
       "  'Hand-colored glass slide'),\n",
       " ('us-005578-irn513942-irn38811',\n",
       "  'Photographer Julien Bryan comforts a ten-year-old Polish girl named Kazimiera Mika, whose older sister was killed in a field in Warsaw during a German air raid. In the words of photographer Julien Bryan, \"As we drove by a small field at the edge of town we were just a few minutes too late to witness a tragic event, the most incredible of all. Seven women had been digging potatoes in a field. There was no flour in their district, and they were desperate for food. Suddenly two German planes appeared from nowhere and dropped two bombs only two hundred yards away on a small home. Two women in the house were killed. The potato diggers dropped flat upon the ground, hoping to be unnoticed. After the bombers had gone, the women returned to their work. They had to have food. But the Nazi fliers were not satisfied with their work. In a few minutes they came back and swooped down to within two hundred feet of the ground, this time raking the field with machine-gun fire. Two of the seven women were killed. The other five escaped somehow. While I was photographing the bodies, a little ten-year old girl came running up and stood transfixed by one of the dead. The woman was her older sister. The child had never before seen death and couldn\\'t understand why her sister would not speak to her... The child looked at us in bewilderment. I threw my arm about her and held her tightly, trying to comfort her. She cried. So did I and the two Polish officers who were with me...\" [Source: Bryan, Julien. \"Warsaw: 1939 Siege; 1959 Warsaw Revisited.\" Warsaw, Polonia, 1959, pp.20-21.]',\n",
       "  'Hand-colored glass slide'),\n",
       " ('us-005578-irn513942-irn38167',\n",
       "  'A ten-year-old Polish girl named Kazimiera Mika mourns the death of her older sister, who was killed in a field in Warsaw during a German air raid. Photographer Julien Bryan described the scene: \"As we drove by a small field at the edge of town we were just a few minutes too late to witness a tragic event, the most incredible of all. Seven women had been digging potatoes in a field. There was no flour in their district, and they were desperate for food. Suddenly two German planes appeared from nowhere and dropped two bombs only two hundred yards away on a small home. Two women in the house were killed. The potato diggers dropped flat upon the ground, hoping to be unnoticed. After the bombers had gone, the women returned to their work. They had to have food. But the Nazi fliers were not satisfied with their work. In a few minutes they came back and swooped down to within two hundred feet of the ground, this time raking the field with machine-gun fire. Two of the seven women were killed. The other five escaped somehow. While I was photographing the bodies, a little ten-year old girl came running up and stood transfixed by one of the dead. The woman was her older sister. The child had never before seen death and couldn\\'t understand why her sister would not speak to her... The child looked at us in bewilderment. I threw my arm about her and held her tightly, trying to comfort her. She cried. So did I and the two Polish officers who were with me...\" [Source: Bryan, Julien. \"Warsaw: 1939 Siege; 1959 Warsaw Revisited.\" Warsaw, Polonia, 1959, pp.20-21.]',\n",
       "  'Hand-colored glass slide'),\n",
       " ('us-005578-irn49051-irn521830',\n",
       "  'Westerbork scrip issued in 1944 and acquired by Ruth Franken, who was imprisoned at the transit camp when she was 5 years old from 1942 to 1943. The vouchers [gutschein] were distributed as an incentive for doing work. In May 1940, Germany occupied the Netherlands. In 1942, Ruth, her parents, Irma and Max, and grandmother, Roberta, were arrested in Amsterdam and sent to Westerbork. In 1943, they were deported to Bergen-Belsen concentration camp in Germany, and in 1944, to Theresienstadt in Czechoslovakia. Roberta died either in Westerbork or Bergen-Belsen. Max was deported to Auschwitz on September 28, 1944. Theresienstadt was liberated by the Russian Army on May 9, 1945. Ruth and Irma were sent to a convent where Irma was told by a woman that Max was killed escaping Auschwitz. When they returned to the family apartment in Amsterdam, they found Max sitting on the couch. In March 1947, the family emigrated to the United States where Irma had a sister.',\n",
       "  'Westerbork transit camp scrip, 10 cent note, acquired by a former inmate'),\n",
       " ('us-005578-irn44258-irn522825',\n",
       "  'Gold hoop earrings worn by Sophia Kerpholz while she lived in hiding as a child from 1942-1944 in Poland. In early 1942, 9-year-old Sophia and her parents, Natan and Sarah, were imprisoned in the Jewish ghetto in Trembowla, Poland (Terebovlia, Ukraine) by the occupying German authorities. Sophia’s mother had to turn the earrings over to the Gestapo, but they were returned because they were too small and not valuable enough to take. When Sophia emigrated to Israel she was told that she was a new immigrant because she had earrings. Her father had escaped to Lvov, but ended up in the ghetto there. Sophia was sent to join him, with the intent to find her a safe hiding place. But Natan, age 38, died of typhus in January 1943, and Sophia had to escape and get back to Trembowla on her own. In 1943, Sarah and Sophia escaped from the ghetto as it was being liquidated. They eventually reached Humniska, Poland, where former neighbors of her grandparents, Anna and Voitek Gutonski, hid them in a barn with an underground hiding place for over 8 months, until the Soviet army liberated the area in March 1944.',\n",
       "  'Gold hoop earrings worn by a hidden child in Poland'),\n",
       " ('us-005578-irn514912-irn523824',\n",
       "  'Dark blue suitcase used by Ernest Chambre, a Jewish refugee from Nazi Germany. In 1933, Ernest, originally from Belgium, was a law student in Berlin when Hitler was appointed Chancellor. The persecution of Jews by the Nazi government caused him to flee to Belgium and then, in 1934/1935, to Palestine. Ernest left for Spain, presumably to get to the US, but was imprisoned in Miranda de Ebro internment camp. After his release, he returned to Palestine and married Ruth Elsoffer, a fellow refugee, in 1937. Ruth emigrated to the United States in 1946; Ernest arrived in October 1947.',\n",
       "  'Dark blue paper covered suitcase used by a Jewish refugee from Nazi Germany'),\n",
       " ('us-005578-irn58675-irn516153',\n",
       "  'Charcoal drawing created by David Friedman (before 1960, Friedmann) in 1964 based upon scenes he witnessed while incarcerated in the Lodz Ghetto from October 1941 until his deportation to Auschwitz-Birkenau concentration camp in August 1944. It depicts a man kneeling in front of a garbage can and eating. The artist\\'s caption: \"People are looking for some food in backyards, but if you were caught from German detectives, you were be shot pitilessly. With my binocular from Prague, I saw more than others. For a 1/2 lb potato peelings I had to pay $1.00 in fresh condition.\" David Friedmann was a successful painter and graphic artist who lived in Berlin from 1911-1938. He was renowned for his portraits drawn from life and became a leading press artist of the 1920’s. In 1933, his prewar career abruptly ended with the establishment of the Nazi dictatorship. In December 1938, he escaped to Prague with his wife, Mathilde, and infant daughter, Mirjam Helene. In October 1941, they were deported to the Jewish Ghetto in Lodz, Poland. In August 1944, the family was separated and sent to Auschwitz death camp, where his wife and child were murdered. He was sent to the subcamp Gleiwitz I, because musicians were sought for a camp orchestra, but Friedmann’s life was saved because of his painting and quick-sketching portrait abilities. The camp was evacuated due to approaching Soviet forces. The inmates were forced on a death march to Blechhammer, where Friedmann was liberated by the Red Army in January 1945. He journeyed to Poland and stayed in Krakow until the war ended in early May 1945.He then returned to Prague and painted the scenes that haunted his memory to show the world and give voice to those who could not be heard. In January 1946, he had his first exhibition of his Holocaust artwork. Friedmann and his second wife, Hildegard, a fellow concentration camp survivor, fled the Stalinist Communists for Israel in 1949. They had a daughter also named Miriam, and the family moved to the United States in 1954.',\n",
       "  'Autobiographical charcoal drawing created by David Friedman of a starving man eating from a ghetto garbage can')]"
      ]
     },
     "execution_count": 8,
     "metadata": {},
     "output_type": "execute_result"
    }
   ],
   "source": [
    "#importation du module requests \n",
    "import requests \n",
    "\n",
    "def scope_content(url):\n",
    "    print(\"Fetching: \" + url)\n",
    "    #parsage de la réponse en json\n",
    "    r = requests.get(url)\n",
    "    data = r.json()\n",
    "    #création de la liste vide recevant l'id et le contenu de chaque item\n",
    "    simplified = []\n",
    "\n",
    "    #dans le json produit, itération pour chaque document identifiable dans \"data\"\n",
    "    for item in data[\"data\"]:\n",
    "        try:\n",
    "            # fetch the ID and first description...\n",
    "            #atteindre l'id de l'item par sa clé\n",
    "            identifier = item[\"id\"]\n",
    "            #de même pour les descriptions, le nom et le contenu\n",
    "            desc = item[\"attributes\"][\"descriptions\"][0]\n",
    "            name = desc[\"name\"]\n",
    "            scopecontent = desc[\"scopeAndContent\"]\n",
    "            #ajout de l'id, du contenu et du nom dans la liste vide à l'intérieur de parenthèses\n",
    "            simplified.append((identifier, scopecontent, name))\n",
    "        #en cas d'erreur, passer à un autre item\n",
    "        except (IndexError, KeyError) as e:\n",
    "            # no description or scope and content found... skipping...\n",
    "            pass\n",
    "\n",
    "    # fetch the next page of data...\n",
    "    #si la réponse json contient une clé \"links\" et une autre \"next\" à l'intérieur de \"links\", alors on passe à la page suivante\n",
    "    if data.get(\"links\") and data[\"links\"].get(\"next\"):\n",
    "        #on fait tourner la fonction scope_content tant qu'il y a \"next\" dans \"links\" dans la réponse en json\n",
    "        simplified += scope_content(data[\"links\"][\"next\"])\n",
    "    #retour final de la liste complétée avec les url et les informations simplifiées\n",
    "    return simplified\n",
    "\n",
    "#appel de la fonction scope_content avec la première page \n",
    "scope_content(\"https://portal.ehri-project.eu/api/v1/search?type=DocumentaryUnit&q=Potato\")"
   ]
  },
  {
   "cell_type": "markdown",
   "metadata": {},
   "source": [
    "### Exercice de fin de chapitre\n",
    "\n",
    "1. Ouvrir http://gallica.bnf.fr/iiif/ark:/12148/btv1b84259980/manifest.json\n",
    "2. Comprendre le format de http://gallica.bnf.fr/iiif/ark:/12148/btv1b84259980/manifest.json\n",
    "3. En Python, faire une fonction qui prend un identifiant ark BNF et qui:\n",
    "    1. Affiche l'ensemble des métadonnées sur l'objet décrit en JSON\n",
    "    2. Génère un fichier CSV avec les colonnes `Numéro | Nom de Page | Lien image | Largeur | Longueur` en fonction d'un argument `nom_csv`"
   ]
  },
  {
   "cell_type": "code",
   "execution_count": 35,
   "metadata": {},
   "outputs": [
    {
     "name": "stdout",
     "output_type": "stream",
     "text": [
      "Repository :  \n",
      "Digitised by :  Bibliothèque nationale de France\n",
      "Source Images :  https://gallica.bnf.fr/ark:/12148/btv1b84259980\n",
      "Metadata Source :  http://oai.bnf.fr/oai2/OAIHandler?verb=GetRecord&metadataPrefix=oai_dc&identifier=oai:bnf.fr:gallica/ark:/12148/btv1b84259980\n",
      "Shelfmark :  Bibliothèque nationale de France. Département des manuscrits. Français 412\n",
      "Title :  Recueil de textes , Vie de saints\n",
      "Date :  1285\n",
      "Language :  français\n",
      "Format :  Vélin, miniatures, lettres ornées\n",
      "Relation :  Notice du catalogue : http://archivesetmanuscrits.bnf.fr/ark:/12148/cc50522d\n",
      "Type :  Manuscrit\n"
     ]
    }
   ],
   "source": [
    "import csv\n",
    "\n",
    "def iiif_csv(ark, nom_csv):\n",
    "    colonnes = [\"Numéro\", \"Nom de Page\", \"Lien image\", \"Largeur\", \"Longueur\"]\n",
    "    # Complétez avec la documentation\n",
    "    \"\"\"Affiche les métadonnées de l'objet appelé par son identifiant ark, et créé un fichier csv comprenant l'ensemble des images de cet objet\n",
    "    :param ark: chaîne de caractères de l'identifiant Ark BNF\n",
    "    :type ark:string\n",
    "    :param nom_csv: fichier\n",
    "    :type nom_csv: TextIOWrapper\n",
    "    :returns: Ne retourne rien\n",
    "    :rtype: None\n",
    "    \"\"\"\n",
    "    #construction de l'url\n",
    "    url = \"http://gallica.bnf.fr/iiif/\" + ark + \"/manifest.json\"\n",
    "    #récupération de la réponse au format json\n",
    "    reponse = requests.get(url)\n",
    "    data = reponse.json()\n",
    "    #récupération des métadonnées et affichage\n",
    "    for metadonnee in data[\"metadata\"]:\n",
    "        print(metadonnee[\"label\"], \": \", metadonnee[\"value\"])\n",
    "    #génération du fichier csv\n",
    "    with open(nom_csv, \"w\") as f:\n",
    "        f_ouvert = csv.writer(f, delimiter = \"|\")\n",
    "        f_ouvert.writerow(colonnes)\n",
    "        i = 0\n",
    "        for image in data[\"sequences\"][0][\"canvases\"]:\n",
    "            numero = image[\"@id\"][60:]\n",
    "            nom = image[\"label\"]\n",
    "            lien = image[\"@id\"]\n",
    "            largeur = image[\"width\"]\n",
    "            longueur = image[\"height\"]\n",
    "            f_ouvert.writerow([numero, nom, lien, largeur, longueur])\n",
    "            i += 1\n",
    "    return None\n",
    "\n",
    "# Testez le code ici\n",
    "iiif_csv(\"ark:/12148/btv1b84259980\", \"resultats/pages_gallica_iif.csv\")"
   ]
  },
  {
   "cell_type": "markdown",
   "metadata": {},
   "source": [
    "----\n",
    "\n",
    "#### Ce que l'on a appris\n",
    "\n",
    "Pour finir cette section, voici un récapitulatif des concepts appris. Lisez la liste et posez des questions si certaines choses ne sont pas claires.\n",
    "\n",
    "- la structure d'une requête http et de sa réponse\n",
    "- `requests.get`\n",
    "- `requests.post` et les autres\n",
    "- `Response.json()`\n",
    "- `Response.status_code`\n",
    "- `Response.text`\n",
    "- `Response.headers`\n",
    "- `Response.raise_for_status()`"
   ]
  }
 ],
 "metadata": {
  "kernelspec": {
   "display_name": "Python 3",
   "language": "python",
   "name": "python3"
  },
  "language_info": {
   "codemirror_mode": {
    "name": "ipython",
    "version": 3
   },
   "file_extension": ".py",
   "mimetype": "text/x-python",
   "name": "python",
   "nbconvert_exporter": "python",
   "pygments_lexer": "ipython3",
   "version": "3.6.8"
  }
 },
 "nbformat": 4,
 "nbformat_minor": 2
}
