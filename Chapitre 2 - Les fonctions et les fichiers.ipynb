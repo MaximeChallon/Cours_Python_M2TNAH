{
 "cells": [
  {
   "cell_type": "markdown",
   "metadata": {},
   "source": [
    "# Chapitre 2 - Les fonctions et les fichiers"
   ]
  },
  {
   "cell_type": "markdown",
   "metadata": {},
   "source": [
    "-- *A Python Course for the Humanities by Folgert Karsdorp and Maarten van Gompel*"
   ]
  },
  {
   "cell_type": "markdown",
   "metadata": {},
   "source": [
    "---"
   ]
  },
  {
   "cell_type": "markdown",
   "metadata": {},
   "source": [
    "Le chapitre précédent a, espérons-le, aiguisé votre appétit. Dans ce chapitre, nous allons nous concentrer sur l'une des tâches les plus importantes de la recherche en sciences humaines: le traitement du texte. L'un des objectifs du traitement de texte est de nettoyer vos données pour ensuite faire leur analyse. Un autre objectif banal consiste à convertir une collection de textes en un format différent: par exemple de fichiers textes vers fichiers XML TEI. Dans ce chapitre, nous allons vous fournir les outils nécessaires pour travailler avec des collections de textes, les nettoyer et effectuer quelques analyses de données rudimentaires sur eux."
   ]
  },
  {
   "cell_type": "markdown",
   "metadata": {},
   "source": [
    "## Lire des fichiers"
   ]
  },
  {
   "cell_type": "markdown",
   "metadata": {},
   "source": [
    "Supposons que vous ayez un texte stocké sur votre ordinateur. Comment pouvons-nous lire ce texte en utilisant Python? Python fournit une fonction très simple appelée `open` avec laquelle on peut lire des textes. Dans le dossier `data`, vous trouverez quelques petits extraits de texte que nous utiliserons dans ce chapitre. Regardez-les si vous en avez l'envie. Nous pouvons ouvrir ces fichiers avec la commande suivante:"
   ]
  },
  {
   "cell_type": "code",
   "execution_count": null,
   "metadata": {},
   "outputs": [],
   "source": [
    "fichier_ouvert = open('data/cid.v1071.1682.txt')"
   ]
  },
  {
   "cell_type": "markdown",
   "metadata": {},
   "source": [
    "Maintenant, affichons la variable `fichier_ouvert`. Que pensez-vous qu'il arrivera ? "
   ]
  },
  {
   "cell_type": "code",
   "execution_count": null,
   "metadata": {},
   "outputs": [],
   "source": [
    "print(fichier_ouvert)"
   ]
  },
  {
   "cell_type": "markdown",
   "metadata": {},
   "source": [
    "\"Je ne pensais pas que ça ferait ça\" est probablement ce qui vous passe à l'esprit. Python n'affiche pas le contenu du fichier, mais seulement une mention mystérieuse d'un certain `TextIOWrapper`. Ce truc de `TextIOWrapper` est la façon de Python de dire qu'il a ouvert une connexion au fichier `data/cid.v1071.1682.txt`. IO pour Input Open\n",
    "\n",
    "Mais cela nous donne également des informations auxquelles nous devrions prêter attention. Regardez la partie qui commence `encoding=`. `UTF-8` est le modèle d'encodage des caractères du fichier (vous pouvez en apprendre un peu plus sur la chaîne Computerphile : https://www.youtube.com/watch?v=MijmeoH9LT4 ). Par défaut, Python3 (contrairement à Python 2) gère ses données en UTF-8. On aurait pu cependant faire ce qui suit:"
   ]
  },
  {
   "cell_type": "code",
   "execution_count": null,
   "metadata": {},
   "outputs": [],
   "source": [
    "encodage_latin = open('data/cid.v1071.1682.txt', encoding='latin')\n",
    "print(encodage_latin)"
   ]
  },
  {
   "cell_type": "markdown",
   "metadata": {},
   "source": [
    "Vous avez pour `encodage_latin` `encoding='latin'` dans la description de ce `TextIOWrapper`. Vous devrez vous assurer de toujours spécifier votre encodage comme UTF-8 si vous travaillez avec des textes grecs dans Windows. Cependant, les systèmes Linux et Mac ne devraient pas en avoir besoin.\n",
    "\n",
    "Maintenant, si nous voulons *lire* le contenu du fichier, nous devons ajouter la fonction `read` comme suit:"
   ]
  },
  {
   "cell_type": "code",
   "execution_count": null,
   "metadata": {},
   "outputs": [],
   "source": [
    "print(fichier_ouvert.read())"
   ]
  },
  {
   "cell_type": "markdown",
   "metadata": {},
   "source": [
    "`read` est une fonction qui fonctionne sur les objets` TextWrapper` et nous permet de lire le contenu d'un fichier dans Python. Assignons le contenu du fichier à la variable `texte`:"
   ]
  },
  {
   "cell_type": "code",
   "execution_count": null,
   "metadata": {},
   "outputs": [],
   "source": [
    "# Ajoutez `encoding='UTF-8'` si nécessaire\n",
    "fichier_ouvert = open('data/cid.v1071.1682.txt') \n",
    "texte = fichier_ouvert.read()"
   ]
  },
  {
   "cell_type": "markdown",
   "metadata": {},
   "source": [
    "La variable `texte` contient le contenu du fichier `data/cid.v1071.1682.txt` et nous pouvons le manipuler désormais comme n'importe quelle autre chaîne. Après avoir lu le contenu d'un fichier, le `TextWrapper` n'a plus besoin d'être ouvert. En fait, il est bon de le fermer dès que vous n'en avez plus besoin. Pour ce faire, il suffit d'utiliser la méthode `close()`:"
   ]
  },
  {
   "cell_type": "code",
   "execution_count": null,
   "metadata": {},
   "outputs": [],
   "source": [
    "fichier_ouvert.close()"
   ]
  },
  {
   "cell_type": "markdown",
   "metadata": {},
   "source": [
    "---"
   ]
  },
  {
   "cell_type": "markdown",
   "metadata": {},
   "source": [
    "#### Exercice"
   ]
  },
  {
   "cell_type": "markdown",
   "metadata": {},
   "source": [
    "Juste pour récapituler certaines des choses que nous avons apprises dans le chapitre précédent. Pouvez-vous écrire un bloc de code qui définit la variable `nombre_de_e` et compte combien de fois la lettre *e* se trouve dans le « texte »? (Astuce: utilisez une boucle `for` et une instruction `if`).\n",
    "\n",
    "Prenez aussi le temps de comprendre `assert` qui nous permet de vérifier vos travaux. "
   ]
  },
  {
   "cell_type": "code",
   "execution_count": null,
   "metadata": {},
   "outputs": [],
   "source": [
    "nombre_de_e = 0\n",
    "# Votre code ici\n",
    "fichier_ouvert = open('data/cid.v1071.1682.txt') \n",
    "texte= fichier_ouvert.read()\n",
    "for caractere in texte:\n",
    "    if caractere  == \"e\":\n",
    "        nombre_de_e= nombre_de_e+1 #aussi: nombre_de_e+= 1\n",
    "print(nombre_de_e)\n",
    "\n",
    "# Ce code vérifiera ce que vous avez écrit\n",
    "assert nombre_de_e == 182, \"On devrait trouver 182 'e'\"\n",
    "\n",
    "fichier_ouvert.close()"
   ]
  },
  {
   "cell_type": "markdown",
   "metadata": {},
   "source": [
    "Enfin, il existe une autre syntaxe pour gérer un fichier à ouvrir et lire : il s'agit d'utiliser la déclaration `with` :"
   ]
  },
  {
   "cell_type": "code",
   "execution_count": 5,
   "metadata": {},
   "outputs": [],
   "source": [
    "with open(\"data/cid.v1071.1682.txt\") as fichier_cid:\n",
    "    texte = fichier_cid.read()"
   ]
  },
  {
   "cell_type": "markdown",
   "metadata": {},
   "source": [
    "Cette méthode a cela de particulier qu'elle ferme d'elle-même le fichier qui a été ouvert. Tout comme un `if`, le with concerne l'ensemble du bloc ouvert en dessous du `with` et permet de faire des opérations sur le fichier. On remarque l'utilisation de `as` : en français, on traduirait cette ligne en `avec le fichier ouvert cid.v1071.1682.txt en tant que variable fichier_cid`.\n",
    "\n",
    "Par ailleurs, les variables modifiées dans cet ensemble sont encore disponibles à la fin. Mais le fichier sera clos. Pouvez-vous deviner ce qui se passera avec les lignes suivantes :"
   ]
  },
  {
   "cell_type": "code",
   "execution_count": null,
   "metadata": {},
   "outputs": [],
   "source": [
    "print(texte)#va s'afficher car stoqué dans la variable texte\n",
    "fichier_cid.read()#erreur car mon fichier n'est plus ouvert"
   ]
  },
  {
   "cell_type": "markdown",
   "metadata": {},
   "source": [
    "`I/O Operation` signifie `Input/Output` et vise les méthodes de lecture et d'écriture de fichiers. Notre fichier ayant été clos après `with`, il n'est plus possible de le lire."
   ]
  },
  {
   "cell_type": "markdown",
   "metadata": {},
   "source": [
    "#### Ce que l'on a appris\n",
    "\n",
    "Pour finir cette section, voici un récapitulatif des concepts appris. Lisez la liste et posez des questions si certaines choses ne sont pas claires.\n",
    "\n",
    "- `open()`\n",
    "- `UTF-8`\n",
    "- `.close()`\n",
    "- `.read()`\n",
    "- le fonctionnement de `TextIOWrapper`\n",
    "- `with ___ as ___ :`\n",
    "- `assert ___ , ___`"
   ]
  },
  {
   "cell_type": "markdown",
   "metadata": {},
   "source": [
    "---"
   ]
  },
  {
   "cell_type": "markdown",
   "metadata": {},
   "source": [
    "## Écrire notre première fonction"
   ]
  },
  {
   "cell_type": "markdown",
   "metadata": {},
   "source": [
    "La fonction a une valeur de retour, elle renvoie parfois une valeur que l'on peut stocker dans une variable.\n",
    "Une fonction peut avoir des paramètres.\n",
    "Paramètres séparés par des virgules. Quand un paramètre prend une valeur ou une variable, ça s'appelle un argument."
   ]
  },
  {
   "cell_type": "markdown",
   "metadata": {},
   "source": [
    "Dans l'exercice précédent, vous avez probablement écrit une boucle qui itère sur tous les caractères de `texte` et ajoute 1 à` nombre_de_e` chaque fois que le programme trouve la lettre *e*. Le comptage d'objets dans un texte ou dans une liste est chose courante.\n",
    "\n",
    "Par conséquent, Python fournit la méthode `count`. Cette fonction prend comme argument l'élément que vous voulez compter. En utilisant cette fonction, la solution à l'exercice ci-dessus peut maintenant être réécrite comme suit:"
   ]
  },
  {
   "cell_type": "code",
   "execution_count": null,
   "metadata": {},
   "outputs": [],
   "source": [
    "nombre_de_e = texte.count(\"e\")\n",
    "print(nombre_de_e)"
   ]
  },
  {
   "cell_type": "markdown",
   "metadata": {},
   "source": [
    "En fait, `count` prend comme argument toute chaîne que vous aimeriez trouver. Nous pourrions aussi bien compter combien de fois la conjonction `et` se produit:"
   ]
  },
  {
   "cell_type": "code",
   "execution_count": null,
   "metadata": {},
   "outputs": [],
   "source": [
    "print(texte.count(\"et\"))"
   ]
  },
  {
   "cell_type": "markdown",
   "metadata": {},
   "source": [
    "La chaîne `et` est trouvée 10 fois dans notre texte. Cela signifie-t-il que le mot *et* apparaît 10 fois dans notre texte? En fait non, *et* n'apparaît que 8 fois ... Pourquoi Python affiche-t-il 10?\n",
    "\n",
    "Si nous voulons compter combien de fois le mot *et* apparaît dans le texte et non la chaîne «et», nous pouvons entourer *et* d'espaces, comme ceci:"
   ]
  },
  {
   "cell_type": "code",
   "execution_count": null,
   "metadata": {},
   "outputs": [],
   "source": [
    "print(texte.count(\" et \"))"
   ]
  },
  {
   "cell_type": "markdown",
   "metadata": {},
   "source": [
    "Bien que cela l'affaire dans ce cas particulier, ce n'est pas très fiable pour compter les mots dans un texte. Que faire s'il y a des instances de *et* suivies d'une virgule ou d'un point ? Il nous faudrait alors interroger le texte plusieurs fois pour chaque contexte possible de *et* : `et`, ` et `, `et.`, `et,`, `et:`, etc. C'est pour cela que nous allons aborder ce problème en utilisant une méthode un peu plus sophistiquée.\n",
    "\n",
    "Rappelez-vous, dans le chapitre précédent, nous avons vu la méthode `split`. Que fait cette méthode? La méthode `split` fonctionne sur une chaîne et divise une chaîne sur les espaces et retourne une liste de plus petites chaînes:"
   ]
  },
  {
   "cell_type": "code",
   "execution_count": null,
   "metadata": {},
   "outputs": [],
   "source": [
    "print(texte.split())"
   ]
  },
  {
   "cell_type": "markdown",
   "metadata": {},
   "source": [
    "---"
   ]
  },
  {
   "cell_type": "markdown",
   "metadata": {},
   "source": [
    "#### Exercice"
   ]
  },
  {
   "cell_type": "markdown",
   "metadata": {},
   "source": [
    "Tout ce que vous avez appris jusqu'ici devrait vous permettre d'écrire du code qui compte certains éléments apparaissant dans une liste. Écrivez un bloc de code qui définit la variable `nombre_de_resultats` et compte combien de fois le mot *à* (assigné à `a_compter`) apparaît dans la liste de mots appelée `mots`."
   ]
  },
  {
   "cell_type": "code",
   "execution_count": null,
   "metadata": {},
   "outputs": [],
   "source": [
    "mots = texte.split()\n",
    "a_compter = \"la\"\n",
    "# Votre code ici\n",
    "nombre_de_resultats = mots.count(a_compter)\n",
    "# Ce test ne devrait pas lancer d'erreur si tout va bien\n",
    "assert nombre_de_resultats == 3, \"Il devrait y avoir 6 résultats\""
   ]
  },
  {
   "cell_type": "markdown",
   "metadata": {},
   "source": [
    "---"
   ]
  },
  {
   "cell_type": "markdown",
   "metadata": {},
   "source": [
    "Nous allons voir cet exercice étape par étape. Nous aimerions savoir à quelle fréquence l'article défini *la* apparaît dans notre texte. Dans un premier temps, nous divisons la chaîne `texte` en une liste de mots:"
   ]
  },
  {
   "cell_type": "code",
   "execution_count": null,
   "metadata": {},
   "outputs": [],
   "source": [
    "mots = texte.split()"
   ]
  },
  {
   "cell_type": "markdown",
   "metadata": {},
   "source": [
    "Puis on va appeler la méthode `count` sur `mots` afin de trouver le nombre de `la` dans `mots`:"
   ]
  },
  {
   "cell_type": "code",
   "execution_count": null,
   "metadata": {},
   "outputs": [],
   "source": [
    "a_compter = \"la\"\n",
    "nombre_de_resultats = mots.count(a_compter)\n",
    "print(nombre_de_resultats)"
   ]
  },
  {
   "cell_type": "markdown",
   "metadata": {},
   "source": [
    "Bon. Très bien. Mais disons que nous nous intéressons aussi à `une`, pour faire des petites statistiques sur l'usage du défini et de l'indéfini. Il faudrait que l'on adapte les lignes précédentes pour chercher le mot `une`. Mais qu'arriverait-il si ensuite nous voulions aussi compter `l'`, `le`, `un`, etc. ? Cela serait insupportable, et honnêtement, on n’a pas créé les langages de programmation pour que nous ayons à répéter 100 fois la même chose, bien au contraire.\n",
    "\n",
    "Donc ce qu'on aimerait, c'est avoir une fonction qui ferait ça. Et si on regarde bien, notre fonction aurait besoin de deux choses : un texte et un élément à compter. Et elle nous renverrait comme résultat un nombre d'occurrences. Les éléments dont a besoin la fonction sont appelés arguments ou paramètres (`arguments/args` ou `parameters/params`). Le résultat que la fonction nous donne est appelé valeur de retour (`return value`).\n",
    "\n",
    "Dans ce chapitre et le précédent, on a vu pas mal de fonctions. Une fonction fait quelque chose, souvent grâce à des paramètres que vous lui donnez, et généralement elle renvoie un résultat.\n",
    "\n",
    "On a aussi vu des méthodes. Les méthodes se différencient des fonctions dans leur rédaction : du côté des fonctions, on fait `len(chaîne)`, du côté des méthodes, on fait `chaîne.count(\" et \")`. Nous verrons cela plus en détail beaucoup plus tard. Une méthode est une fonction un peu particulière, mais est régie par le même vocabulaire : arguments, paramètres, valeurs de retour.\n",
    "\n",
    "Bien sûr, on peut créer ses propres fonctions. Séparer ta tâche en une multiplicité de tâches est même une obligation en programmation : cela permet de lire les choses plus facilement et d'éviter des répétitions constantes. Les fonctions sont définies avec la déclaration `def` qui est suivie d'un nom de fonction et de paramètres puis du `:` :\n",
    "\n",
    "```python\n",
    "def fonction_avec_parametres(parametre1, parametre2, parametre3):\n",
    "    # Le code de la fonction\n",
    "    \n",
    "def fonction_sans_parametre():\n",
    "    # le code la fonction\n",
    "```\n",
    "\n",
    "Ces fonctions peuvent aussi avoir une valeur de retour. Cela permet d'accéder aux résultats calculés dans la fonction. Cette valeur de retour est renvoyée par la déclaration `return` :\n",
    "\n",
    "```python\n",
    "def carre(x):\n",
    "    return x*x\n",
    "```\n",
    "\n",
    "Retour à notre problème. On veut écrire une fonction appelée `compter_dans_une_chaine`. Elle prend deux paramètres : \n",
    "1. un objet que l'on veut compter\n",
    "2. une chaîne dans laquelle on veut trouver cet élément\n",
    "\n",
    "Elle retournera le nombre d'objets en tant qu'entier :\n",
    "\n",
    "```python\n",
    "def compter_dans_une_autre_chaine(aiguille, botte_de_foin):\n",
    "    # En programmation, on utilise souvent aiguille et botte de foin \n",
    "    # (needle et haystack en anglais)\n",
    "    # pour parler de chose à trouver et d'élément à trouver.\n",
    "    # Ici, ce n'est pas forcément très clair cela dit !\n",
    "```\n",
    "\n",
    "Comprenez-vous la syntaxe et les différentes nouvelles déclarations au-dessus ? Maintenant, tout ce qui nous reste à faire est d'écrire le corps de cette fonction :"
   ]
  },
  {
   "cell_type": "code",
   "execution_count": 8,
   "metadata": {},
   "outputs": [],
   "source": [
    "def compter_dans_une_autre_chaine(aiguille, botte_de_foin): \n",
    "    mots_de_foin = botte_de_foin.split()\n",
    "    nombre_daiguilles = mots_de_foin.count(aiguille)               \n",
    "    return nombre_daiguilles         #c'est la valeur qui est retournée, pas la variable   "
   ]
  },
  {
   "cell_type": "code",
   "execution_count": 16,
   "metadata": {},
   "outputs": [
    {
     "name": "stdout",
     "output_type": "stream",
     "text": [
      "1\n",
      "None\n",
      "None\n"
     ]
    }
   ],
   "source": [
    "nombre_de_a = compter_dans_une_autre_chaine(\"a\", texte)\n",
    "z = print(nombre_de_a)\n",
    "print(z)\n",
    "#car print ne fait qu'afficher, il n'y a pas de valeur de retour donc print(nombre_de_a) renvoie None\n",
    "#d'où le résultat de print(z)\n",
    "def x(b):\n",
    "    s = \"a\" + b\n",
    "y = x(\"e\")\n",
    "print(y)\n",
    "#renvoie none car il n'y a pas de valeur de retour dans la fonction x: return retourne mais n'affiche pas,\n",
    "#il faut un print après si on veut afficher la valeur de retour"
   ]
  },
  {
   "cell_type": "markdown",
   "metadata": {},
   "source": [
    "Lisons la chose encore une fois :\n",
    "\n",
    "1. D'abord on définit une fonction en utilisant def suivi du nom de la fonction et de parenthèses et de `:` (ligne 1);\n",
    "2. La fonction prend deux arguments `aiguille` et `botte_de_foin` (ligne 1);\n",
    "3. Dans cette fonction, on définit une variable `mots_de_foin` qui correspond à la chaîne découpée en mots (ligne 2);\n",
    "4. Dans cette fonction, nous définissons ensuite une variable `nombre_daiguilles` et nous lui assignons le résultat de `count()` sur `mots_de_foin` et `aiguille` (ligne 3);\n",
    "5. On retourne la valeur de la variable `nombre_daiguilles` (ligne 4).\n",
    "\n",
    "Testons notre petite fonction! Nous allons compter combien de fois `\"à\"` apparaître dans notre `texte`:"
   ]
  },
  {
   "cell_type": "code",
   "execution_count": 7,
   "metadata": {},
   "outputs": [
    {
     "name": "stdout",
     "output_type": "stream",
     "text": [
      "7\n"
     ]
    }
   ],
   "source": [
    "print(compter_dans_une_autre_chaine(\"à\", texte))"
   ]
  },
  {
   "cell_type": "markdown",
   "metadata": {},
   "source": [
    "---"
   ]
  },
  {
   "cell_type": "markdown",
   "metadata": {},
   "source": [
    "#### Exercice!"
   ]
  },
  {
   "cell_type": "markdown",
   "metadata": {},
   "source": [
    "Utilisez la fonction que nous avons définie et afficher combien de fois le mot `mon` apparaît."
   ]
  },
  {
   "cell_type": "code",
   "execution_count": 18,
   "metadata": {},
   "outputs": [
    {
     "name": "stdout",
     "output_type": "stream",
     "text": [
      "2\n"
     ]
    }
   ],
   "source": [
    "# votre code ici\n",
    "print(compter_dans_une_autre_chaine(\"mon\", texte))"
   ]
  },
  {
   "cell_type": "markdown",
   "metadata": {},
   "source": [
    "## Le concept de scope / portée\n",
    "\n",
    "Vous trouverez souvent dans le cadre de documentation le terme de \"portée\" voire le terme de *\"scope\"*. Ce terme couvre le concept de capacité à accéder à des variables à différents endroits du code. Par exemple, on a défini dans la fonction au-dessus la variable `mots_de_foin`. Et elle fonctionne bien puisque la fonction retourne un résultat. Essayons ça :"
   ]
  },
  {
   "cell_type": "code",
   "execution_count": 19,
   "metadata": {},
   "outputs": [
    {
     "name": "stdout",
     "output_type": "stream",
     "text": [
      "4\n"
     ]
    },
    {
     "ename": "NameError",
     "evalue": "name 'mots_de_foin' is not defined",
     "output_type": "error",
     "traceback": [
      "\u001b[0;31m---------------------------------------------------------------------------\u001b[0m",
      "\u001b[0;31mNameError\u001b[0m                                 Traceback (most recent call last)",
      "\u001b[0;32m<ipython-input-19-a94741c19165>\u001b[0m in \u001b[0;36m<module>\u001b[0;34m\u001b[0m\n\u001b[1;32m      1\u001b[0m \u001b[0mprint\u001b[0m\u001b[0;34m(\u001b[0m\u001b[0mcompter_dans_une_autre_chaine\u001b[0m\u001b[0;34m(\u001b[0m\u001b[0;34m\"ton\"\u001b[0m\u001b[0;34m,\u001b[0m \u001b[0mtexte\u001b[0m\u001b[0;34m)\u001b[0m\u001b[0;34m)\u001b[0m\u001b[0;34m\u001b[0m\u001b[0;34m\u001b[0m\u001b[0m\n\u001b[0;32m----> 2\u001b[0;31m \u001b[0mprint\u001b[0m\u001b[0;34m(\u001b[0m\u001b[0mmots_de_foin\u001b[0m\u001b[0;34m)\u001b[0m\u001b[0;34m\u001b[0m\u001b[0;34m\u001b[0m\u001b[0m\n\u001b[0m",
      "\u001b[0;31mNameError\u001b[0m: name 'mots_de_foin' is not defined"
     ]
    }
   ],
   "source": [
    "print(compter_dans_une_autre_chaine(\"ton\", texte))\n",
    "print(mots_de_foin)"
   ]
  },
  {
   "cell_type": "markdown",
   "metadata": {},
   "source": [
    "Une erreur familière ! La fonction `mots_de_foin` est dite inexistante. Pourtant, elle a bien existé puisque j'ai eu le résultat `4` au final.\n",
    "\n",
    "En fait, les variables dans les fonctions ont une portée limitée à la fonction. Elle n'existe que dans le cadre de la fonction et n’est pas accessible ensuite. C'est pour cela que l'on utilise la déclaration `return` d'ailleurs, sinon, on ne pourrait pas avoir le résultat !"
   ]
  },
  {
   "cell_type": "markdown",
   "metadata": {},
   "source": [
    "---"
   ]
  },
  {
   "cell_type": "markdown",
   "metadata": {},
   "source": [
    "## Un fonction de décompte plus générale"
   ]
  },
  {
   "cell_type": "markdown",
   "metadata": {},
   "source": [
    "Notre fonction `compter_dans_une_autre_chaine()` est un morceau utile qui va nous permettre de limiter la répétition de notre code et de le rendre trop verbeux. \n",
    "\n",
    "Cela dit, il serait intéressant de savoir combien de fois chaque mot apparaît dans le texte, on pourrait utiliser une boucle, ajouter 1 pour chaque mot, etc. Mais cela serait vraiment long.\n",
    "\n",
    "Il y a deux manières de faire cela rapidement, qui évitent un tel problème :"
   ]
  },
  {
   "cell_type": "markdown",
   "metadata": {},
   "source": [
    "### La version longue"
   ]
  },
  {
   "cell_type": "markdown",
   "metadata": {},
   "source": [
    "Dans le chapitre précédent, vous vous êtes familiarisé-e avec la structure `dictionary`. Rappelez-vous qu'un dictionnaire se compose de clés et de valeurs et vous permet de récupérer rapidement une valeur. Nous allons utiliser un dictionnaire pour écrire la fonction `comptage` qui prend comme argument une liste et retourne un` dictionary` avec les mots comme clefs et en valeur le nombre de fois que ces mots sont dans la liste. Nous allons d'abord écrire du code sans la déclaration de fonction. Si cela fonctionne, nous l'écrirons dans une fonction.\n",
    "\n",
    "Nous commençons par définir une variable `decompte` qui est un dictionnaire vide:"
   ]
  },
  {
   "cell_type": "code",
   "execution_count": 20,
   "metadata": {},
   "outputs": [],
   "source": [
    "decompte = {}"
   ]
  },
  {
   "cell_type": "markdown",
   "metadata": {},
   "source": [
    "Ensuite, nous allons boucler tous les mots de notre liste `mots`. Pour chaque mot, nous vérifions si le dictionnaire le contient déjà. Si ce n'est pas le cas, nous appelons la méthode `count` de notre liste `mots` pour découvrir la fréquence d'apparition du mot."
   ]
  },
  {
   "cell_type": "code",
   "execution_count": 21,
   "metadata": {},
   "outputs": [
    {
     "name": "stdout",
     "output_type": "stream",
     "text": [
      "{'Madame,': 2, \"j'ai\": 1, 'beaucoup': 1, 'de': 14, 'grâces': 1, 'à': 9, 'vous': 10, 'rendre': 1, ':': 2, 'un': 8, 'tel': 1, 'avis': 3, \"m'oblige,\": 1, 'et': 16, 'loin': 1, 'le': 6, 'mal': 1, 'prendre,': 1, \"j'en\": 1, 'prétends': 1, 'reconnoître,': 1, \"l'instant,\": 1, 'la': 1, 'faveur,': 1, 'par': 1, 'aussi': 2, 'qui': 5, 'touche': 1, 'votre': 3, 'honneur': 1, ';': 9, 'comme': 2, 'je': 7, 'vois': 1, 'montrer': 1, 'mon': 2, 'amie': 1, 'en': 4, \"m'apprenant\": 1, 'les': 8, 'bruits': 1, 'que': 7, 'moi': 1, \"l'on\": 1, 'publie,': 1, 'veux': 1, 'suivre,': 1, 'tour,': 1, 'exemple': 1, 'si': 2, 'doux,': 1, 'avertissant': 1, 'ce': 2, \"qu'on\": 2, 'dit': 1, 'vous.': 1, 'En': 1, 'lieu,': 1, \"l'autre\": 1, 'jour,': 1, 'où': 2, 'faisois': 1, 'visite,': 1, 'trouvai': 1, 'quelques': 1, 'gens': 2, \"d'un\": 5, 'très-rare': 1, 'mérite,': 1, 'qui,': 1, 'parlant': 1, 'des': 6, 'vrais': 1, 'soins': 1, \"d'une\": 2, 'âme': 1, 'vit': 1, 'bien,': 1, 'firent': 1, 'tomber': 1, 'sur': 3, 'vous,': 2, 'madame,': 2, \"l'entretien.\": 1, 'Là,': 1, 'pruderie': 1, 'vos': 7, 'éclats': 1, 'zèle': 3, 'ne': 3, 'furent': 1, 'pas': 2, 'cités': 1, 'fort': 3, 'bon': 1, 'modèle': 1, 'cette': 3, 'affectation': 1, 'grave': 1, 'extérieur,': 1, 'discours': 1, 'éternels': 1, 'sagesse': 1, \"d'honneur,\": 1, 'mines': 1, 'cris': 1, 'aux': 1, 'ombres': 1, \"d'indécence\": 1, 'mot': 1, 'ambigu': 1, 'peut': 1, 'avoir': 1, \"l'innocence,\": 1, 'hauteur': 1, \"d'estime\": 1, 'êtes': 1, 'ces': 1, 'yeux': 1, 'pitié': 1, 'jetez': 1, 'tous,': 1, 'fréquentes': 1, 'leçons,': 1, 'aigres': 1, 'censures': 1, 'choses': 1, 'sont': 1, 'innocentes': 1, 'pures,': 1, 'tout': 2, 'cela,': 1, 'puis': 1, 'parler': 1, 'franchement,': 1, 'fut': 2, 'blâmé': 1, 'commun': 1, 'sentiment.': 1, 'quoi': 1, 'bon,': 1, 'disoient-ils,': 1, 'mine': 1, 'modeste,': 1, 'sage': 1, 'dehors': 1, 'dément': 1, 'reste': 1, '?': 1, 'Elle': 2, 'est': 1, 'bien': 3, 'prier': 1, 'exacte': 1, 'au': 2, 'dernier': 1, 'point': 1, 'mais': 4, 'elle': 4, 'bat': 1, 'ses': 1, 'gens,': 1, 'paye': 1, 'point.': 1, 'Dans': 1, 'tous': 3, 'lieux': 1, 'dévots': 1, 'étale': 1, 'grand': 1, 'met': 1, 'du': 1, 'blanc': 1, 'veut': 2, 'paroître': 1, 'belle.': 1, 'fait': 1, 'tableaux': 1, 'couvrir': 1, 'nudités': 1, 'a': 2, \"l'amour\": 1, 'pour': 3, 'réalités.': 1, 'Pour': 1, 'moi,': 1, 'contre': 1, 'chacun': 1, 'pris': 1, 'défense,': 1, 'leur': 2, 'assurai': 1, \"c'étoit\": 1, 'médisance': 1, 'sentiments': 1, 'combattirent': 1, 'mien': 1, 'conclusion': 1, 'feriez': 1, 'prendre': 2, 'moins': 1, 'soin': 1, 'actions': 1, 'autres,': 1, 'mettre': 2, 'peu': 1, 'plus': 1, 'peine': 1, 'vôtres': 1, 'doit': 1, 'se': 1, 'regarder': 1, 'soi-même': 1, 'long': 1, 'temps,': 1, 'avant': 1, 'songer': 1, 'condamner': 1, \"qu'il\": 1, 'faut': 1, 'poids': 1, 'vie': 1, 'exemplaire': 1, 'dans': 1, 'corrections': 1, \"qu'aux\": 2, 'autres': 1, 'on': 1, 'faire': 1, \"qu'encor\": 1, 'vaut-il': 1, 'mieux': 1, \"s'en\": 1, 'remettre,': 1, 'besoin,': 1, 'ceux': 1, 'ciel': 1, 'commis': 1, 'soin.': 1, 'crois': 1, 'trop': 1, 'raisonnable,': 1, 'cet': 1, 'profitable,': 1, \"l'attribuer\": 1, 'mouvements': 1, 'secrets': 1, \"m'attache\": 1, 'intérêts.': 1}\n",
      "2\n"
     ]
    }
   ],
   "source": [
    "for mot in mots:\n",
    "# A chaque élément dans la variable `mots`, j'assigne la valeur dans une variable `mot`\n",
    "    if mot not in decompte:\n",
    "        # Si le mot n'est pas dans les clefs du dictionnaire decompte\n",
    "        decompte[mot] = mots.count(mot)\n",
    "        # Je assigne à la clef mot le nombre de fois que la valeur de `mot`\n",
    "        #    apparaît dans `mots`\n",
    "print(decompte)\n",
    "print(decompte['mon'])"
   ]
  },
  {
   "cell_type": "markdown",
   "metadata": {},
   "source": [
    "N'hésitez pas à relire le chapitre 1 si nécessaire .\n",
    "\n",
    "Remarquez que l'on n’a rien fait si le mot était déjà dans notre dictionnaire. On n'a pas besoin puisque l'on a déjà fait le décompte !\n",
    "\n",
    "Maintenant que notre code marche, on peut le transformer en fonction ! On définit la fonction `comptage` comme vue plus haut. On a besoin cette fois d'un seul argument :"
   ]
  },
  {
   "cell_type": "code",
   "execution_count": 22,
   "metadata": {},
   "outputs": [],
   "source": [
    "def comptage(mots):  \n",
    "    decompte = {}\n",
    "    for mot in mots:\n",
    "        if mot not in decompte:\n",
    "            decompte[mot] = mots.count(mot)\n",
    "    return decompte"
   ]
  },
  {
   "cell_type": "markdown",
   "metadata": {},
   "source": [
    "Normalement, la répétition qui suit va être ennuyante, mais au cas où :\n",
    "\n",
    "1. On définit une fonction `comptage()` via `def` en lui donnant un paramètre (`mots`)\n",
    "2. Je crée un dictionnaire vide `decompte` qui me servira de réceptacle\n",
    "3. Pour chaque élément dans la valeur `mots`, j'assigne sa valeur dans une variable `mot`\n",
    "    1. Si le mot n'est pas dans les clefs du dictionnaire decompte, alors\n",
    "        1. Je définis la cle du dictionnaire decompte représentée par `mot`\n",
    "        2. J'y assigne comme valeur le nombre de fois qu'il apparaît dans la liste `mots`\n",
    "4. Une fois la boucle finie, je renvoie le résultat de la boucle."
   ]
  },
  {
   "cell_type": "code",
   "execution_count": 23,
   "metadata": {},
   "outputs": [
    {
     "name": "stdout",
     "output_type": "stream",
     "text": [
      "{'Madame,': 2, \"j'ai\": 1, 'beaucoup': 1, 'de': 14, 'grâces': 1, 'à': 9, 'vous': 10, 'rendre': 1, ':': 2, 'un': 8, 'tel': 1, 'avis': 3, \"m'oblige,\": 1, 'et': 16, 'loin': 1, 'le': 6, 'mal': 1, 'prendre,': 1, \"j'en\": 1, 'prétends': 1, 'reconnoître,': 1, \"l'instant,\": 1, 'la': 1, 'faveur,': 1, 'par': 1, 'aussi': 2, 'qui': 5, 'touche': 1, 'votre': 3, 'honneur': 1, ';': 9, 'comme': 2, 'je': 7, 'vois': 1, 'montrer': 1, 'mon': 2, 'amie': 1, 'en': 4, \"m'apprenant\": 1, 'les': 8, 'bruits': 1, 'que': 7, 'moi': 1, \"l'on\": 1, 'publie,': 1, 'veux': 1, 'suivre,': 1, 'tour,': 1, 'exemple': 1, 'si': 2, 'doux,': 1, 'avertissant': 1, 'ce': 2, \"qu'on\": 2, 'dit': 1, 'vous.': 1, 'En': 1, 'lieu,': 1, \"l'autre\": 1, 'jour,': 1, 'où': 2, 'faisois': 1, 'visite,': 1, 'trouvai': 1, 'quelques': 1, 'gens': 2, \"d'un\": 5, 'très-rare': 1, 'mérite,': 1, 'qui,': 1, 'parlant': 1, 'des': 6, 'vrais': 1, 'soins': 1, \"d'une\": 2, 'âme': 1, 'vit': 1, 'bien,': 1, 'firent': 1, 'tomber': 1, 'sur': 3, 'vous,': 2, 'madame,': 2, \"l'entretien.\": 1, 'Là,': 1, 'pruderie': 1, 'vos': 7, 'éclats': 1, 'zèle': 3, 'ne': 3, 'furent': 1, 'pas': 2, 'cités': 1, 'fort': 3, 'bon': 1, 'modèle': 1, 'cette': 3, 'affectation': 1, 'grave': 1, 'extérieur,': 1, 'discours': 1, 'éternels': 1, 'sagesse': 1, \"d'honneur,\": 1, 'mines': 1, 'cris': 1, 'aux': 1, 'ombres': 1, \"d'indécence\": 1, 'mot': 1, 'ambigu': 1, 'peut': 1, 'avoir': 1, \"l'innocence,\": 1, 'hauteur': 1, \"d'estime\": 1, 'êtes': 1, 'ces': 1, 'yeux': 1, 'pitié': 1, 'jetez': 1, 'tous,': 1, 'fréquentes': 1, 'leçons,': 1, 'aigres': 1, 'censures': 1, 'choses': 1, 'sont': 1, 'innocentes': 1, 'pures,': 1, 'tout': 2, 'cela,': 1, 'puis': 1, 'parler': 1, 'franchement,': 1, 'fut': 2, 'blâmé': 1, 'commun': 1, 'sentiment.': 1, 'quoi': 1, 'bon,': 1, 'disoient-ils,': 1, 'mine': 1, 'modeste,': 1, 'sage': 1, 'dehors': 1, 'dément': 1, 'reste': 1, '?': 1, 'Elle': 2, 'est': 1, 'bien': 3, 'prier': 1, 'exacte': 1, 'au': 2, 'dernier': 1, 'point': 1, 'mais': 4, 'elle': 4, 'bat': 1, 'ses': 1, 'gens,': 1, 'paye': 1, 'point.': 1, 'Dans': 1, 'tous': 3, 'lieux': 1, 'dévots': 1, 'étale': 1, 'grand': 1, 'met': 1, 'du': 1, 'blanc': 1, 'veut': 2, 'paroître': 1, 'belle.': 1, 'fait': 1, 'tableaux': 1, 'couvrir': 1, 'nudités': 1, 'a': 2, \"l'amour\": 1, 'pour': 3, 'réalités.': 1, 'Pour': 1, 'moi,': 1, 'contre': 1, 'chacun': 1, 'pris': 1, 'défense,': 1, 'leur': 2, 'assurai': 1, \"c'étoit\": 1, 'médisance': 1, 'sentiments': 1, 'combattirent': 1, 'mien': 1, 'conclusion': 1, 'feriez': 1, 'prendre': 2, 'moins': 1, 'soin': 1, 'actions': 1, 'autres,': 1, 'mettre': 2, 'peu': 1, 'plus': 1, 'peine': 1, 'vôtres': 1, 'doit': 1, 'se': 1, 'regarder': 1, 'soi-même': 1, 'long': 1, 'temps,': 1, 'avant': 1, 'songer': 1, 'condamner': 1, \"qu'il\": 1, 'faut': 1, 'poids': 1, 'vie': 1, 'exemplaire': 1, 'dans': 1, 'corrections': 1, \"qu'aux\": 2, 'autres': 1, 'on': 1, 'faire': 1, \"qu'encor\": 1, 'vaut-il': 1, 'mieux': 1, \"s'en\": 1, 'remettre,': 1, 'besoin,': 1, 'ceux': 1, 'ciel': 1, 'commis': 1, 'soin.': 1, 'crois': 1, 'trop': 1, 'raisonnable,': 1, 'cet': 1, 'profitable,': 1, \"l'attribuer\": 1, 'mouvements': 1, 'secrets': 1, \"m'attache\": 1, 'intérêts.': 1}\n",
      "\"mon\" apparaît 2 fois.\n"
     ]
    }
   ],
   "source": [
    "print(comptage(mots))\n",
    "vocabulaire_cid = comptage(mots)\n",
    "print('\"mon\" apparaît ' + str(vocabulaire_cid['mon']) + ' fois.')"
   ]
  },
  {
   "cell_type": "markdown",
   "metadata": {},
   "source": [
    "---"
   ]
  },
  {
   "cell_type": "markdown",
   "metadata": {},
   "source": [
    "#### Exercice"
   ]
  },
  {
   "cell_type": "markdown",
   "metadata": {},
   "source": [
    "Essayons de mettre en pratique ce que l'on a vu jusque là. On va lire le fichier `data/misanthrope.acte3.scene4.txt`, le convertir en liste de mot et assigner à la variable `compte_de_mais` le nombre de fois que mais apparaît dans le texte :"
   ]
  },
  {
   "cell_type": "code",
   "execution_count": 24,
   "metadata": {},
   "outputs": [],
   "source": [
    "# Votre code ici\n",
    "with open ('data/misanthrope.acte3.scene4.txt') as fichier_misanthrope:\n",
    "    texte_misanthrope = fichier_misanthrope.read()\n",
    "    mots = texte_misanthrope.split()\n",
    "    vocabulaire_misanthrope = comptage(mots)\n",
    "    compte_de_mais = vocabulaire_misanthrope[\"mais\"]\n",
    "\n",
    "# Le test suivant ne devrait pas créer d'erreurs\n",
    "assert compte_de_mais == 4, \"Il y a 4 'mais'\""
   ]
  },
  {
   "cell_type": "markdown",
   "metadata": {},
   "source": [
    "*Le nombre de lignes écrites par vous-mêmes ne devrait pas dépasser les 6 ou 7 lignes*"
   ]
  },
  {
   "cell_type": "markdown",
   "metadata": {},
   "source": [
    "---"
   ]
  },
  {
   "cell_type": "markdown",
   "metadata": {},
   "source": [
    "### Une alternative à la fonction de comptage : éviter les doublons avec `set`"
   ]
  },
  {
   "cell_type": "markdown",
   "metadata": {},
   "source": [
    "Le problème de la fonction d'avant, c'est qu'elle passe sur certaines valeurs plusieurs fois et que l'on est obligé de faire un if pour que cela fonctionne correctement. On peut parler de code non optimisé: une tâche est faite un bon nombre de fois sans avoir d'impact et prend du temps que l'on pourrait gagner.\n",
    "\n",
    "Aussi, il serait bon de savoir quelles sont les valeurs uniques de la liste de mots. Pour cela, on utilise le type `set()` :"
   ]
  },
  {
   "cell_type": "code",
   "execution_count": 28,
   "metadata": {},
   "outputs": [
    {
     "name": "stdout",
     "output_type": "stream",
     "text": [
      "{'a', 'b', 'c'}\n",
      "{1, 2, 3, 4}\n"
     ]
    }
   ],
   "source": [
    "x = ['a', 'a', 'b', 'b', 'c', 'c', 'c']\n",
    "unique_x = set(x) #on caste x\n",
    "y = [1, 1, 4, 3, 1, 2, 2, 4]\n",
    "print(unique_x)\n",
    "print(set(y))"
   ]
  },
  {
   "cell_type": "code",
   "execution_count": 31,
   "metadata": {},
   "outputs": [],
   "source": [
    "#souvent on fera ça\n",
    "a = [1,2,3,4,2,3,6]\n",
    "b = set(a)\n",
    "c = list(b)\n",
    "\n",
    "#ou plutôt\n",
    "a = list(set([1,2,3,4,2,3,6]))\n",
    "\n",
    "#un set est sous la forme {1,2,3}"
   ]
  },
  {
   "cell_type": "markdown",
   "metadata": {},
   "source": [
    "Les sets sont des sortes de liste où les valeurs sont forcément uniques; ils sont itérables et muables. En transformant une liste en set, on supprime les doublons. Attention cependant, un set n'est pas ordonné et ne peut donc pas être accédé par des index :"
   ]
  },
  {
   "cell_type": "code",
   "execution_count": 27,
   "metadata": {},
   "outputs": [
    {
     "ename": "TypeError",
     "evalue": "'set' object is not subscriptable",
     "output_type": "error",
     "traceback": [
      "\u001b[0;31m---------------------------------------------------------------------------\u001b[0m",
      "\u001b[0;31mTypeError\u001b[0m                                 Traceback (most recent call last)",
      "\u001b[0;32m<ipython-input-27-55be18bd28ed>\u001b[0m in \u001b[0;36m<module>\u001b[0;34m\u001b[0m\n\u001b[0;32m----> 1\u001b[0;31m \u001b[0munique_x\u001b[0m\u001b[0;34m[\u001b[0m\u001b[0;36m0\u001b[0m\u001b[0;34m]\u001b[0m\u001b[0;34m\u001b[0m\u001b[0;34m\u001b[0m\u001b[0m\n\u001b[0m",
      "\u001b[0;31mTypeError\u001b[0m: 'set' object is not subscriptable"
     ]
    }
   ],
   "source": [
    "unique_x[0]"
   ]
  },
  {
   "cell_type": "markdown",
   "metadata": {},
   "source": [
    "Cependant, on peut lui ajouter des valeurs. Au lieu d'utiliser `append()` on utilise `add()` :"
   ]
  },
  {
   "cell_type": "code",
   "execution_count": 32,
   "metadata": {},
   "outputs": [
    {
     "data": {
      "text/plain": [
       "{'a', 'b', 'c', 'test'}"
      ]
     },
     "execution_count": 32,
     "metadata": {},
     "output_type": "execute_result"
    }
   ],
   "source": [
    "unique_x.add(\"test\")\n",
    "unique_x"
   ]
  },
  {
   "cell_type": "markdown",
   "metadata": {},
   "source": [
    "À partir de cela, on peut faire une fonction plus simple:"
   ]
  },
  {
   "cell_type": "code",
   "execution_count": 33,
   "metadata": {},
   "outputs": [],
   "source": [
    "def comptage2(mots):\n",
    "    sans_doublon = set(mots)\n",
    "    compteur = {}\n",
    "    for mot in sans_doublon:\n",
    "        compteur[mot] = mots.count(mot)\n",
    "        print(mot)\n",
    "    return compteur"
   ]
  },
  {
   "cell_type": "markdown",
   "metadata": {},
   "source": [
    "On vérifie que cela marche :"
   ]
  },
  {
   "cell_type": "code",
   "execution_count": 34,
   "metadata": {},
   "outputs": [
    {
     "name": "stdout",
     "output_type": "stream",
     "text": [
      "par\n",
      "zèle\n",
      "pitié\n",
      "exacte\n",
      "visite,\n",
      "dévots\n",
      "l'amour\n",
      "suivre,\n",
      "m'apprenant\n",
      "trouvai\n",
      "cette\n",
      "aux\n",
      "commun\n",
      "extérieur,\n",
      "discours\n",
      "sentiment.\n",
      "besoin,\n",
      "exemple\n",
      "avertissant\n",
      "quoi\n",
      "dehors\n",
      "condamner\n",
      "peine\n",
      "si\n",
      "cités\n",
      "sagesse\n",
      "quelques\n",
      "bien,\n",
      "défense,\n",
      "qu'aux\n",
      "commis\n",
      "assurai\n",
      "mon\n",
      "étale\n",
      "chacun\n",
      "veux\n",
      "autres,\n",
      "avant\n",
      "faut\n",
      "affectation\n",
      "fréquentes\n",
      "dernier\n",
      "qui,\n",
      "vie\n",
      "peu\n",
      "beaucoup\n",
      "vous.\n",
      "des\n",
      "où\n",
      "très-rare\n",
      "furent\n",
      "sage\n",
      "blanc\n",
      "feriez\n",
      "remettre,\n",
      "mien\n",
      "nudités\n",
      "franchement,\n",
      "parlant\n",
      "Madame,\n",
      "ce\n",
      "elle\n",
      "lieux\n",
      "ombres\n",
      "mot\n",
      "intérêts.\n",
      "un\n",
      "l'autre\n",
      "soins\n",
      "pas\n",
      "moins\n",
      "d'honneur,\n",
      "tous,\n",
      "les\n",
      "aigres\n",
      "avoir\n",
      "tout\n",
      "j'ai\n",
      ";\n",
      "tomber\n",
      "hauteur\n",
      "tel\n",
      "blâmé\n",
      "veut\n",
      "l'attribuer\n",
      "regarder\n",
      "Elle\n",
      "a\n",
      "tour,\n",
      "l'innocence,\n",
      "jetez\n",
      ":\n",
      "disoient-ils,\n",
      "long\n",
      "qu'encor\n",
      "fort\n",
      "du\n",
      "mal\n",
      "j'en\n",
      "mettre\n",
      "faisois\n",
      "mieux\n",
      "faire\n",
      "sont\n",
      "ne\n",
      "autres\n",
      "plus\n",
      "grand\n",
      "on\n",
      "Dans\n",
      "Pour\n",
      "au\n",
      "bon\n",
      "leur\n",
      "reste\n",
      "éternels\n",
      "ciel\n",
      "lieu,\n",
      "pour\n",
      "doit\n",
      "faveur,\n",
      "mérite,\n",
      "pris\n",
      "innocentes\n",
      "bon,\n",
      "gens,\n",
      "gens\n",
      "médisance\n",
      "d'une\n",
      "raisonnable,\n",
      "soi-même\n",
      "trop\n",
      "temps,\n",
      "point.\n",
      "couvrir\n",
      "montrer\n",
      "qui\n",
      "est\n",
      "moi\n",
      "modèle\n",
      "l'entretien.\n",
      "ambigu\n",
      "c'étoit\n",
      "peut\n",
      "cris\n",
      "bien\n",
      "soin\n",
      "pruderie\n",
      "d'indécence\n",
      "prétends\n",
      "actions\n",
      "l'on\n",
      "êtes\n",
      "prendre,\n",
      "soin.\n",
      "touche\n",
      "cet\n",
      "d'un\n",
      "prendre\n",
      "grave\n",
      "que\n",
      "l'instant,\n",
      "mouvements\n",
      "comme\n",
      "?\n",
      "vous\n",
      "sentiments\n",
      "vaut-il\n",
      "crois\n",
      "sur\n",
      "ses\n",
      "point\n",
      "bruits\n",
      "jour,\n",
      "firent\n",
      "puis\n",
      "paye\n",
      "aussi\n",
      "mines\n",
      "poids\n",
      "pures,\n",
      "fait\n",
      "ces\n",
      "le\n",
      "tous\n",
      "votre\n",
      "fut\n",
      "vit\n",
      "met\n",
      "amie\n",
      "de\n",
      "dit\n",
      "Là,\n",
      "secrets\n",
      "se\n",
      "parler\n",
      "vous,\n",
      "censures\n",
      "honneur\n",
      "En\n",
      "moi,\n",
      "avis\n",
      "dément\n",
      "s'en\n",
      "vois\n",
      "en\n",
      "corrections\n",
      "choses\n",
      "vrais\n",
      "profitable,\n",
      "éclats\n",
      "yeux\n",
      "mine\n",
      "tableaux\n",
      "songer\n",
      "m'oblige,\n",
      "loin\n",
      "prier\n",
      "qu'il\n",
      "exemplaire\n",
      "qu'on\n",
      "vôtres\n",
      "leçons,\n",
      "reconnoître,\n",
      "combattirent\n",
      "dans\n",
      "âme\n",
      "doux,\n",
      "et\n",
      "belle.\n",
      "mais\n",
      "la\n",
      "conclusion\n",
      "ceux\n",
      "publie,\n",
      "je\n",
      "cela,\n",
      "vos\n",
      "contre\n",
      "modeste,\n",
      "madame,\n",
      "rendre\n",
      "grâces\n",
      "à\n",
      "bat\n",
      "m'attache\n",
      "d'estime\n",
      "réalités.\n",
      "paroître\n",
      "16\n"
     ]
    }
   ],
   "source": [
    "decompte = comptage2(mots)\n",
    "print(decompte[\"et\"])"
   ]
  },
  {
   "cell_type": "markdown",
   "metadata": {},
   "source": [
    "---"
   ]
  },
  {
   "cell_type": "markdown",
   "metadata": {},
   "source": [
    "### Documenter une fonction : méthode Sphinx"
   ]
  },
  {
   "cell_type": "markdown",
   "metadata": {},
   "source": [
    "Tout comme il est bien de documenter avec des # les lignes de votre code afin de mieux le comprendre, il est encore mieux de commenter ses fonctions. On distingue plusieurs méthodes de documentation : la documentation [reStructuredText (rst)](https://docs.python.org/devguide/documenting.html) et la documentation Google sont les plus communes. Voyons un exemple de la RST !"
   ]
  },
  {
   "cell_type": "code",
   "execution_count": 35,
   "metadata": {},
   "outputs": [],
   "source": [
    "def comptage2(mots):\n",
    "    \"\"\" Compte et stocke le décompte de chaque mot dans une liste de mots\n",
    "    \n",
    "    :param mots: Liste de mots\n",
    "    :type mots: list\n",
    "    :returns: Dictionnaire où les clefs sont les mots et les valeurs le nombre d'occurrences\n",
    "    :rtype: dict\n",
    "    \"\"\"\n",
    "    sans_doublon = set(mots)\n",
    "    compteur = {}\n",
    "    for mot in sans_doublon:\n",
    "        compteur[mot] = mots.count(mot)\n",
    "    return compteur"
   ]
  },
  {
   "cell_type": "markdown",
   "metadata": {},
   "source": [
    "Qu'avons-nous fait ?\n",
    "\n",
    "1. Nous avons utilisé le commentaire en triple guillemet `\"\"\"` qui permet de faire des commentaires en multilignes.\n",
    "2. La première ligne est consacrée à la description de ce à quoi sert la fonction\n",
    "3. On décrit un paramètre via `:param mots:` : la syntaxe est fixe `:param ` suivi du nom de mon paramètre et de `:` puis on décrite ce paramètre, ce qui est attendu\n",
    "4. Quand cela fait sens, on peut compléter `:param mots:` par `:type mots:` qui donne le type de données attendues (`list`, `str`, `dict`, `int`, `TextIOWrapper`, etc.)\n",
    "5. Une fois tous les paramètres décrits, on décrit ce qui est renvoyé après `:returns:`\n",
    "6. Quand cela fait sens, on peut compléter `:returns:` par `:rtype:` (pour *returns type*) comme pour les paramètres."
   ]
  },
  {
   "cell_type": "markdown",
   "metadata": {},
   "source": [
    "### Exercice\n",
    "\n",
    "Écrire une fonction `statistiques_mots` qui prend un chemin de fichier et qui renvoie un dictionnaire de compte d'occurrences. Documentez votre fonction."
   ]
  },
  {
   "cell_type": "code",
   "execution_count": 65,
   "metadata": {},
   "outputs": [
    {
     "name": "stdout",
     "output_type": "stream",
     "text": [
      "{\"l'amour\": 1, 'sans': 1, 'tant': 2, 'recueillir,': 1, 'amie,': 1, 'augmente': 1, \"l'amour,\": 1, 'distrait-il': 1, 'près,': 1, 'encore,': 1, 'journées': 1, 'mauvais': 1, \"d'abord\": 1, 'peu': 3, 'envie': 1, 'Marquise': 1, 'avez': 1, \"l'objet,\": 1, \"N'est-ce\": 1, 'ici,': 1, \"l'avoir\": 1, 'aurais-je': 1, \"C'est\": 1, 'un': 2, 'moment': 1, 'MERTEUIL._': 1, 'tout': 8, 'précieux': 1, \"j'ai\": 2, \"n'êtes\": 1, 'quereller!': 1, 'jours': 1, 'adorable': 2, 'difficile': 1, 'deux': 2, 'savez,': 1, 'cru': 1, \"j'en\": 3, 'bonheur': 1, 'Les': 1, 'ne': 11, 'Dans': 1, 'au': 3, 'tout:': 1, 'chut!': 1, 'différence:': 1, 'dernière': 1, 'désoccupé,': 1, 'Aussi': 1, 'absence?': 1, 'raisonnable,': 1, 'présence?': 1, 'beau': 4, \"m'intéressent\": 1, 'cent': 1, 'peut': 2, 'aimables,': 1, 'pouvoir': 1, 'réserve!': 1, 'serait': 1, \"J'aime\": 1, 'suis': 2, 'comme': 1, 'écrire?': 1, \"n'entendez-vous\": 1, 'Chevalier': 1, 'semble': 1, 'ces': 1, \"Quoiqu'on\": 1, 'secrets': 1, 'lettre': 1, 'bonne': 1, 'vous,': 2, \"n'ose\": 1, 'semblable.': 1, 'yeux': 1, 'songer': 1, 'trahison,': 1, \"qu'il\": 2, \"s'exalte:\": 1, 'écrire.': 1, 'mis': 1, 'finies.': 1, 'sentiments,': 1, 'distrait.': 1, 'octobre': 1, 'mais': 3, 'erreur': 1, 'trouveront': 1, 'pourtant': 2, 'peur': 1, 'raison': 1, \"qu'une\": 1, \"l'amour?\": 1, 'rassemble': 1, 'par': 3, 'occuper': 1, 'même': 2, 'ainsi': 1, 'chimère;': 1, 'cette': 1, 'donc,': 1, 'regardais': 1, 'penser': 1, 'trouve': 1, 'nécessaire.': 1, 'payer': 1, 'Malheureusement,': 1, 'si': 11, 'cependant': 1, 'mon': 8, 'veux': 1, 'croire;': 1, 'toutes': 1, 'femmes,': 1, 'plaire,': 1, 'procès': 1, 'petit': 1, 'ce': 8, 'ouvrage,': 1, 'droit': 1, 'bonheur.': 1, 'gain,': 1, 'asile.': 1, 'également': 1, 'pourquoi': 2, 'ouvrir': 1, \"m'intéresse\": 1, 'Si': 2, \"c'est\": 3, 'les': 10, \"m'occuper\": 1, 'faute,': 1, 'encore.': 1, 'oublions': 1, 'a': 2, 'légère': 1, 'revenez': 1, 'dis:': 1, 'mettre': 1, 'voyez': 1, 'davantage': 1, \"n'avoir\": 1, 'on': 11, 'Nos': 1, 'Pour': 1, 'leur': 4, 'Peut-être': 1, '16': 1, 'augmenter': 1, 'aller': 1, \"d'une\": 1, 'trop': 1, 'croire.': 1, 'assure,': 1, 'qui': 2, 'sentiments.': 1, 'dire,': 1, \"l'aimer,\": 1, 'enfin': 2, 'honnêtes': 1, 'cœur': 2, 'faisiez': 1, \"m'avez\": 2, 'sorte,': 1, \"l'habitude\": 1, 'croyez': 1, 'vous': 28, 'regarde': 1, 'êtes,': 1, 'véritable': 1, 'sur': 2, 'ses': 1, 'retour': 1, 'arrive': 1, 'puis': 3, 'faire,': 1, 'plaindre.': 1, 'raisons,': 1, 'mesure': 1, 'espoir,': 1, 'exercés,': 1, 'le': 9, 'Oubliez': 1, 'votre': 6, 'répondre': 1, 'amie': 3, 'si,': 1, \"n'êtes-vous\": 2, 'dit': 3, 'reproche': 1, 'situation.': 1, 'affaires': 1, 'amie;': 1, \"l'ennui\": 1, 'en': 6, 'charme': 1, 'rappellerait': 1, 'me': 9, 'loin': 2, 'voulez-vous': 1, 'faible': 1, 'perfection,': 1, \"l'idée\": 1, 'sortir,': 1, 'procédé,': 1, 'voulu': 1, 'laisser': 2, \"l'honneur\": 1, 'une': 2, 'vos': 2, 'CXVIII': 1, 'avocats,': 1, 'justification': 1, 'renfermé': 1, 'peut-être': 2, 'avec': 2, \"n'ai\": 1, 'donc': 2, 'perte': 1, 'tendres': 1, 'manque': 1, 'consulter': 1, 'portrait': 1, 'nouveau': 1, 'retiennent': 1, 'Ah!': 2, \"d'en\": 1, 'raisons': 1, 'quelque': 1, '_Paris,': 1, 'cela': 1, \"qu'avec\": 1, 'toujours': 3, 'faut': 3, 'Oui,': 1, 'embellir': 1, 'être': 1, 'etc.': 1, 'des': 5, \"m'en\": 1, 'elle': 2, 'même,': 1, 'ramener': 1, 'pas': 12, 'pourriez': 1, 'foi.': 1, 'moins': 1, 'Il': 2, 'veut': 1, 'distraire.': 1, 'noire': 1, \"J'ai\": 1, 'dois': 1, 'infidélité,': 1, 'brouillé': 1, 'faire!': 1, 'Comment': 1, \"l'amitié\": 1, 'daignez': 1, 'plus': 8, \"l'en\": 1, 'ont': 1, 'siècles.': 1, \"l'ignore.\": 1, 'pour': 8, 'elle-même': 1, 'almanach,': 1, '_Le': 1, 'gens-là': 1, 'Espagne,': 1, 'il': 6, 'tiens': 1, 'est': 8, 'voir': 2, 'a,': 1, \"j'aime?\": 1, 'entrer': 1, 'idée.': 1, 'ni': 1, 'étonné': 1, 'savent,': 1, 'répondre,': 1, 'que': 26, 'crée': 1, 'crois': 3, 'goûte': 1, 'après': 2, 'encore': 2, 'Et': 1, 'elles': 1, 'fait': 3, 'passer': 1, 'longues': 1, 'blâmer': 1, 'se': 2, 'fait,': 1, 'dis': 1, 'suffisent': 1, 'mes': 1, 'disent': 1, 'celles': 1, 'ils': 1, \"n'étiez\": 1, 'ou': 2, 'donner': 1, \"m'est\": 1, 'sujet': 1, 'seulement': 1, 'déposer': 1, 'temps': 1, 'apprendre': 1, 'elle.': 1, 'je': 13, 'Mais,': 1, 'charme.': 1, 'positivement': 1, 'à': 22, \"l'humeur,\": 1, \"j'y\": 1, \"d'être\": 1, 'son': 3, \"c'était\": 3, 'celles-là': 1, '_mille': 1, \"d'avoir\": 1, 'douce': 1, 'dise': 1, 'rien': 2, 'Point': 1, 'cœur,': 1, 'retarde': 1, 'dès': 1, 'qui,': 1, 'vous.': 1, 'où': 2, 'jolies': 1, 'Cette': 1, \"qu'elles\": 3, 'absente;': 1, \"qu'est\": 2, 'permet': 1, 'ami': 1, 'montrer!': 1, 'ma': 2, 'pas.': 1, 'été': 1, 'doivent': 1, 'triste,': 1, 'là,': 2, 'vue;': 1, 'depuis': 2, 'DANCENY': 1, 'Oh!': 1, 'surtout': 1, 'vôtre': 1, 'Cécile,': 1, \"_d'elle_\": 1, 'dupe': 1, 'moi.': 1, 'y': 4, 'du': 2, \"m'égare,\": 1, 'motifs': 1, 'sont': 5, 'Cependant': 1, 'ici?': 1, 'Je': 3, 'reçu': 1, 'celui': 1, \"qu'elle\": 1, 'Vous': 2, 'chéris': 1, 'devenu': 1, \"J'avais\": 1, 'près': 1, 'bien': 8, 'dont': 2, 'possible,': 1, \"l'imagination\": 1, 'retomber,': 1, 'délicats,': 1, 'êtes': 1, 'modèle,': 1, 'apprenez-moi': 1, \"l'entendre,\": 1, 'suffirait': 1, 'frais': 1, \"n'a\": 1, 'reveniez,': 1, \"d'y\": 1, 'ressemblaient,': 1, 'et,': 1, 'châteaux': 1, 'sa': 1, \"n'y\": 1, 'LETTRE': 1, \"l'avoue,\": 1, 'vivement,': 1, '17**._': 1, 'de': 28, 'oublier.': 1, 'voyage,': 1, 'accoutumé': 1, 'parler': 1, 'raison-là': 1, 'confidence.': 1, 'moi,': 1, 'recevoir': 1, \"s'il\": 1, 'assure': 1, 'choses': 1, 'là': 2, \"m'inspire\": 1, 'vous-même,': 1, 'ramène': 1, \"qu'on\": 5, 'quelquefois': 1, 'quand': 3, 'dans': 1, 'vivre': 1, 'et': 15, \"d'être,\": 1, 'raisons_': 1, 'rêve,': 1, 'la': 4, 'perdre': 2, \"j'aurais\": 1, 'La': 1, 'Or,': 1, 'pourraient': 1, 'aurez': 1, 'nouvel': 1}\n"
     ]
    }
   ],
   "source": [
    "# Votre code ici\n",
    "def statistiques_mots(chemin):\n",
    "    \"\"\"Compte et stocke le décompte de chaque mot d'un fichier dans une liste\n",
    "    \n",
    "    :param chemin: fichier\n",
    "    :type chemin: TextIOWrapper\n",
    "    :returns: dictionnaire où les clefs sont les mots et les valeurs le nombre d'occurences\n",
    "    :rtype: dict\n",
    "    \"\"\"\n",
    "    with open(chemin) as f:\n",
    "        f_o = f.read()\n",
    "        mots = f_o.split()\n",
    "        sans_doublons = set(mots)\n",
    "        compteur = {}\n",
    "        for mot in sans_doublons:\n",
    "            compteur[mot] = mots.count(mot)\n",
    "        return compteur\n",
    "    \n",
    "# Cette portion vérifie que votre code fonction\n",
    "# En finissant la ligne par un \"\\\", on échappe le saut de ligne\n",
    "assert statistiques_mots(\"data/liaisons.118.txt\")[\"et\"] == 15, \\\n",
    "    \"Il y a 52 occurrences de et dans le texte du fichier W\""
   ]
  },
  {
   "cell_type": "markdown",
   "metadata": {},
   "source": [
    "----\n",
    "\n",
    "#### Ce que l'on a appris\n",
    "\n",
    "Pour finir cette section, voici un récapitulatif des concepts appris. Lisez la liste et posez des questions si certaines choses ne sont pas claires.\n",
    "\n",
    "- `def`\n",
    "- paramètres et argument\n",
    "- portée des variables (*scope*)\n",
    "- documentation reStructuredText\n",
    "- `set()`"
   ]
  },
  {
   "cell_type": "markdown",
   "metadata": {},
   "source": [
    "---"
   ]
  },
  {
   "cell_type": "markdown",
   "metadata": {},
   "source": [
    "## Nettoyer des données textuelles"
   ]
  },
  {
   "cell_type": "markdown",
   "metadata": {},
   "source": [
    "Dans la section précédente, nous avons écrit du code pour calculer une distribution de fréquence des mots dans un texte stocké sur notre ordinateur. La méthode `split()` est une manière rapide pour diviser une chaîne en une liste de mots. Mais si nous regardons de plus près nos distributions de fréquence, nous remarquons beaucoup de bruit. Par exemple, le pronom *on* apparaît 1 fois, mais nous trouvons aussi `qu'on` survenant une fois. Et `et` et `Et` sont différents. Bien sûr, nous aimerions ajouter ces chiffres ensemble.\n",
    "\n",
    "Il y a deux stratégies à suivre pour corriger nos distributions de fréquences. Le premier est de trouver une meilleure procédure pour diviser notre texte en mots. La seconde consiste à nettoyer notre texte et à passer ce résultat propre à la méthode `split`. Pour l'instant nous suivrons nous occuperons du deuxième.\n",
    "\n",
    "Certains mots de notre texte sont en majuscules. Pour minuter ces mots, Python fournit la méthode `lower`. Il fonctionne sur des chaînes:"
   ]
  },
  {
   "cell_type": "code",
   "execution_count": 36,
   "metadata": {},
   "outputs": [
    {
     "name": "stdout",
     "output_type": "stream",
     "text": [
      "e\n"
     ]
    }
   ],
   "source": [
    "x = 'E'\n",
    "x_lower = x.lower()\n",
    "print(x_lower)"
   ]
  },
  {
   "cell_type": "markdown",
   "metadata": {},
   "source": [
    "On peut appliquer cette fonction à notre texte complet pour obtenir un texte en minuscule de la même manière :"
   ]
  },
  {
   "cell_type": "code",
   "execution_count": 37,
   "metadata": {},
   "outputs": [
    {
     "name": "stdout",
     "output_type": "stream",
     "text": [
      "les virgules, si on y pense, vraiment, je vous assure, sont superflues.\n"
     ]
    }
   ],
   "source": [
    "texte = \"Les virgules, si on y pense, vraiment, je vous assure, sont SupErFlues.\"\n",
    "texte_lower = texte.lower()\n",
    "print(texte_lower)"
   ]
  },
  {
   "cell_type": "markdown",
   "metadata": {},
   "source": [
    "Cela résout notre problème de la compréhension des mots en majuscules, nous laissant avec le problème de la ponctuation. La méthode `replace` est justement la fonction que nous recherchons. Il prend deux arguments: (1) la chaîne que nous aimerions remplacer et (2) la chaîne qui servira de remplacement:"
   ]
  },
  {
   "cell_type": "code",
   "execution_count": 38,
   "metadata": {},
   "outputs": [
    {
     "name": "stdout",
     "output_type": "stream",
     "text": [
      "Mais Arrêtez De Me Couper Dans Mon Élocution S'il Vous Plait\n"
     ]
    }
   ],
   "source": [
    "phrase = 'Mais. Arrêtez. De. Me. Couper. Dans. Mon. Élocution. S\\'il. Vous. Plait'\n",
    "sans_points = phrase.replace(\".\", \"\")\n",
    "print(sans_points)"
   ]
  },
  {
   "cell_type": "markdown",
   "metadata": {},
   "source": [
    "Remarquez que pour supprimer les `.`, on a fourni une chaîne vide `\"\"`. On aurait pu les remplacer par le mot `point`, mais cela ne nous aurait pas vraiment avancés."
   ]
  },
  {
   "cell_type": "markdown",
   "metadata": {},
   "source": [
    "---"
   ]
  },
  {
   "cell_type": "markdown",
   "metadata": {},
   "source": [
    "#### Exercice"
   ]
  },
  {
   "cell_type": "markdown",
   "metadata": {},
   "source": [
    "Nettoyez cette chaîne en supprimant les virgules, les points et les majuscules."
   ]
  },
  {
   "cell_type": "code",
   "execution_count": 45,
   "metadata": {},
   "outputs": [
    {
     "name": "stdout",
     "output_type": "stream",
     "text": [
      "True\n"
     ]
    }
   ],
   "source": [
    "texte = \"Les virgules, si on y pense, vraiment, je vous assure, sont superflues.\"\n",
    "# Votre code ici\n",
    "texte = texte.lower().replace(\",\", \"\").replace(\".\", \"\")\n",
    "\n",
    "# Et on vérifie avec le test.\n",
    "# Notez que si le copier coller est bien, il est mal de copier la chaîne en dessous au dessus.\n",
    "# Le test marcherait mais cela serait un peu malhonnête.\n",
    "print(texte == \"les virgules si on y pense vraiment je vous assure sont superflues\")"
   ]
  },
  {
   "cell_type": "markdown",
   "metadata": {},
   "source": [
    "---"
   ]
  },
  {
   "cell_type": "markdown",
   "metadata": {},
   "source": [
    "Et si on voulait supprimer toute la ponctuation d'un texte, pas seulement les points et les virgules ? On va écrire une fonction `supprimer_ponctuation` qui va faire ce que son nom indique. Il y a plein de manières d'écrire cette fonction, on va vous en montrer deux. La première stratégie est de répeter `replace` sur la même chaîne en changeant à chaque fois la l'élément de ponctuation par une chaîne vide."
   ]
  },
  {
   "cell_type": "code",
   "execution_count": 46,
   "metadata": {},
   "outputs": [
    {
     "name": "stdout",
     "output_type": "stream",
     "text": [
      "Les virgules si lon y pense vraiment je vous assure sont superflues\n"
     ]
    }
   ],
   "source": [
    "def supprimer_ponctuation(texte):\n",
    "    \"\"\" Supprimer les caractères de ponctuation d'un texte\n",
    "    \n",
    "    :param texte: Texte à nettoyer\n",
    "    :type texte: str\n",
    "    :returns: Texte sans ponctuation\n",
    "    :rtype: str\n",
    "    \"\"\"\n",
    "    ponctuation = '!@#$%^&*()_-+={}[]:;\"\\'|<>,.?/~`'\n",
    "    for marqueur in ponctuation:\n",
    "        texte = texte.replace(marqueur, \"\")\n",
    "    return texte\n",
    "\n",
    "texte_court = \"Les virgules, si l'on y pense, vraiment, je vous assure, sont superflues.\"\n",
    "print(supprimer_ponctuation(texte_court))"
   ]
  },
  {
   "cell_type": "markdown",
   "metadata": {},
   "source": [
    "L'autre stratégie qui permet d'arriver au même résultat n'utilise pas la fonction `replace`. Cela consiste à itérer sur la chaîne de caractère et de vérifier s’ils sont acceptables:"
   ]
  },
  {
   "cell_type": "code",
   "execution_count": 47,
   "metadata": {},
   "outputs": [
    {
     "name": "stdout",
     "output_type": "stream",
     "text": [
      "Les virgules si lon y pense vraiment je vous assure sont superflues\n"
     ]
    }
   ],
   "source": [
    "def supprimer_ponctuation2(texte):\n",
    "    \"\"\" Supprimer les caractères de ponctuation d'un texte\n",
    "    \n",
    "    :param texte: Texte à nettoyer\n",
    "    :type texte: str\n",
    "    :returns: Texte sans ponctuation\n",
    "    :rtype: str\n",
    "    \"\"\"\n",
    "    ponctuation = '!@#$%^&*()_-+={}[]:;\"\\'|<>,.?/~`'\n",
    "    nouveau_texte = \"\"\n",
    "    for charactere in texte:\n",
    "        if charactere not in ponctuation:\n",
    "            nouveau_texte += charactere\n",
    "    return nouveau_texte\n",
    "\n",
    "texte_court = \"Les virgules, si l'on y pense, vraiment, je vous assure, sont superflues.\"\n",
    "print(supprimer_ponctuation2(texte_court))"
   ]
  },
  {
   "cell_type": "markdown",
   "metadata": {},
   "source": [
    "---"
   ]
  },
  {
   "cell_type": "markdown",
   "metadata": {},
   "source": [
    "#### Exercice"
   ]
  },
  {
   "cell_type": "markdown",
   "metadata": {},
   "source": [
    "Il est temps de faire votre propre fonction. À partir du test et de la documentation, compléter le code ci-dessous."
   ]
  },
  {
   "cell_type": "code",
   "execution_count": 66,
   "metadata": {},
   "outputs": [],
   "source": [
    "def nettoyer_texte(texte, ponctuation):\n",
    "    \"\"\" Cette fonction transforme les majuscules en minuscules et supprime la ponctuation\n",
    "    \n",
    "    :param texte: Texte à nettoyer\n",
    "    :type texte: str\n",
    "    :param ponctuation: Charactères à supprimer\n",
    "    :type ponctuation: str\n",
    "    :returns: Texte sans les charactères et en minuscule\n",
    "    :rtype: str\n",
    "    \"\"\"\n",
    "    # Votre code ici\n",
    "    nouveau_texte = \"\"\n",
    "    for caractere in texte:\n",
    "        if caractere not in ponctuation:\n",
    "            charactere = caractere.lower()\n",
    "            nouveau_texte += charactere\n",
    "    return nouveau_texte\n",
    "\n",
    "# Le test qui vérifie tout\n",
    "texte_court = \"Les virgules, il paraît, sont superflues. Les points - au contraire - ne le sont pas!\"\n",
    "assert nettoyer_texte(texte_court, \"!,-.\") == \\\n",
    "    \"les virgules il paraît sont superflues les points  au contraire  ne le sont pas\", \\\n",
    "    \"Des caractères n'ont pas été supprimés ou transformés\""
   ]
  },
  {
   "cell_type": "markdown",
   "metadata": {},
   "source": [
    "Et maintenant, tout ensemble ! On va :\n",
    "- ouvrir le fichier `data/misanthrope.acte3.scene4.txt` et récupérer son texte,\n",
    "- on supprimera la ponctuation\n",
    "- on remplacera les apostrophes et les traits d'unions par des espaces\n",
    "- on fera des statistiques d'occurrences"
   ]
  },
  {
   "cell_type": "code",
   "execution_count": 67,
   "metadata": {},
   "outputs": [],
   "source": [
    "def separateur_de_texte(texte):\n",
    "    \"\"\" Cette fonction remplace les apostrophes et les traits d'unions par des espaces\n",
    "    \n",
    "    :param texte: Texte à nettoyer\n",
    "    :type texte: str\n",
    "    :returns: Texte simplifié\n",
    "    :rtype: str\n",
    "    \"\"\"\n",
    "    nouveau_texte = \"\"\n",
    "    ponctuation = '!@#$%^&*()_+={}[]:;\"|<>,.?/~`'\n",
    "    for caractere in texte:\n",
    "        if caractere in ponctuation:\n",
    "            nouveau_texte += caractere.replace(caractere, \"\")\n",
    "        elif caractere == \"'\" or caractere == \"-\":\n",
    "            nouveau_texte += caractere.replace(caractere, \" \")\n",
    "        else:\n",
    "            nouveau_texte += caractere\n",
    "    return nouveau_texte\n"
   ]
  },
  {
   "cell_type": "code",
   "execution_count": 79,
   "metadata": {},
   "outputs": [],
   "source": [
    "# Votre code ici\n",
    "with open('data/misanthrope.acte3.scene4.txt') as fichier_ouvert:\n",
    "    texte = fichier_ouvert.read()\n",
    "    texte_separe = separateur_de_texte(texte)\n",
    "    mots = texte_separe.split()\n",
    "    decompte={}\n",
    "    for mot in mots:\n",
    "        if mot not in decompte:\n",
    "            decompte[mot] = mots.count(mot)\n",
    "    decompte['on']\n",
    "    decompte['moi']\n",
    "    \n",
    "    \n",
    "\n",
    "# Les tests\n",
    "assert decompte[\"on\"] == 4\n",
    "assert decompte[\"moi\"] == 2"
   ]
  },
  {
   "cell_type": "markdown",
   "metadata": {},
   "source": [
    "### Aller plus loin : évaluer le temps d'une fonction\n",
    "\n",
    "**Cette partie n'est pas nécessaire pour avancer dans le cours. Cependant, il peut être intéressant de se pencher sur comment on évalue les performances d'un morceau de code**\n",
    "\n",
    "L'optimisation de code est une tâche extrêmement importante dans le développement d'une application. Par exemple, imaginons que nous offrions une possibilité de faire une recherche sans accent dans 10.000 fichiers à nos utilisateurs-rices en ligne. Chaque recherche va devoir ouvrir, convertir les fichiers en fichiers sans accents, convertir la recherche de notre utilisateur-rice. Autant dire que si votre code met plus de 20 secondes à trouver les résultats, votre utilisateur-rice ne fera pas beaucoup de recherches.\n",
    "\n",
    "Il s'agit alors de pouvoir évaluer comment une fonction se comporte et combien de temps elle peut prendre en la comparant avec une autre méthode d'écriture. Vous trouverez ci-dessous un exemple de morceau de code qui permet de comparer deux fonctions. Amusez-vous avec la variable `nombre_de_repetitions` !"
   ]
  },
  {
   "cell_type": "code",
   "execution_count": 51,
   "metadata": {},
   "outputs": [
    {
     "name": "stdout",
     "output_type": "stream",
     "text": [
      "Temps pris par la fonction 1 pour 100000 itérations : 0.8248043200001121\n",
      "Temps pris par la fonction 2 pour 100000 itérations : 0.9295966270001372\n"
     ]
    }
   ],
   "source": [
    "# Ceci est un import. Nous verrons cela plus en détails plus tard mais il s'agit d'importer \n",
    "# la chose portant le nom 'default_timer' de la librairie timeit\n",
    "from timeit import default_timer\n",
    "\n",
    "# On met en place un nombre de répétitions. Comparer une seule itération serait peu correct.\n",
    "nombre_de_repetitions = 100000\n",
    "\n",
    "# On prend l'heure à la seconde fractionnelle près\n",
    "temps_replacement_1 = default_timer()\n",
    "# On boucle sur range(10000) : range sera un generator qui créera toute les valeurs\n",
    "# entre 0 et 10000 exclu\n",
    "for intervention in range(nombre_de_repetitions):\n",
    "    # On supprime la ponctuation mais nous n'avons pas besoin du résultat donc on assigne\n",
    "    # pas celui-ci à une variable\n",
    "    supprimer_ponctuation(texte)\n",
    "# On compare l'heure qu'il est avec l'heure que l'on avait avant.\n",
    "# Cette comparaison est notre temps d'exécution\n",
    "temps_replacement_1 = default_timer() - temps_replacement_1\n",
    "\n",
    "\n",
    "temps_replacement_2 = default_timer()\n",
    "for intervention in range(nombre_de_repetitions):\n",
    "    supprimer_ponctuation2(texte)\n",
    "temps_replacement_2 = default_timer() - temps_replacement_2\n",
    "\n",
    "\n",
    "print(\"Temps pris par la fonction 1 pour \"+ str(nombre_de_repetitions) +\n",
    "      \" itérations : \" + str(temps_replacement_1))\n",
    "\n",
    "print(\"Temps pris par la fonction 2 pour \"+ str(nombre_de_repetitions) +\n",
    "      \" itérations : \" + str(temps_replacement_2))\n"
   ]
  },
  {
   "cell_type": "markdown",
   "metadata": {},
   "source": [
    "---\n",
    "\n",
    "#### Ce que l'on a appris\n",
    "\n",
    "Pour finir cette section, voici un récapitulatif des concepts appris. Lisez la liste et posez des questions si certaines choses ne sont pas claires.\n",
    "- `lower()`\n",
    "- `replace(__, __)`\n",
    "- (Aller plus loin) `range()`"
   ]
  },
  {
   "cell_type": "markdown",
   "metadata": {},
   "source": [
    "---"
   ]
  },
  {
   "cell_type": "markdown",
   "metadata": {},
   "source": [
    "## Ecrire dans un fichier"
   ]
  },
  {
   "cell_type": "markdown",
   "metadata": {},
   "source": [
    "On est arrivé loin ! Il reste bien sûr encore plein de choses à voir, mais bon... Réjouissons-nous du chemin déjà parcouru !\n",
    "\n",
    "Regardons comment écrire simplement dans un fichier:\n"
   ]
  },
  {
   "cell_type": "code",
   "execution_count": 60,
   "metadata": {},
   "outputs": [],
   "source": [
    "# On en profite pour rappeler et que les termes input et output sont très souvent utilisés\n",
    "# en programmation\n",
    "\n",
    "output = open(\"resultats/premier-resultat.txt\", mode=\"w\")\n",
    "output.write(\"Mon premier résultat.\")\n",
    "output.close()\n",
    "\n",
    "# Ou l'équivalent :\n",
    "with open(\"resultats/deuxieme-resultat.txt\", mode=\"w\") as fichier_texte:\n",
    "    fichier_texte.write(\"Mon 2eme résultat.\")\n",
    "    \n",
    "#pour écrire à la suite dans un fichier\n",
    "with open(\"resultats/deuxieme-resultat.txt\", mode=\"r\") as fichier_texte:\n",
    "    texte = fichier_texte.read() #j'ai stocké le texte dans la variable texte pour ensuite l'appeler\n",
    "with open(\"resultats/deuxieme-resultat.txt\", mode=\"w\") as fichier_texte:\n",
    "    fichier_texte.write(texte + \"Mon 2eme résultat.\")\n",
    "    \n",
    "#autre méthode : mode a écrit à la suite dans un fichier: a réécrit toujours à la fin\n",
    "with open(\"resultats/deuxieme-resultat.txt\", mode=\"a\") as fichier_texte:\n",
    "    fichier_texte.write(\"\\nMon 3eme résultat.\")"
   ]
  },
  {
   "cell_type": "markdown",
   "metadata": {},
   "source": [
    "Allez-y, ouvrez ces fichiers dans votre explorateur de fichiers. Vous verrez que les deux fichiers comportent les données ici définies.\n",
    "\n",
    "Si on regarde bien, les syntaxes sont très proches de ce que l'on avait fait auparavant pour lire. La différence ? La définition du paramètre `mode` avec la valeur `w` (pour *write*, écrire). Sinon, le reste est le même : on ouvre, on ferme ou on utilise `with` qui le fait lui-même.\n",
    "\n",
    "En fait, la lecture de fichier se fait en mode `r` pour *read* (lecture). Le type d'interaction à venir avec un fichier sera donc défini par le mode utilisé à son ouverture. Mais comment se fait-il que l'on puisse ne pas définir mode ?"
   ]
  },
  {
   "cell_type": "markdown",
   "metadata": {},
   "source": [
    "#### Les arguments optionnels ou défauts de python\n",
    "\n",
    "En fait, Python fournit pour ses arguments la possibilité de définir des valeurs par défaut à la création de la fonction, regardez plutôt :"
   ]
  },
  {
   "cell_type": "code",
   "execution_count": 61,
   "metadata": {},
   "outputs": [],
   "source": [
    "def supprimer_ponctuation(texte, ponctuation='?,.!'):\n",
    "    \"\"\" Supprimer les caractères de ponctuation d'un texte\n",
    "    \n",
    "    :param texte: Texte à nettoyer\n",
    "    :type texte: str\n",
    "    :param ponctuation: Caractères à supprimer\n",
    "    :type ponctuation: str\n",
    "    :returns: Texte sans ponctuation\n",
    "    :rtype: str\n",
    "    \"\"\"\n",
    "    for marqueur in ponctuation:\n",
    "        texte = texte.replace(marqueur, \"\")\n",
    "    return texte\n",
    "\n",
    "a_tester = \"Je. suis. fatigué. de. devoir. écrire. des. exemples, non ?\"\n",
    "assert supprimer_ponctuation(a_tester) == supprimer_ponctuation(a_tester, \"?.,\")\n",
    "assert supprimer_ponctuation(a_tester) == supprimer_ponctuation(a_tester, ponctuation=\"?.,\")\n",
    "assert supprimer_ponctuation(a_tester) != supprimer_ponctuation(a_tester, ponctuation=\",\")"
   ]
  },
  {
   "cell_type": "markdown",
   "metadata": {},
   "source": [
    "Ici, `ponctuation` a une valeur par défaut `'?,.!'`. Cela signifie que si l'on ne donne pas de valeur à cet argument, cette valeur sera fournie par la définition de la fonction.\n",
    "\n",
    "Lisez la phrase précédente jusqu'à la comprendre.\n",
    "\n",
    "Maintenant, on remarque que `ponctuation` peut-être soit utilisé en le donnant dans l'ordre original (en deuxième position) ou en utilisant son nom : Python fournit aussi pour les fonctions la possibilité d'utiliser les arguments nommés (aussi appelées arguments mots-clefs, `named argument`, `keyword argument` et en raccourci `kwargs`). Voyez plutôt :"
   ]
  },
  {
   "cell_type": "code",
   "execution_count": 62,
   "metadata": {},
   "outputs": [],
   "source": [
    "assert supprimer_ponctuation(a_tester, \",?,\") == \\\n",
    "    supprimer_ponctuation(texte=a_tester, ponctuation=\",?,\")\n",
    "assert supprimer_ponctuation(a_tester, \",?,\") == \\\n",
    "    supprimer_ponctuation(ponctuation=\",?,\", texte=a_tester)"
   ]
  },
  {
   "cell_type": "markdown",
   "metadata": {},
   "source": [
    "Relisez bien ce qui vient d'être dit, prenez le temps. Il est très important de comprendre cela avant d'avancer.\n",
    "\n",
    "---"
   ]
  },
  {
   "cell_type": "markdown",
   "metadata": {},
   "source": [
    "#### Ce que l'on a appris\n",
    "\n",
    "Pour finir cette section, voici un récapitulatif des concepts appris. Lisez la liste et posez des questions si certaines choses ne sont pas claires.\n",
    "\n",
    "- `open(_, mode=\"w\")`\n",
    "- `.write()`\n",
    "- *keyword arguments*\n",
    "- valeurs par défaut dans les fonctions\n",
    "\n",
    "---"
   ]
  },
  {
   "cell_type": "markdown",
   "metadata": {},
   "source": [
    "#### Exercice"
   ]
  },
  {
   "cell_type": "markdown",
   "metadata": {},
   "source": [
    "Dans cet exercice final, on va vous demander de calculer la distribution totale des mots dans l'intégralité d'*Horace* de Corneille. Le texte a été copié depuis le projet Théâtre Classique ( http://www.theatre-classique.fr/pages/programmes/edition.php?t=..%2Fdocuments%2FCORNEILLEP_HORACE.xml )"
   ]
  },
  {
   "cell_type": "code",
   "execution_count": 92,
   "metadata": {},
   "outputs": [
    {
     "name": "stdout",
     "output_type": "stream",
     "text": [
      "{'approuvez': 1, 'ma': 103, 'faiblesse': 12, 'et': 482, 'souffrez': 9, 'douleur': 12, 'elle': 67, 'n': 113, 'est': 166, 'que': 251, 'trop': 39, 'juste': 10, 'en': 258, 'un': 289, 'si': 150, 'grand': 23, 'malheur': 16, 'près': 7, 'de': 471, 'voir': 35, 'sur': 28, 'soi': 2, 'fondre': 1, 'tels': 8, 'orages': 1, 'l': 279, 'ébranlement': 1, 'sied': 2, 'bien': 54, 'aux': 63, 'plus': 115, 'fermes': 2, 'courages': 1, 'esprit': 12, 'le': 245, 'mâle': 3, 'moins': 42, 'abattu': 2, 'ne': 158, 'saurait': 5, 'sans': 60, 'désordre': 1, 'exercer': 1, 'sa': 97, 'vertu': 34, 'quoique': 5, 'mien': 4, 's': 73, 'étonne': 2, 'à': 252, 'ces': 38, 'rudes': 5, 'alarmes': 2, 'trouble': 4, 'mon': 115, 'coeur': 30, 'peut': 27, 'rien': 29, 'mes': 53, 'larmes': 14, 'parmi': 4, 'les': 157, 'soupirs': 9, 'qu': 226, 'il': 186, 'pousse': 1, 'vers': 5, 'cieux': 3, 'constance': 8, 'du': 56, 'règne': 2, 'encore': 40, 'yeux': 23, 'quand': 36, 'on': 85, 'arrête': 4, 'là': 6, 'déplaisirs': 5, 'd': 261, 'une': 107, 'âme': 28, 'fait': 69, 'homme': 12, 'femme': 18, 'commander': 2, 'ses': 54, 'pleurs': 26, 'cette': 29, 'extrémité': 2, 'c': 56, 'montrer': 6, 'pour': 179, 'sexe': 1, 'assez': 23, 'fermeté': 5, 'peutêtre': 3, 'commune': 2, 'qui': 114, 'moindre': 4, 'péril': 2, 'se': 51, 'infortune': 2, 'mais': 80, 'honteux': 2, 'ose': 9, 'espérer': 4, 'tout': 53, 'dans': 61, 'succès': 8, 'douteux': 2, 'deux': 44, 'camps': 6, 'sont': 39, 'rangés': 1, 'au': 55, 'pied': 3, 'nos': 63, 'murailles': 2, 'rome': 68, 'ignore': 2, 'comme': 38, 'perd': 4, 'des': 130, 'batailles': 1, 'loin': 7, 'trembler': 3, 'lui': 48, 'faut': 28, 'applaudir': 2, 'puisqu': 5, 'va': 10, 'combattre': 6, 'agrandir': 1, 'bannissez': 2, 'frayeur': 2, 'vaine': 1, 'concevez': 1, 'voeux': 19, 'dignes': 4, 'romaine': 6, 'je': 223, 'suis': 23, 'hélas': 7, 'puisque': 13, 'époux': 23, 'hymen': 10, 'me': 70, 'embrasser': 5, 'intérêt': 8, 'tiendrait': 1, 'esclave': 5, 'enchaînée': 1, 'm': 68, 'ôtait': 1, 'penser': 5, 'lieux': 6, 'où': 23, 'née': 1, 'albe': 36, 'j': 76, 'ai': 44, 'commencé': 1, 'respirer': 1, 'jour': 19, 'cher': 8, 'pays': 22, 'premier': 8, 'amour': 31, 'entre': 10, 'nous': 96, 'toi': 11, 'vois': 13, 'la': 231, 'guerre': 12, 'ouverte': 2, 'crains': 3, 'notre': 39, 'victoire': 19, 'autant': 14, 'perte': 10, 'tu': 38, 'te': 21, 'plains': 9, 'trahir': 1, 'faistoi': 2, 'ennemis': 9, 'puisse': 5, 'haïr': 7, 'tes': 30, 'murs': 8, 'leur': 60, 'armée': 6, 'nôtre': 3, 'trois': 29, 'frères': 26, 'mari': 9, 'autre': 43, 'puisje': 2, 'former': 4, 'impiété': 3, 'importuner': 1, 'ciel': 24, 'ta': 29, 'félicité': 2, 'sais': 5, 'ton': 37, 'état': 15, 'naissance': 6, 'affermir': 2, 'puissance': 4, 'doit': 15, 'accroître': 1, 'grands': 13, 'destins': 5, 'borneront': 1, 'pas': 51, 'chez': 4, 'peuples': 3, 'latins': 1, 'dieux': 33, 't': 27, 'ont': 32, 'promis': 4, 'empire': 5, 'terre': 6, 'peux': 2, 'effet': 9, 'par': 79, 'opposer': 2, 'noble': 6, 'ardeur': 9, 'suit': 4, 'arrêt': 5, 'court': 1, 'grandeur': 1, 'voudrais': 2, 'déjà': 13, 'troupes': 2, 'couronnées': 1, 'victorieux': 4, 'franchir': 1, 'pyrénées': 1, 'jusqu': 6, 'orient': 2, 'pousser': 1, 'bataillons': 1, 'bords': 1, 'rhin': 1, 'planter': 1, 'pavillons': 1, 'fais': 7, 'sous': 7, 'colonnes': 1, 'hercule': 1, 'respecte': 2, 'ville': 3, 'dois': 14, 'romule': 2, 'ingrate': 1, 'souvienstoi': 1, 'sang': 48, 'rois': 8, 'tiens': 5, 'nom': 12, 'premières': 1, 'lois': 9, 'origine': 1, 'considère': 3, 'portes': 1, 'fer': 2, 'sein': 1, 'mère': 1, 'tourne': 1, 'ailleurs': 5, 'efforts': 3, 'bras': 22, 'triomphants': 1, 'joie': 16, 'éclatera': 1, 'heur': 4, 'enfants': 5, 'laissant': 2, 'ravir': 1, 'maternelle': 1, 'seront': 1, 'es': 3, 'contre': 27, 'ce': 152, 'discours': 7, 'surprend': 3, 'vu': 23, 'depuis': 3, 'temps': 9, 'a': 82, 'son': 73, 'peuple': 5, 'armé': 1, 'combattants': 5, 'vous': 219, 'indifférence': 1, 'dedans': 2, 'aviez': 3, 'pris': 5, 'admirais': 1, 'réduisait': 1, 'vos': 58, 'chers': 2, 'intérêts': 6, 'ceux': 10, 'votre': 37, 'consolais': 1, 'milieu': 4, 'plaintes': 4, 'eût': 8, 'toutes': 10, 'craintes': 3, 'tant': 27, 'choqué': 1, 'légers': 1, 'combats': 3, 'faibles': 4, 'jeter': 1, 'partis': 3, 'bas': 2, 'espoir': 7, 'paix': 14, 'pu': 7, 'flatter': 1, 'peine': 9, 'oui': 5, 'vanité': 3, 'être': 20, 'toute': 19, 'heureuse': 2, 'avec': 36, 'quelque': 20, 'regret': 3, 'soudain': 5, 'condamné': 1, 'mouvement': 4, 'secret': 3, 'ressenti': 1, 'contraires': 3, 'maligne': 1, 'faveur': 6, 'étouffer': 4, 'rappelant': 1, 'raison': 8, 'pleuré': 1, 'gloire': 35, 'entrait': 1, 'maison': 10, 'aujourd': 15, 'hui': 15, 'ou': 52, 'tombe': 4, 'devienne': 1, 'succombe': 3, 'après': 20, 'bataille': 9, 'demeure': 2, 'ni': 23, 'obstacle': 3, 'vainqueurs': 9, 'vaincus': 6, 'aurais': 3, 'cruelle': 2, 'haine': 9, 'pouvais': 2, 'demandais': 1, 'triomphe': 8, 'prix': 8, 'précieux': 2, 'attache': 5, 'peu': 32, 'point': 93, 'dernier': 6, 'effort': 8, 'serai': 2, 'parti': 7, 'affligera': 1, 'sort': 27, 'égale': 5, 'tous': 46, 'jusques': 3, 'prendrai': 1, 'part': 9, 'maux': 9, 'prendre': 8, 'garde': 5, 'attendant': 2, 'funeses': 1, 'rigueurs': 2, 'voit': 13, 'naître': 6, 'souvent': 5, 'pareilles': 2, 'traverses': 2, 'esprits': 3, 'divers': 2, 'passions': 1, 'diverses': 2, 'camille': 15, 'agit': 4, 'autrement': 4, 'frère': 24, 'vôtre': 6, 'amant': 20, 'oeil': 5, 'différent': 1, 'lorsque': 1, 'conserviez': 1, 'romain': 10, 'sien': 3, 'irrésolu': 1, 'tremblotant': 1, 'incertain': 1, 'mêlée': 1, 'appréhendait': 1, 'orage': 2, 'détestait': 1, 'avantage': 3, 'donnait': 1, 'toujours': 13, 'nourrissait': 1, 'ainsi': 16, 'éternelles': 1, 'douleurs': 9, 'hier': 7, 'sut': 1, 'avait': 6, 'journée': 3, 'enfin': 20, 'allait': 1, 'donnée': 1, 'soudaine': 1, 'éclatant': 3, 'front': 7, 'ah': 6, 'julie': 7, 'changement': 1, 'prompt': 2, 'belle': 7, 'humeur': 2, 'entretint': 1, 'valère': 27, 'rival': 2, 'doute': 3, 'quitte': 3, 'ébranlé': 1, 'objets': 2, 'présents': 1, 'trouve': 6, 'absent': 1, 'aimable': 1, 'ans': 2, 'excusez': 1, 'fraternelle': 1, 'soin': 4, 'craindre': 13, 'forme': 2, 'soupçons': 1, 'sujet': 5, 'léger': 1, 'mal': 13, 'propre': 3, 'changer': 3, 'nouveau': 2, 'trait': 1, 'alors': 10, 'âmes': 5, 'blessées': 1, 'autres': 12, 'pensées': 2, 'aussi': 11, 'gais': 1, 'entretiens': 1, 'contentements': 1, 'soient': 7, 'pareils': 6, 'siens': 5, 'causes': 1, 'semblent': 2, 'fort': 9, 'obscures': 1, 'satisfais': 1, 'aucunes': 1, 'conjectures': 1, 'danger': 1, 'attendre': 5, 'affliger': 1, 'certes': 2, 'aller': 4, 'voyez': 4, 'bon': 15, 'génie': 1, 'propos': 2, 'envoie': 6, 'essayez': 1, 'faire': 27, 'parler': 3, 'aime': 17, 'celer': 2, 'laisse': 8, 'soeur': 45, 'entretenez': 1, 'honte': 14, 'mélancolie': 1, 'accablé': 1, 'mille': 11, 'cherche': 4, 'solitude': 1, 'cacher': 2, 'pourquoi': 6, 'fuir': 1, 'vouloir': 10, 'entretienne': 1, 'croitelle': 1, 'vive': 1, 'sienne': 2, 'insensible': 3, 'malheurs': 10, 'tristes': 3, 'mêle': 4, 'frayeurs': 2, 'alarmée': 1, 'perdrai': 1, 'verrai': 2, 'unique': 5, 'mourir': 9, 'détruire': 2, 'cet': 10, 'objet': 6, 'devenir': 3, 'digne': 17, 'pourtant': 4, 'plaindre': 9, 'non': 25, 'oubliez': 1, 'curiace': 13, 'recevez': 5, 'tremblerez': 1, 'contraire': 8, 'serez': 2, 'remis': 2, 'aura': 4, 'perdre': 3, 'camp': 3, 'donnezmoi': 1, 'conseils': 1, 'légitimes': 3, 'plaignez': 2, 'ordonner': 1, 'crimes': 7, 'quoiqu': 1, 'résister': 3, 'mieux': 22, 'souffrir': 8, 'mériter': 2, 'quoi': 19, 'appelez': 1, 'crime': 22, 'change': 2, 'raisonnable': 1, 'manque': 4, 'foi': 3, 'semble': 3, 'pardonnable': 1, 'envers': 2, 'ennemi': 7, 'obliger': 1, 'serment': 1, 'solennel': 1, 'dégager': 1, 'déguisez': 1, 'vain': 8, 'chose': 4, 'claire': 1, 'vis': 7, 'entretenir': 2, 'accueil': 3, 'gracieux': 1, 'recevait': 1, 'permet': 1, 'nourrir': 2, 'doux': 14, 'entretins': 1, 'fis': 1, 'visage': 2, 'imaginez': 1, 'désavantage': 1, 'contentement': 2, 'était': 9, 'sortir': 3, 'erreur': 7, 'sachezen': 1, 'amitié': 7, 'pure': 1, 'longtemps': 3, 'estime': 5, 'parjure': 1, 'quelques': 3, 'cinq': 1, 'six': 2, 'mois': 1, 'hymenée': 1, 'rendu': 5, 'possesseur': 1, 'savez': 3, 'obtint': 1, 'père': 23, 'chastes': 1, 'feux': 4, 'serais': 3, 'salaire': 1, 'fut': 4, 'propice': 2, 'funeste': 7, 'fois': 10, 'unissant': 1, 'maisons': 2, 'désunit': 1, 'même': 25, 'instant': 2, 'conclut': 1, 'fit': 2, 'jeta': 1, 'ôta': 1, 'sitôt': 3, 'eut': 2, 'faisant': 4, 'amants': 2, 'combien': 5, 'parurent': 1, 'lors': 2, 'extrêmes': 2, 'vomit': 1, 'blasphèmes': 1, 'ruisseaux': 1, 'coulèrent': 1, 'dis': 3, 'vîtes': 1, 'adieux': 1, 'avez': 9, 'troubles': 1, 'quels': 10, 'faits': 4, 'flamme': 5, 'versés': 1, 'chaque': 5, 'événement': 2, 'tantôt': 3, 'désespoir': 7, 'longs': 1, 'obstacles': 2, 'avoir': 10, 'recours': 1, 'voix': 12, 'oracles': 2, 'écoutez': 4, 'celui': 3, 'droit': 5, 'rassurer': 1, 'éperdu': 1, 'grec': 1, 'renommé': 1, 'années': 1, 'aventin': 1, 'prédit': 1, 'destinées': 1, 'apollon': 1, 'jamais': 12, 'faux': 3, 'promit': 1, 'fin': 4, 'travaux': 1, '«': 4, 'demain': 5, 'prendront': 1, 'face': 3, 'exaucés': 2, 'elles': 7, 'auront': 4, 'seras': 1, 'unie': 2, 'aucun': 5, 'mauvais': 5, 'sépare': 3, '»': 4, 'oracle': 4, 'entière': 6, 'assurance': 4, 'passait': 1, 'espérance': 3, 'abandonnai': 1, 'ravissements': 1, 'passaient': 1, 'transports': 1, 'heureux': 7, 'jugez': 1, 'excès': 3, 'rencontrai': 1, 'coutume': 1, 'put': 1, 'déplaire': 3, 'parla': 1, 'donner': 6, 'ennui': 2, 'aperçus': 1, 'parlais': 1, 'pus': 1, 'mépris': 1, 'glace': 1, 'voyais': 1, 'semblait': 4, 'disait': 1, 'parlait': 1, 'disais': 1, 'assurait': 1, 'combat': 18, 'général': 2, 'hasarde': 1, 'sus': 2, 'nouvelle': 6, 'y': 23, 'rejetait': 1, 'funestes': 3, 'charmé': 1, 'pensers': 1, 'nuit': 1, 'dissipé': 1, 'erreurs': 1, 'charmantes': 1, 'songes': 1, 'affreux': 2, 'images': 2, 'sanglantes': 1, 'plutôt': 8, 'amas': 1, 'carnage': 1, 'horreur': 9, 'arraché': 1, 'terreur': 3, 'morts': 11, 'suite': 2, 'spectre': 1, 'paraissant': 1, 'prenait': 1, 'fuite': 9, 'ils': 27, 'effaçaient': 1, 'illusion': 2, 'redoublait': 1, 'effroi': 2, 'confusion': 3, 'sens': 5, 'songe': 6, 'interprète': 1, 'croire': 4, 'souhaite': 1, 'malgré': 5, 'souhaits': 4, 'finit': 2, 'succède': 2, 'dure': 1, 'remède': 2, 'soit': 10, 'ait': 6, 'dessous': 2, 'attends': 1, 'feu': 1, 'consomme': 1, 'veut': 21, 'vainqueur': 15, 'quel': 18, 'présente': 1, 'estce': 4, 'croiraije': 1, 'doutez': 1, 'revoyez': 1, 'cessez': 1, 'appréhender': 1, 'rougir': 3, 'mains': 19, 'poids': 1, 'fers': 2, 'romains': 9, 'cru': 5, 'aimiez': 1, 'mépriser': 1, 'chaîne': 2, 'également': 1, 'craignais': 1, 'captivité': 1, 'suffit': 2, 'devine': 1, 'reste': 11, 'fuis': 1, 'moi': 29, 'dérobe': 1, 'secours': 6, 'ici': 15, 'renommée': 6, 'blâme': 2, 'aimée': 2, 'mésestimer': 1, 'paraît': 3, 'aimer': 12, 'beaucoup': 12, 'quittes': 1, 'paraître': 5, 'astu': 1, 'peutil': 1, 'endurer': 2, 'oses': 2, 'retirer': 1, 'préfèretil': 1, 'famille': 7, 'regardetil': 1, 'fille': 9, 'bonheur': 12, 'estil': 2, 'affermi': 1, 'atil': 1, 'gendre': 5, 'tendresse': 3, 'témoignait': 1, 'allégresse': 4, 'trahison': 1, 'indigne': 6, 'honneur': 38, 'entrer': 3, 'abandonne': 1, 'adorant': 1, 'duré': 2, 'constamment': 2, 'citoyen': 1, 'véritable': 5, 'accordais': 1, 'querelle': 4, 'soupirais': 1, 'combattant': 1, 'fallait': 1, 'vînt': 1, 'coups': 13, 'combattrais': 1, 'soupirant': 1, 'désirs': 6, 'charmée': 1, 'durait': 1, 'donne': 8, 'libre': 3, 'accès': 2, 'doivent': 4, 'beau': 9, 'moyen': 1, 'tel': 17, 'miracle': 2, 'croyezen': 1, 'sachons': 2, 'pleinement': 1, 'effets': 6, 'heure': 2, 'produit': 5, 'auraiton': 1, 'armées': 1, 'chaleur': 2, 'animées': 1, 'menaçaient': 1, 'marchant': 1, 'fièrement': 1, 'attendaient': 1, 'commandement': 2, 'dictateur': 2, 'devant': 2, 'rangs': 2, 'avance': 2, 'demande': 10, 'prince': 4, 'moment': 11, 'silence': 1, 'ayant': 2, 'obtenu': 1, 'faisonsnous': 1, 'ditil': 3, 'démon': 1, 'venir': 3, 'souffrons': 2, 'éclaire': 1, 'sommes': 7, 'voisins': 3, 'filles': 2, 'femmes': 4, 'joints': 1, 'noeuds': 6, 'fils': 14, 'neveux': 1, 'villes': 1, 'déchirer': 1, 'guerres': 1, 'civiles': 1, 'mort': 36, 'affaiblit': 1, 'arrosé': 1, 'communs': 2, 'attendent': 2, 'défait': 1, 'proie': 1, 'lassé': 1, 'demirompu': 1, 'fruit': 1, 'dénué': 1, 'luimême': 4, 'détruit': 3, 'joui': 1, 'divorces': 1, 'eux': 25, 'dorénavant': 2, 'joignons': 1, 'forces': 3, 'noyons': 1, 'oubli': 1, 'petits': 1, 'différends': 1, 'bons': 3, 'guerriers': 6, 'font': 8, 'parents': 6, 'ambition': 3, 'marcher': 1, 'nôtres': 4, 'pourvu': 1, 'voulions': 1, 'apaiser': 3, 'unira': 1, 'diviser': 1, 'nommons': 1, 'cause': 7, 'fortune': 2, 'suivant': 2, 'ordonnera': 1, 'faible': 4, 'obéisse': 1, 'indignité': 1, 'braves': 1, 'deviennent': 1, 'sujets': 5, 'esclaves': 1, 'tribut': 1, 'rigueur': 4, 'suivre': 5, 'drapeaux': 1, 'états': 4, 'feront': 1, 'mots': 3, 'tait': 2, 'aise': 1, 'chacun': 9, 'soupire': 2, 'jetant': 1, 'rang': 5, 'reconnaît': 1, 'beaufrère': 5, 'cousin': 1, 'ami': 2, 'étonnent': 2, 'comment': 2, 'leurs': 27, 'avides': 1, 'volaient': 1, 'parricides': 1, 'couvert': 4, 'choix': 19, 'offre': 3, 'accepte': 2, 'désirée': 1, 'conditions': 1, 'aussitôt': 2, 'jurée': 2, 'combattront': 2, 'choisir': 6, 'chefs': 3, 'voulu': 4, 'loisir': 1, 'sénat': 1, 'tente': 1, 'ô': 17, 'rend': 4, 'contente': 1, 'heures': 1, 'commun': 2, 'accord': 2, 'réglera': 1, 'cependant': 3, 'nomme': 3, 'côté': 1, 'étant': 3, 'permis': 3, 'renouer': 1, 'vieux': 1, 'amis': 3, 'passion': 2, 'eu': 1, 'prospères': 1, 'auteur': 3, 'jours': 6, 'pareil': 6, 'main': 25, 'deviendrez': 1, 'rebelle': 1, 'devoir': 12, 'obéissance': 1, 'venez': 2, 'donc': 15, 'recevoir': 3, 'mettre': 5, 'comble': 1, 'vais': 5, 'revoir': 2, 'savoir': 4, 'misères': 4, 'allez': 5, 'autels': 1, 'irai': 1, 'rendre': 7, 'grâces': 3, 'immortels': 3, 'séparé': 1, 'illégitime': 1, 'superbe': 1, 'préfère': 2, 'opposant': 1, 'vôtres': 3, 'seule': 6, 'brave': 2, 'croirons': 1, 'hors': 7, 'horace': 45, 'pouvait': 3, 'combler': 1, 'familles': 1, 'consacrer': 1, 'hautement': 3, 'noms': 5, 'mémoire': 4, 'reçoit': 5, 'titre': 2, 'immortaliser': 1, 'placer': 1, 'puis': 9, 'tient': 3, 'contrainte': 2, 'douceurs': 2, 'crainte': 2, 'éclat': 5, 'mis': 2, 'valeur': 6, 'tremble': 1, 'prévois': 1, 'combattez': 1, 'assurée': 1, 'nommer': 4, 'destin': 4, 'projets': 2, 'compte': 3, 'rejette': 1, 'aveuglement': 1, 'fatal': 1, 'pouvaient': 1, 'soutenir': 2, 'promette': 1, 'cercueil': 1, 'enfle': 2, 'orgueil': 2, 'conçoit': 1, 'vaillance': 2, 'envieux': 1, 'ravie': 1, 'remplira': 1, 'attente': 3, 'quittera': 1, 'vie': 14, 'vaincre': 4, 'vaincu': 3, 'rarement': 3, 'périt': 1, 'malaisément': 1, 'sera': 6, 'sujette': 5, 'derniers': 2, 'assurent': 2, 'défaite': 3, 'plaint': 1, 'craint': 3, 'dures': 2, 'extrémités': 1, 'asservie': 5, 'chère': 5, 'tendent': 1, 'achète': 1, 'seulement': 3, 'côtés': 2, 'répandre': 5, 'trahis': 4, 'pleureriez': 1, 'mourant': 2, 'généreux': 8, 'trépas': 11, 'charmes': 3, 'souffre': 5, 'recevrais': 1, 'bénissant': 1, 'perdaient': 1, 'permettez': 4, 'seuls': 3, 'immortel': 1, 'malheureux': 3, 'fidèle': 1, 'flavian': 1, 'apporte': 2, 'atelle': 1, 'viens': 8, 'apprendre': 2, 'eh': 1, 'triste': 8, 'regards': 2, 'sévères': 2, 'déplaîtil': 1, 'estimais': 1, 'diraije': 2, 'dont': 16, 'ordre': 4, 'morne': 1, 'froid': 1, 'tour': 3, 'dislui': 1, 'alliance': 3, 'pourront': 3, 'empêcher': 1, 'curiaces': 6, 'servent': 1, 'horaces': 3, 'dire': 3, 'portelui': 1, 'réponse': 1, 'repos': 1, 'désormais': 3, 'enfers': 2, 'unissent': 1, 'fureurs': 1, 'hommes': 4, 'démons': 2, 'préparent': 1, 'mets': 1, 'pis': 1, 'cruel': 5, 'horrible': 1, 'ouvre': 3, 'barrière': 1, 'illustre': 8, 'matière': 2, 'épuise': 2, 'force': 7, 'mesurer': 2, 'prend': 9, 'communes': 1, 'fortunes': 1, 'salut': 2, 'inconnu': 1, 'exposer': 1, 'seul': 13, 'simple': 1, 'ordinaire': 2, 'pourraient': 2, 'briguerait': 1, 'foule': 1, 'public': 7, 'immoler': 5, 'attacher': 1, 'soimême': 2, 'attaquer': 2, 'défenseur': 2, 'rompant': 1, 'armer': 1, 'patrie': 6, 'voudrait': 1, 'racheter': 1, 'telle': 8, 'appartenait': 1, 'jaloux': 3, 'imprimée': 1, 'oser': 1, 'aspirer': 2, 'vrai': 1, 'sauraient': 1, 'périr': 2, 'occasion': 6, 'chérir': 1, 'serons': 1, 'miroirs': 1, 'rare': 6, 'barbare': 5, 'coeurs': 7, 'tireraient': 1, 'chemin': 2, 'immortalité': 1, 'mette': 1, 'fumée': 2, 'obscurité': 2, 'vaut': 2, 'consulté': 1, 'longue': 1, 'balance': 1, 'montre': 2, 'crois': 3, 'consiste': 1, 'percer': 2, 'flanc': 3, 'épouser': 1, 'tuer': 1, 'coure': 1, 'effarouche': 1, 'frémis': 2, 'pitié': 10, 'moimême': 3, 'jette': 3, 'envie': 2, 'consumé': 1, 'souhait': 2, 'toutefois': 2, 'pouvoir': 8, 'reculer': 1, 'fier': 1, 'émeut': 3, 'ébranler': 2, 'ôte': 3, 'haute': 6, 'rends': 3, 'conserver': 4, 'humain': 2, 'êtes': 6, 'soyez': 1, 'égalez': 1, 'faitesle': 1, 'solide': 2, 'admet': 1, 'carrière': 1, 'dès': 2, 'regarder': 4, 'arrière': 1, 'haut': 5, 'envisage': 1, 'entier': 2, 'emploie': 1, 'aveuglément': 1, 'celle': 4, 'commandements': 1, 'sentiments': 11, 'servir': 4, 'lâchement': 1, 'dispose': 3, 'saint': 2, 'sacré': 1, 'rompt': 2, 'lien': 2, 'choisi': 1, 'examine': 2, 'pleine': 3, 'sincère': 1, 'épousai': 1, 'combattrai': 1, 'trancher': 2, 'superflus': 2, 'nommé': 1, 'connais': 5, 'tue': 3, 'âpre': 1, 'connue': 1, 'admire': 2, 'imite': 1, 'embrassez': 1, 'trouvez': 1, 'charme': 3, 'plainte': 1, 'liberté': 1, 'goûtez': 1, 'voici': 3, 'résoudre': 1, 'ressouvenir': 1, 'meurs': 1, 'avezvous': 1, 'su': 4, 'changé': 1, 'armezvous': 1, 'montrezvous': 1, 'retourne': 2, 'meurtrier': 1, 'sert': 1, 'sait': 5, 'vivais': 1, 'achevez': 1, 'hyménée': 4, 'tranche': 1, 'destinée': 2, 'faites': 4, 'traitement': 1, 'reprochez': 1, 'vont': 2, 'couler': 2, 'presse': 4, 'consommez': 1, 'querellez': 1, 'maudissez': 1, 'pensez': 3, 'laisserai': 1, 'irons': 1, 'ensemble': 3, 'appelle': 1, 'irastu': 1, 'plaîtil': 1, 'dépens': 4, 'fasse': 4, 'supplice': 6, 'emploi': 1, 'maudis': 1, 'hais': 4, 'passe': 2, 'quereller': 1, 'veux': 13, 'prie': 1, 'excuse': 3, 'fameux': 3, 'exploits': 7, 'reçu': 3, 'soutenu': 1, 'croître': 2, 'ennoblir': 1, 'ceigne': 1, 'tête': 3, 'lauriers': 8, 'apprête': 1, 'reproche': 4, 'aurait': 3, 'triomphé': 1, 'avais': 2, 'combattu': 2, 'endormie': 1, 'couronne': 1, 'infamie': 3, 'succomberas': 1, 'vaincras': 1, 'as': 2, 'commis': 1, 'rendrai': 1, 'vivrai': 1, 'finirai': 1, 'avant': 5, 'priver': 1, 'toimême': 1, 'misère': 1, 'douceur': 2, 'jadis': 1, 'viendrastu': 1, 'présenter': 2, 'demander': 3, 'conquête': 1, 'pleurez': 6, 'pleure': 5, 'ordonne': 1, 'meure': 2, 'allume': 1, 'flambeau': 2, 'éteint': 1, 'ouvrir': 1, 'tombeau': 3, 'impitoyable': 2, 'obstine': 3, 'dit': 3, 'assassine': 1, 'amante': 5, 'puissants': 1, 'bel': 1, 'attendrit': 1, 'vue': 4, 'évertue': 1, 'attaquez': 1, 'avecque': 2, 'laissezmoi': 1, 'sauver': 2, 'chancelle': 1, 'défend': 3, 'place': 5, 'vaincraitelle': 1, 'aimez': 1, 'versez': 1, 'oppose': 2, 'offense': 3, 'fortes': 2, 'armes': 8, 'défendrai': 1, 'courroux': 2, 'vengezvous': 1, 'ingrat': 2, 'punissez': 2, 'volage': 1, 'montrez': 2, 'sensible': 1, 'outrage': 3, 'fautil': 3, 'renonce': 3, 'rigoureuse': 1, 'victime': 3, 'peuxtu': 1, 'atteste': 3, 'lieu': 9, 'aimerai': 1, 'chérirai': 1, 'perfide': 1, 'cesse': 4, 'fratricide': 1, 'suisje': 1, 'estu': 2, 'préparerais': 1, 'encouragerais': 1, 'distraire': 1, 'traiterais': 1, 'étais': 2, 'aveugle': 2, 'revient': 1, 'sabine': 14, 'joignezvous': 1, 'courage': 8, 'amenezvous': 1, 'chercher': 3, 'adieu': 5, 'craignez': 1, 'lâche': 5, 'fâche': 3, 'ébranlait': 2, 'désavouerais': 1, 'pourraisje': 1, 'prière': 1, 'coup': 7, 'ôter': 2, 'attend': 2, 'pureté': 2, 'mélange': 1, 'noeud': 1, 'joint': 2, 'brisez': 1, 'rompezen': 1, 'achetez': 1, 'obéir': 3, 'venge': 2, 'étrange': 3, 'agresseur': 1, 'venger': 4, 'souilleriez': 1, 'animiez': 1, 'zèle': 4, 'soins': 3, 'feriez': 1, 'étiez': 1, 'différez': 1, 'devez': 2, 'commencez': 3, 'vies': 1, 'sacrifice': 5, 'chères': 2, 'patries': 1, 'réservezvous': 1, 'appareil': 1, 'pompeuse': 1, 'fumer': 2, 'aurai': 3, 'chéri': 1, 'pourraije': 2, 'régler': 1, 'satisfaire': 2, 'devoirs': 2, 'pleurant': 1, 'vécu': 4, 'préviendra': 1, 'obtienne': 2, 'refus': 3, 'condamne': 1, 'mienne': 2, 'retient': 1, 'inhumains': 2, 'moyens': 4, 'forcer': 1, 'aurez': 1, 'occupées': 1, 'corps': 2, 'épées': 2, 'faudra': 2, 'fassent': 1, 'jusque': 1, 'amollissent': 1, 'poussez': 1, 'visages': 1, 'pâlissent': 1, 'quelle': 11, 'peur': 4, 'saisit': 1, 'sontce': 1, 'héros': 3, 'défenseurs': 1, 'aije': 2, 'oblige': 1, 'vengeance': 3, 'vienstu': 1, 'contentetoi': 1, 'étonnée': 1, 'achever': 2, 'grande': 2, 'réduire': 2, 'triompher': 7, 'vat': 1, 'douteuse': 1, 'dispute': 1, 'honteuse': 3, 'termine': 1, 'vient': 8, 'vieil': 30, 'estceci': 1, 'écoutezvous': 1, 'flammes': 2, 'perdezvous': 1, 'prêts': 3, 'verser': 2, 'regardezvous': 1, 'fuyez': 1, 'laissezles': 1, 'déplorer': 1, 'art': 3, 'feraient': 1, 'fuyant': 1, 'pare': 1, 'appréhendez': 1, 'souhaitez': 1, 'laissons': 2, 'allons': 3, 'perdons': 1, 'vertus': 3, 'recourir': 1, 'tigres': 1, 'retenez': 1, 'emportent': 1, 'grâce': 5, 'empêchez': 1, 'surtout': 1, 'sortent': 1, 'importun': 1, 'viendrait': 1, 'cris': 3, 'troubler': 1, 'ferait': 1, 'justice': 7, 'imputerait': 1, 'artifice': 3, 'serait': 4, 'acheté': 1, 'soupçonnait': 1, 'lâcheté': 4, 'demandent': 2, 'compliments': 1, 'attendrissez': 1, 'encourager': 1, 'termes': 1, 'laissez': 2, 'prenons': 3, 'telles': 1, 'disgrâces': 1, 'soyons': 3, 'cessons': 1, 'partager': 1, 'inutiles': 1, 'souhaitons': 1, 'craignons': 2, 'las': 2, 'nature': 3, 'parle': 2, 'loi': 5, 'hauts': 2, 'réglons': 1, 'regardons': 2, 'souverain': 2, 'imitons': 1, 'menace': 1, 'appelons': 1, 'songeons': 1, 'quelles': 1, 'revoyons': 1, 'considérer': 2, 'élève': 3, 'faisons': 1, 'forts': 2, 'liens': 3, 'miens': 6, 'trouvé': 1, 'tirer': 2, 'flatteuse': 1, 'douce': 1, 'grossière': 1, 'impuissante': 1, 'lumière': 1, 'brillant': 1, 'éblouir': 1, 'durer': 2, 'tôt': 1, 'évanouir': 1, 'pareille': 3, 'éclairs': 1, 'ombres': 1, 'poussent': 1, 'fuit': 3, 'nuits': 1, 'sombres': 1, 'frappé': 1, 'clarté': 1, 'abîmer': 1, 'charmais': 1, 'vend': 1, 'relâche': 1, 'percé': 2, 'ôtent': 1, 'maintenant': 2, 'propose': 1, 'touche': 5, 'souhaitée': 1, 'favorables': 1, 'écoutée': 2, 'foudres': 1, 'lancezvous': 1, 'irritez': 2, 'faveurs': 1, 'cruautés': 1, 'façon': 3, 'punissezvous': 1, 'traitez': 1, 'innocence': 1, 'apportezvous': 1, 'impies': 1, 'hosties': 1, 'enviant': 1, 'étaient': 1, 'condamnée': 1, 'passé': 2, 'ignorez': 1, 'étonner': 1, 'savezvous': 1, 'prison': 1, 'renferme': 1, 'cela': 3, 'serions': 1, 'désespoirs': 1, 'chaste': 2, 'aurions': 2, 'tiré': 1, 'besoin': 3, 'tendre': 1, 'spectacle': 3, 'paru': 1, 'entendu': 1, 'murmurer': 1, 'personnes': 3, 'proches': 1, 'mortelles': 2, 'approches': 1, 'saisi': 1, 'fureur': 2, 'porte': 4, 'sacrilège': 2, 'brutale': 2, 'accusent': 1, 'détestent': 1, 'pouvant': 1, 'écrie': 1, 'encens': 2, 'exaucez': 1, 'pouvez': 4, 'garantir': 5, 'cruels': 2, 'peuvent': 4, 'consentir': 1, 'précieuse': 1, 'tellement': 1, 'ambitieuse': 1, 'déplore': 2, 'estiment': 1, 'prennent': 2, 'affront': 5, 'souille': 1, 'mourront': 1, 'séparés': 1, 'quitter': 2, 'honneurs': 5, 'déférés': 1, 'dureté': 1, 'obstinent': 1, 'mutinent': 1, 'parts': 1, 'poussés': 1, 'présence': 2, 'respectée': 1, 'roi': 15, 'échauffe': 1, 'discord': 1, 'consultons': 1, 'majesté': 3, 'sacrée': 1, 'voyons': 2, 'bontés': 1, 'agrée': 1, 'impie': 2, 'osera': 1, 'lorsqu': 6, 'arrachent': 1, 'désir': 1, 'ferme': 1, 'bouillante': 1, 'cède': 3, 'avis': 2, 'tulle': 2, 'déférence': 1, 'scrupule': 1, 'connaissaient': 1, 'apprendra': 1, 'victimes': 1, 'avoueront': 1, 'plein': 1, 'espère': 4, 'différé': 1, 'commence': 3, 'désiré': 1, 'dise': 1, 'bonne': 3, 'pense': 1, 'dite': 1, 'conçois': 1, 'flatte': 1, 'délai': 1, 'rendra': 1, 'long': 2, 'terme': 1, 'inquiétudes': 1, 'allégement': 1, 'pleurer': 4, 'tard': 2, 'inspiré': 2, 'tumulte': 1, 'disons': 1, 'consulte': 1, 'mêmes': 2, 'descendent': 1, 'étages': 1, 'vivantes': 1, 'indépendante': 1, 'sainte': 1, 'autorité': 1, 'rayon': 1, 'divinité': 2, 'figurer': 1, 'perdu': 5, 'démentir': 1, 'comprendre': 1, 'entend': 1, 'croit': 2, 'entendre': 3, 'assurer': 2, 'obscur': 1, 'demi': 1, 'promet': 1, 'mérite': 1, 'empêche': 1, 'déploie': 1, 'descend': 1, 'renvoie': 1, 'événements': 2, 'règle': 2, 'dessus': 1, 'modérez': 1, 'retour': 1, 'emploierons': 1, 'préparatifs': 1, 'songer': 1, 'fera': 3, 'juger': 2, 'approuver': 1, 'feriezvous': 1, 'attendiez': 1, 'fatales': 1, 'pertes': 3, 'égales': 1, 'parlez': 2, 'sainement': 1, 'autrui': 2, 'plonge': 1, 'auprès': 3, 'sembleront': 1, 'égal': 4, 'détache': 1, 'compare': 1, 'différents': 2, 'demeurent': 1, 'suspendus': 1, 'impossible': 1, 'confondus': 1, 'porter': 4, 'terminer': 2, 'persécuter': 2, 'souhaiter': 4, 'raisonnement': 1, 'oublier': 2, 'efface': 1, 'profonds': 1, 'caractères': 1, 'hait': 1, 'premiers': 2, 'droits': 4, 'nousmêmes': 1, 'brûlez': 1, 'voulez': 2, 'mauvaise': 1, 'jalousie': 1, 'fantaisie': 1, 'comparaison': 1, 'volontaires': 1, 'rendus': 1, 'nécessaires': 1, 'aimâtes': 1, 'connaissez': 1, 'traits': 2, 'bannir': 1, 'maître': 4, 'aveu': 2, 'engageant': 1, 'tyran': 1, 'légitime': 4, 'goûté': 1, 'amorce': 1, 'chaînes': 1, 'belles': 2, 'apporter': 1, 'fâcheuses': 1, 'nouvelles': 2, 'dissimuler': 1, 'ordonnent': 1, 'avouer': 2, 'imaginais': 1, 'injustice': 3, 'bonté': 1, 'consolez': 1, 'importune': 1, 'avons': 2, 'braver': 2, 'pourrions': 2, 'aisément': 3, 'fausse': 1, 'usage': 1, 'voulons': 3, 'passer': 2, 'demandons': 1, 'abaisse': 1, 'exemple': 3, 'frémir': 1, 'mêler': 1, 'gardez': 1, 'blâmer': 1, 'défendre': 2, 'céderais': 1, 'prenais': 1, 'encor': 4, 'tourmente': 1, 'étonnement': 1, 'flétrie': 2, 'moitié': 5, 'refusé': 1, 'avaient': 1, 'mendiée': 1, 'répudiée': 1, 'bientôt': 7, 'vengé': 1, 'mol': 1, 'consentement': 1, 'dépit': 1, 'cèle': 1, 'pitoyable': 1, 'écouté': 1, 'réduite': 2, 'souillés': 1, 'dépendrait': 1, 'prudence': 2, 'éternel': 3, 'repose': 1, 'arme': 2, 'générosité': 1, 'tâchez': 1, 'soulager': 1, 'peines': 2, 'songez': 1, 'romaines': 1, 'devenue': 1, 'glorieux': 2, 'trésor': 1, 'viendra': 2, 'tonnerre': 1, 'univers': 2, 'tremblant': 1, 'deviendra': 1, 'enée': 1, 'venezvous': 2, 'défaits': 1, 'vraiment': 1, 'employé': 1, 'soupir': 2, 'trompe': 2, 'remparts': 1, 'admirer': 2, 'adversaires': 2, 'enfermé': 1, 'sauvé': 2, 'soldats': 1, 'achevé': 1, 'donné': 1, 'retraite': 1, 'jouissent': 1, 'nobles': 2, 'fleurs': 1, 'couverte': 1, 'payé': 1, 'suivi': 3, 'invaincu': 1, 'voisin': 1, 'province': 1, 'irréparable': 1, 'imprime': 1, 'déshonneur': 2, 'race': 4, 'opprobre': 1, 'vouliezvous': 1, 'fît': 1, 'mourût': 1, 'secourût': 1, 'eûtil': 1, 'reculé': 1, 'été': 1, 'laissé': 1, 'cheveux': 1, 'gris': 1, 'comptable': 1, 'goutte': 1, 'épargnée': 1, 'met': 3, 'romprai': 1, 'cours': 4, 'colère': 10, 'usant': 1, 'saura': 1, 'punition': 1, 'désaveu': 1, 'action': 6, 'ardeurs': 1, 'généreuses': 1, 'rendez': 1, 'malheureuses': 1, 'console': 1, 'touchent': 1, 'faiblement': 1, 'voyant': 3, 'monte': 1, 'regardez': 1, 'infâme': 3, 'donnera': 1, 'défenses': 1, 'suprêmes': 1, 'puissances': 1, 'fini': 1, 'propres': 3, 'laveront': 1, 'suivonsle': 1, 'promptement': 1, 'emporte': 1, 'verronsnous': 1, 'sorte': 2, 'faudratil': 1, 'redouter': 1, 'fuie': 1, 'évite': 1, 'derechef': 1, 'troupe': 1, 'céleste': 2, 'prenez': 3, 'sentiment': 3, 'verrez': 1, 'user': 2, 'comblée': 1, 'excuser': 3, 'nombre': 2, 'accablée': 1, 'jugement': 2, 'regard': 1, 'accable': 3, 'vigueur': 2, 'taisezvous': 1, 'envoyé': 1, 'consoler': 1, 'témoigner': 1, 'soulagement': 2, 'couverts': 1, 'ennemie': 2, 'gens': 2, 'tenir': 1, 'eutil': 1, 'maltraitez': 1, 'punir': 5, 'forfait': 4, 'trouvezvous': 2, 'conduite': 1, 'glorieuse': 1, 'redoublez': 1, 'trouver': 2, 'conserve': 1, 'gagne': 1, 'aspire': 2, 'range': 1, 'parlezvous': 1, 'ignorezvous': 1, 'histoire': 1, 'terminé': 1, 'imaginé': 1, 'fuyait': 1, 'savait': 1, 'ménager': 1, 'apprenez': 2, 'tort': 1, 'condamnez': 1, 'resté': 1, 'aventure': 1, 'blessés': 1, 'blessure': 1, 'dangereux': 1, 'prompte': 3, 'ruse': 1, 'divise': 1, 'adroitement': 1, 'abuse': 1, 'pressé': 1, 'selon': 1, 'rencontre': 1, 'blessé': 2, 'poursuivre': 1, 'inégaux': 1, 'séparent': 1, 'poursuite': 1, 'écartés': 1, 'demidomptés': 1, 'indigné': 1, 'osé': 1, 'attaquant': 1, 'ralentit': 1, 'crie': 1, 'second': 1, 'secoure': 1, 'hâte': 1, 'joignant': 1, 'haleine': 1, 'redouble': 1, 'débile': 1, 'appui': 3, 'voulant': 1, 'air': 2, 'résonne': 1, 'angoisse': 1, 'mânes': 4, 'voler': 1, 'incertaine': 1, 'albain': 1, 'traînait': 1, 'marches': 1, 'autel': 1, 'gorge': 1, 'mortel': 3, 'reçoitil': 1, 'défense': 1, 'établit': 1, 'penchant': 1, 'inespéré': 1, 'embrassements': 1, 'formé': 1, 'pourra': 2, 'baigner': 1, 'caresses': 1, 'déployer': 1, 'renvoyer': 1, 'remet': 1, 'pompeux': 1, 'devons': 2, 'bénéfice': 1, 'acquitte': 1, 'chants': 1, 'simples': 1, 'mène': 1, 'tandis': 1, 'office': 3, 'puissamment': 2, 'grêce': 1, 'bouche': 5, 'service': 3, 'devrai': 1, 'injustement': 1, 'domestiques': 2, 'victoires': 2, 'publiques': 2, 'perdez': 1, 'aisée': 1, 'réparer': 1, 'rude': 2, 'donneront': 1, 'justes': 1, 'dissiper': 1, 'aidant': 1, 'régner': 3, 'étouffez': 1, 'tristesse': 2, 'recevezle': 1, 'faitesvous': 1, 'formés': 1, 'ferai': 2, 'infaillibles': 1, 'marques': 4, 'parques': 1, 'tyrans': 1, 'astre': 1, 'injurieux': 1, 'blâmes': 1, 'viton': 2, 'prissent': 1, 'faces': 1, 'fût': 3, 'portât': 1, 'atteinte': 1, 'piteux': 1, 'jouet': 1, 'changements': 1, 'assure': 1, 'travaille': 1, 'calme': 1, 'prépare': 1, 'presque': 2, 'choisit': 1, 'désespère': 1, 'désavouent': 1, 'partie': 2, 'rompue': 1, 'renouent': 1, 'vaincue': 1, 'albains': 1, 'trempé': 1, 'sentaisje': 1, 'légères': 1, 'flattaisje': 1, 'croyais': 2, 'punit': 3, 'éperdue': 1, 'apprend': 1, 'récit': 1, 'odieux': 1, 'bâtissant': 1, 'baiser': 1, 'perce': 1, 'soupirer': 1, 'dégénérons': 1, 'vertueux': 4, 'brutalité': 2, 'éclatez': 1, 'contraindre': 1, 'sauraiton': 1, 'ayez': 1, 'respect': 1, 'éviter': 1, 'croissez': 1, 'aspect': 1, 'offensez': 1, 'plaisir': 2, 'préparonsnous': 1, 'procule': 1, 'maîtres': 1, 'témoins': 2, 'payés': 1, 'exiger': 1, 'vengée': 2, 'satisfaits': 1, 'épandu': 1, 'cesserai': 1, 'affligée': 1, 'oublierai': 1, 'vengera': 1, 'distu': 1, 'malheureuse': 1, 'insupportable': 1, 'audace': 1, 'reviens': 1, 'criminelle': 2, 'respire': 1, 'étouffées': 1, 'bannisles': 1, 'trophées': 1, 'entretien': 1, 'donnemoi': 1, 'tien': 2, 'rendsmoi': 1, 'agir': 3, 'dépendaient': 1, 'adorais': 1, 'vivant': 1, 'laissée': 1, 'revois': 1, 'offensée': 1, 'furie': 1, 'attachée': 1, 'incessamment': 1, 'reprocher': 1, 'tigre': 1, 'altéré': 1, 'défends': 1, 'élevant': 1, 'seconde': 2, 'puissent': 2, 'accompagner': 1, 'tombes': 1, 'souiller': 3, 'vit': 4, 'rage': 3, 'croistu': 1, 'sois': 3, 'souvenir': 2, 'ressentiment': 1, 'adore': 1, 'parce': 1, 'honore': 1, 'conjurés': 1, 'saper': 1, 'fondements': 1, 'assurés': 1, 'italie': 1, 'occident': 1, 'allie': 1, 'cent': 1, 'unis': 1, 'bouts': 1, 'passent': 1, 'monts': 1, 'mers': 1, 'ellemême': 1, 'renverse': 1, 'déchire': 1, 'entrailles': 1, 'allumé': 1, 'pleuvoir': 1, 'déluge': 1, 'puissaije': 1, 'tomber': 1, 'foudre': 2, 'cendre': 1, 'poudre': 2, 'mettant': 1, 'épée': 3, 'poursuivant': 1, 'enfuit': 1, 'patience': 2, 'joindre': 1, 'blessée': 1, 'derrière': 1, 'théâtre': 1, 'traître': 1, 'reçoive': 1, 'châtiment': 3, 'quiconque': 1, 'acte': 1, 'semblable': 1, 'deviez': 1, 'traiter': 1, 'maudit': 1, 'pleins': 1, 'impuissant': 1, 'monstre': 1, 'naissant': 1, 'repaître': 1, 'immole': 3, 'prodigue': 1, 'épargne': 2, 'joins': 1, 'coupable': 5, 'pleurait': 1, 'faute': 1, 'continue': 1, 'sèche': 1, 'cache': 2, 'rendstoi': 1, 'absolu': 2, 'pudique': 1, 'élever': 1, 'descendre': 1, 'embrasse': 1, 'participe': 1, 'tâche': 1, 'revêtir': 1, 'dépouiller': 1, 'mortelle': 1, 'plaise': 1, 'réglant': 1, 'immuable': 1, 'imiter': 1, 'parfaites': 1, 'impute': 1, 'prends': 1, 'posséder': 1, 'inhumaine': 1, 'déplorable': 1, 'pleurons': 1, 'biens': 1, 'veuxtu': 1, 'entrant': 1, 'lâches': 1, 'arment': 2, 'redoublé': 1, 'prétendu': 1, 'recouvre': 1, 'làbas': 1, 'tourment': 1, 'écoute': 1, 'exerce': 1, 'finir': 2, 'importe': 1, 'partir': 1, 'abandonner': 1, 'plaire': 1, 'devientelle': 1, 'retiens': 1, 'sourdes': 1, 'négligez': 1, 'lasse': 1, 'obtiens': 1, 'allonsy': 1, 'employons': 1, 'retirons': 1, 'confondre': 1, 'plaisirs': 1, 'accorde': 1, 'pur': 1, 'déshonoré': 1, 'injuste': 4, 'épargner': 1, 'énorme': 3, 'impuni': 1, 'puni': 3, 'disposez': 1, 'criminel': 3, 'devient': 2, 'profanée': 1, 'mot': 1, 'reprenez': 1, 'brutalement': 1, 'souillé': 2, 'tache': 1, 'actions': 1, 'intéressé': 1, 'taire': 1, 'nulle': 1, 'dissimule': 2, 'cas': 1, 'approuve': 1, 'use': 1, 'extrême': 3, 'vieillesse': 1, 'regardes': 1, 'gardes': 1, 'sire': 19, 'genoux': 2, 'levezvous': 1, 'important': 1, 'parole': 1, 'gage': 1, 'différer': 1, 'davantage': 1, 'rapport': 1, 'doutais': 1, 'portez': 2, 'résolue': 1, 'consolation': 1, 'superflue': 1, 'publique': 1, 'déplaisir': 1, 'expérience': 1, 'âge': 2, 'appris': 1, 'savent': 1, 'appliquer': 1, 'compassion': 1, 'affliction': 1, 'sachez': 1, 'dépose': 1, 'princes': 2, 'achève': 2, 'demidieu': 1, 'parlent': 2, 'irritent': 1, 'méritent': 1, 'ajoutezy': 1, 'diminuer': 1, 'contribuer': 1, 'montré': 1, 'capable': 1, 'périsse': 2, 'arrêtez': 1, 'sauvez': 1, 'sanglant': 1, 'durant': 1, 'uni': 1, 'intéresse': 1, 'forcés': 1, 'offenser': 1, 'autorise': 1, 'épargnera': 1, 'pardonne': 1, 'pressante': 1, 'éclairés': 2, 'nuptial': 1, 'criminels': 1, 'clémence': 1, 'plaira': 1, 'pourrais': 2, 'ajouter': 1, 'mît': 1, 'exploit': 1, 'verriez': 2, 'accuser': 1, 'rejaillir': 1, 'horreurs': 1, 'concevoir': 1, 'beauté': 1, 'émouvoir': 1, 'sentent': 1, 'pensezvous': 1, 'vengeurs': 1, 'innocents': 2, 'parricide': 2, 'acceptent': 1, 'attirerait': 1, 'considérez': 1, 'croyez': 2, 'auteurs': 1, 'souillât': 1, 'décide': 1, 'sauveznous': 1, 'redoutez': 1, 'défendezvous': 1, 'innocent': 2, 'condamnable': 1, 'disposer': 1, 'prive': 1, 'prononcez': 1, 'prêt': 1, 'aiment': 1, 'accuse': 1, 'conspirent': 2, 'différence': 1, 'but': 1, 'arriver': 1, 'flétrir': 1, 'forte': 1, 'écorce': 1, 'dehors': 1, 'gardent': 1, 'éclatante': 1, 'brille': 1, 'remplit': 1, 'merveille': 1, 'seconds': 1, 'déchoir': 1, 'vanterai': 1, 'malaisé': 1, 'celleci': 1, 'réponde': 1, 'parvienne': 1, 'aillent': 1, 'audessous': 1, 'laisser': 1, 'fallaitil': 1, 'eus': 1, 'ternie': 1, 'ignominie': 1, 'congé': 1, 'appartient': 1, 'dérober': 2, 'soutiendront': 1, 'dispense': 1, 'récompense': 1, 'celles': 1, 'désolée': 1, 'sacrés': 2, 'veuille': 1, 'traitezle': 1, 'expiez': 1, 'changerez': 1, 'sacrifier': 2, 'accordez': 1, 'mourra': 1, 'mourrait': 1, 'augmentera': 1, 'finira': 1, 'ennuis': 1, 'effroyable': 1, 'réduits': 1, 'trame': 1, 'coupée': 1, 'servi': 1, 'délivrezmoi': 1, 'nommerai': 1, 'affranchir': 1, 'fâcher': 1, 'sévère': 1, 'répondre': 1, 'veulent': 1, 'interprétation': 5, 'texte': 5, 'ligne': 5, '290': 5, 'programme': 5, 'editiontxtphptoi': 1, 'rejoindre': 1, 'consulter': 1, 'tiennent': 1, 'voulait': 1, 'retombe': 1, 'désavoueront': 1, 'editiontxtphpcontre': 1, 'anime': 1, 'louange': 1, 'due': 1, 'idolâtrie': 1, 'maudire': 1, 'infini': 1, 'animée': 1, 'paternel': 1, 'donnent': 1, 'témoin': 3, 'gardait': 1, 'ignorant': 2, 'trahi': 1, 'charger': 1, 'prendil': 1, 'maltraite': 1, 'editiontxtphptu': 1, 'ceignent': 1, 'rameaux': 1, 'mettez': 1, 'abandonnerezvous': 1, 'couteau': 1, 'choir': 1, 'méchants': 1, 'bourreau': 1, 'souffrirezvous': 1, 'cesserait': 1, 'efforce': 1, 'tacher': 1, 'renom': 2, 'guerrier': 2, 'disnous': 1, 'penses': 1, 'serace': 2, 'résonner': 1, 'bruit': 2, 'places': 1, 'tombeaux': 1, 'champ': 1, 'saurais': 1, 'mettra': 1, 'editiontxtphpvous': 1, 'préviendrez': 1, 'saurez': 1, 'donnez': 1, 'débiles': 1, 'quatre': 1, 'conservezle': 1, 'ôtez': 1, 'puissant': 1, 'adresse': 1, 'editiontxtphphorace': 1, 'stupide': 1, 'tumultueuse': 1, 'contribue': 1, 'dissipe': 1, 'moindres': 1, 'vrais': 1, 'demeurera': 1, 'brillante': 1, 'vulgaire': 1, 'affaire': 1, 'parlé': 1, 'permettezmoi': 1, 'effacés': 1, 'pressantes': 1, 'raisons': 1, 'présentes': 1, 'faite': 1, 'blesse': 1, 'suivons': 1, 'inexcusable': 1, 'sceptres': 1, 'obéirais': 1, 'provinces': 1, 'impuissants': 1, 'acquittent': 1, 'illustres': 1, 'couronnes': 1, 'dons': 1, 'serviteurs': 1, 'audessus': 2, 'taisent': 1, 'libérateur': 1, 'souffert': 1, 'magnanime': 1, 'généreuse': 1, 'résoustoi': 1, 'chassez': 1, 'séchant': 1, 'montrerez': 1, 'prêtres': 1, 'trouvaient': 1, 'purifier': 1, 'prendra': 1, 'facile': 1, 'rigoureux': 1, 'amoureux': 1, 'voie': 1, 'enfermer': 1, 'avertie': 1, 'tragiques': 1, 'préparés': 1, 'nets': 1, 'proche': 1, 'promettre': 1, 'cachant': 1, 'inopinée': 1, 'vraie': 1, 'trompant': 1, 'goûtent': 1, 'vas': 1}\n"
     ]
    }
   ],
   "source": [
    "def ecrire_colonne(distribution, fichier):\n",
    "    \"\"\" Ecrit dans un fichier chaque mot en clef de distribution avec la fréquence associée\n",
    "    dans un fichier donné.\n",
    "    \n",
    "    :param distibution: Dictionnaire où la clef est un mot et la valeur le nombre d'occurrence\n",
    "    :type distribution: dict\n",
    "    :param fichier: Fichier ouvert pour l'écriture\n",
    "    :type fichier: TextIOWrapper\n",
    "    \"\"\"\n",
    "    fichier.write(\"Mot;Distribution\\n\")\n",
    "    for mot, frequence in distribution.items():\n",
    "        fichier.write(mot + \";\" + str(frequence) + '\\n')\n",
    "\n",
    "# Ouvrir le fichier et stocker son contenu\n",
    "with open(\"data/horace.txt\") as fichier:\n",
    "    horace = fichier.read()\n",
    "\n",
    "# Nettoyer le texte de sa ponctuation\n",
    "ponctuation = '!@#$%^&*()_-+={}[]:;\"\\\\|<>,.?/~`'\n",
    "for marqueur in ponctuation:\n",
    "    horace = horace.replace(marqueur, \"\")\n",
    "horace = horace.replace(\"'\", \" \")\n",
    "#tout passer en minuscules\n",
    "horace = horace.lower()\n",
    "\n",
    "# Calculer la distribution\n",
    "mots = horace.split()\n",
    "distribution = {}\n",
    "for mot in mots:\n",
    "    if mot not in distribution:\n",
    "        distribution[mot] = mots.count(mot)\n",
    "print(distribution)\n",
    "\n",
    "# Ouvrir le fichier `frequence_horace.txt` pour écrire\n",
    "with open(\"resultats/frequence_horace.txt\", \"w\") as f:\n",
    "\n",
    "    # Utiliser la fonction ecrire_colonne pour écrire dans ce fichier\n",
    "    ecrire_colonne(distribution, f)\n"
   ]
  },
  {
   "cell_type": "markdown",
   "metadata": {},
   "source": [
    "---"
   ]
  },
  {
   "cell_type": "markdown",
   "metadata": {},
   "source": [
    "---"
   ]
  },
  {
   "cell_type": "markdown",
   "metadata": {},
   "source": [
    "<p><small><a rel=\"license\" href=\"http://creativecommons.org/licenses/by-sa/4.0/\"><img alt=\"Creative Commons License\" style=\"border-width:0\" src=\"https://i.creativecommons.org/l/by-sa/4.0/88x31.png\" /></a><br /><span xmlns:dct=\"http://purl.org/dc/terms/\" property=\"dct:title\">Python Programming for the Humanities</span> by <a xmlns:cc=\"http://creativecommons.org/ns#\" href=\"http://fbkarsdorp.github.io/python-course\" property=\"cc:attributionName\" rel=\"cc:attributionURL\">http://fbkarsdorp.github.io/python-course</a> is licensed under a <a rel=\"license\" href=\"http://creativecommons.org/licenses/by-sa/4.0/\">Creative Commons Attribution-ShareAlike 4.0 International License</a>. Based on a work at <a xmlns:dct=\"http://purl.org/dc/terms/\" href=\"https://github.com/fbkarsdorp/python-course\" rel=\"dct:source\">https://github.com/fbkarsdorp/python-course</a>.</small></p>"
   ]
  }
 ],
 "metadata": {
  "kernelspec": {
   "display_name": "Python 3",
   "language": "python",
   "name": "python3"
  },
  "language_info": {
   "codemirror_mode": {
    "name": "ipython",
    "version": 3
   },
   "file_extension": ".py",
   "mimetype": "text/x-python",
   "name": "python",
   "nbconvert_exporter": "python",
   "pygments_lexer": "ipython3",
   "version": "3.7.3"
  },
  "toc": {
   "base_numbering": 1,
   "nav_menu": {},
   "number_sections": true,
   "sideBar": true,
   "skip_h1_title": false,
   "title_cell": "Table of Contents",
   "title_sidebar": "Contents",
   "toc_cell": false,
   "toc_position": {
    "height": "calc(100% - 180px)",
    "left": "10px",
    "top": "150px",
    "width": "228px"
   },
   "toc_section_display": true,
   "toc_window_display": true
  }
 },
 "nbformat": 4,
 "nbformat_minor": 1
}
